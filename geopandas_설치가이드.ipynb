{
 "cells": [
  {
   "cell_type": "markdown",
   "id": "d4d6158f",
   "metadata": {},
   "source": [
    "# Geopandas 설치\n",
    "\n"
   ]
  },
  {
   "cell_type": "markdown",
   "id": "fb3c86ee",
   "metadata": {},
   "source": [
    "1. 💨가상환경 설치\n",
    "```python\n",
    "conda create --name {원하는 가상환경 이름} python python={원하는 파이썬버젼}\n",
    "```\n",
    "\n",
    "2. 🌕가상환경 활성화\n",
    "```python\n",
    "conda activate {원하는 가상환경 이름}\n",
    "```\n",
    "\n",
    "3. 🌞geopandas에 필요한 의존 모듈 설치\n",
    "\n",
    "    3-1. `pip install wheel`, `pip install pipwin`\n",
    "    \n",
    "    3-2. `pipwin install numpy`, `pipwin install pandas`, `pipwin install shapely`, `pipwin install gdal`, `pipwin install fiona`,\n",
    "    `pipwin install pyproj`, `pipwin install six`, `pipwin install rtree`, `pipwin install geopandas`      \n",
    "\n",
    "4. geopandas 설치 (Prompt 관리자 권한 실행)\n",
    "```python\n",
    "pip install geopandas\n",
    "```\n",
    "\n",
    "\n",
    "\n",
    "5. ✔설치 최종 확인\n",
    "```python\n",
    "import geopandas as gpd\n",
    "```"
   ]
  },
  {
   "cell_type": "code",
   "execution_count": null,
   "id": "2d8e0e43",
   "metadata": {},
   "outputs": [],
   "source": []
  },
  {
   "cell_type": "code",
   "execution_count": null,
   "id": "e112bd71",
   "metadata": {},
   "outputs": [],
   "source": [
    "import geopandas as gpd"
   ]
  }
 ],
 "metadata": {
  "hide_input": false,
  "kernelspec": {
   "display_name": "Python 3 (ipykernel)",
   "language": "python",
   "name": "python3"
  },
  "language_info": {
   "codemirror_mode": {
    "name": "ipython",
    "version": 3
   },
   "file_extension": ".py",
   "mimetype": "text/x-python",
   "name": "python",
   "nbconvert_exporter": "python",
   "pygments_lexer": "ipython3",
   "version": "3.9.12"
  },
  "toc": {
   "base_numbering": 1,
   "nav_menu": {},
   "number_sections": true,
   "sideBar": true,
   "skip_h1_title": false,
   "title_cell": "Table of Contents",
   "title_sidebar": "Contents",
   "toc_cell": false,
   "toc_position": {},
   "toc_section_display": true,
   "toc_window_display": false
  }
 },
 "nbformat": 4,
 "nbformat_minor": 5
}
