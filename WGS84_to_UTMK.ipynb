{
 "cells": [
  {
   "cell_type": "code",
   "execution_count": 5,
   "id": "433216d5",
   "metadata": {
    "ExecuteTime": {
     "end_time": "2022-08-03T07:30:06.196877Z",
     "start_time": "2022-08-03T07:30:06.190896Z"
    }
   },
   "outputs": [],
   "source": [
    "import pandas as pd\n",
    "\n",
    "from pyproj import Proj, transform\n",
    "\n",
    "import warnings\n",
    "warnings.filterwarnings(action='ignore')\n",
    "warnings.simplefilter(action='ignore', category=FutureWarning) # FutureWarning 제거"
   ]
  },
  {
   "cell_type": "code",
   "execution_count": 6,
   "id": "70eb0b05",
   "metadata": {
    "ExecuteTime": {
     "end_time": "2022-08-03T07:30:06.403568Z",
     "start_time": "2022-08-03T07:30:06.379012Z"
    }
   },
   "outputs": [],
   "source": [
    "proj_UTMK = Proj(init = 'epsg:5179')\n",
    "proj_WGS84 = Proj(init = 'epsg:4326')"
   ]
  },
  {
   "cell_type": "code",
   "execution_count": 7,
   "id": "e67faa4e",
   "metadata": {
    "ExecuteTime": {
     "end_time": "2022-08-03T07:30:06.635740Z",
     "start_time": "2022-08-03T07:30:06.576333Z"
    }
   },
   "outputs": [],
   "source": [
    "df_1 = pd.read_csv('./data/위경도추출/01.전_위경도추출.csv')\n",
    "df_2 = pd.read_csv('./data/위경도추출/02.전_위경도추출.csv')\n",
    "df_3 = pd.read_csv('./data/위경도추출/03.전_위경도추출.csv')"
   ]
  },
  {
   "cell_type": "code",
   "execution_count": 10,
   "id": "b048b26c",
   "metadata": {
    "ExecuteTime": {
     "end_time": "2022-08-03T07:46:20.370724Z",
     "start_time": "2022-08-03T07:46:20.355104Z"
    }
   },
   "outputs": [
    {
     "name": "stdout",
     "output_type": "stream",
     "text": [
      "43004\n",
      "40858\n",
      "41216\n"
     ]
    }
   ],
   "source": [
    "print(len(df_1))\n",
    "print(len(df_2))\n",
    "print(len(df_3))"
   ]
  },
  {
   "cell_type": "code",
   "execution_count": 8,
   "id": "5329d35c",
   "metadata": {
    "ExecuteTime": {
     "end_time": "2022-08-03T07:34:04.524582Z",
     "start_time": "2022-08-03T07:34:04.516566Z"
    }
   },
   "outputs": [],
   "source": [
    "def transform_utmk_to_w84(df):\n",
    "    return pd.Series(transform(proj_UTMK, proj_WGS84, df['X'], df['Y']), index = ['위도', '경도'])"
   ]
  },
  {
   "cell_type": "code",
   "execution_count": 9,
   "id": "7f91e022",
   "metadata": {
    "ExecuteTime": {
     "end_time": "2022-08-03T07:46:19.907244Z",
     "start_time": "2022-08-03T07:34:12.732885Z"
    }
   },
   "outputs": [],
   "source": [
    "df_1[['위도', '경도']] = df_1.apply(transform_utmk_to_w84, axis = 1)"
   ]
  },
  {
   "cell_type": "code",
   "execution_count": null,
   "id": "fec047c5",
   "metadata": {
    "ExecuteTime": {
     "end_time": "2022-08-03T08:14:36.611830Z",
     "start_time": "2022-08-03T07:51:00.937565Z"
    }
   },
   "outputs": [],
   "source": [
    "df_2[['위도', '경도']] = df_2.apply(transform_utmk_to_w84, axis = 1)"
   ]
  },
  {
   "cell_type": "code",
   "execution_count": 20,
   "id": "eabb39c7",
   "metadata": {
    "ExecuteTime": {
     "end_time": "2022-08-03T08:36:58.316742Z",
     "start_time": "2022-08-03T08:24:27.449141Z"
    }
   },
   "outputs": [],
   "source": [
    "df_3[['위도', '경도']] = df_3.apply(transform_utmk_to_w84, axis = 1)"
   ]
  },
  {
   "cell_type": "code",
   "execution_count": null,
   "id": "9e63709c",
   "metadata": {},
   "outputs": [],
   "source": []
  },
  {
   "cell_type": "code",
   "execution_count": 14,
   "id": "da12eceb",
   "metadata": {
    "ExecuteTime": {
     "end_time": "2022-08-03T07:50:05.387082Z",
     "start_time": "2022-08-03T07:50:05.159894Z"
    }
   },
   "outputs": [],
   "source": [
    "df_1.to_csv('./data/위경도추출/01.후_위경도추출.csv', encoding = 'euc-kr')"
   ]
  },
  {
   "cell_type": "code",
   "execution_count": null,
   "id": "ded25095",
   "metadata": {
    "ExecuteTime": {
     "end_time": "2022-08-03T08:14:37.071407Z",
     "start_time": "2022-08-03T08:14:36.617813Z"
    }
   },
   "outputs": [],
   "source": [
    "df_2.to_csv('./data/위경도추출/02.후_위경도추출.csv', encoding = 'euc-kr')"
   ]
  },
  {
   "cell_type": "code",
   "execution_count": 21,
   "id": "81edbcec",
   "metadata": {
    "ExecuteTime": {
     "end_time": "2022-08-03T08:36:58.518950Z",
     "start_time": "2022-08-03T08:36:58.316742Z"
    }
   },
   "outputs": [],
   "source": [
    "df_3.to_csv('./data/위경도추출/03.후_위경도추출.csv', encoding = 'euc-kr')"
   ]
  },
  {
   "cell_type": "code",
   "execution_count": null,
   "id": "1a81d94b",
   "metadata": {},
   "outputs": [],
   "source": []
  }
 ],
 "metadata": {
  "hide_input": false,
  "kernelspec": {
   "display_name": "Python 3 (ipykernel)",
   "language": "python",
   "name": "python3"
  },
  "language_info": {
   "codemirror_mode": {
    "name": "ipython",
    "version": 3
   },
   "file_extension": ".py",
   "mimetype": "text/x-python",
   "name": "python",
   "nbconvert_exporter": "python",
   "pygments_lexer": "ipython3",
   "version": "3.9.12"
  },
  "toc": {
   "base_numbering": 1,
   "nav_menu": {},
   "number_sections": true,
   "sideBar": true,
   "skip_h1_title": false,
   "title_cell": "Table of Contents",
   "title_sidebar": "Contents",
   "toc_cell": false,
   "toc_position": {},
   "toc_section_display": true,
   "toc_window_display": false
  }
 },
 "nbformat": 4,
 "nbformat_minor": 5
}
