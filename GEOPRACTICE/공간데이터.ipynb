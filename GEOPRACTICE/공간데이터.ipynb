{
  "nbformat": 4,
  "nbformat_minor": 0,
  "metadata": {
    "colab": {
      "name": "공간데이터과학.ipynb",
      "provenance": [],
      "collapsed_sections": []
    },
    "kernelspec": {
      "name": "python3",
      "display_name": "Python 3"
    },
    "language_info": {
      "name": "python"
    }
  },
  "cells": [
    {
      "cell_type": "code",
      "source": [
        "!pip install geopandas"
      ],
      "metadata": {
        "id": "vmv3zarSC3kr",
        "colab": {
          "base_uri": "https://localhost:8080/"
        },
        "outputId": "d89da600-b04d-40c5-f1c9-9222ca9b9ecc"
      },
      "execution_count": 1,
      "outputs": [
        {
          "output_type": "stream",
          "name": "stdout",
          "text": [
            "Requirement already satisfied: geopandas in /usr/local/lib/python3.7/site-packages (0.10.2)\n",
            "Requirement already satisfied: shapely>=1.6 in /usr/local/lib/python3.7/site-packages (from geopandas) (1.8.2)\n",
            "Requirement already satisfied: pandas>=0.25.0 in /usr/local/lib/python3.7/site-packages (from geopandas) (1.3.5)\n",
            "Requirement already satisfied: fiona>=1.8 in /usr/local/lib/python3.7/site-packages (from geopandas) (1.8.21)\n",
            "Requirement already satisfied: pyproj>=2.2.0 in /usr/local/lib/python3.7/site-packages (from geopandas) (3.2.1)\n",
            "Requirement already satisfied: setuptools in /usr/local/lib/python3.7/site-packages (from fiona>=1.8->geopandas) (49.6.0.post20210108)\n",
            "Requirement already satisfied: attrs>=17 in /usr/local/lib/python3.7/site-packages (from fiona>=1.8->geopandas) (21.4.0)\n",
            "Requirement already satisfied: cligj>=0.5 in /usr/local/lib/python3.7/site-packages (from fiona>=1.8->geopandas) (0.7.2)\n",
            "Requirement already satisfied: certifi in /usr/local/lib/python3.7/site-packages (from fiona>=1.8->geopandas) (2020.12.5)\n",
            "Requirement already satisfied: six>=1.7 in /usr/local/lib/python3.7/site-packages (from fiona>=1.8->geopandas) (1.15.0)\n",
            "Requirement already satisfied: click>=4.0 in /usr/local/lib/python3.7/site-packages (from fiona>=1.8->geopandas) (8.1.3)\n",
            "Requirement already satisfied: click-plugins>=1.0 in /usr/local/lib/python3.7/site-packages (from fiona>=1.8->geopandas) (1.1.1)\n",
            "Requirement already satisfied: munch in /usr/local/lib/python3.7/site-packages (from fiona>=1.8->geopandas) (2.5.0)\n",
            "Requirement already satisfied: importlib-metadata in /usr/local/lib/python3.7/site-packages (from click>=4.0->fiona>=1.8->geopandas) (4.11.3)\n",
            "Requirement already satisfied: python-dateutil>=2.7.3 in /usr/local/lib/python3.7/site-packages (from pandas>=0.25.0->geopandas) (2.8.2)\n",
            "Requirement already satisfied: numpy>=1.17.3 in /usr/local/lib/python3.7/site-packages (from pandas>=0.25.0->geopandas) (1.21.6)\n",
            "Requirement already satisfied: pytz>=2017.3 in /usr/local/lib/python3.7/site-packages (from pandas>=0.25.0->geopandas) (2022.1)\n",
            "Requirement already satisfied: zipp>=0.5 in /usr/local/lib/python3.7/site-packages (from importlib-metadata->click>=4.0->fiona>=1.8->geopandas) (3.8.0)\n",
            "Requirement already satisfied: typing-extensions>=3.6.4 in /usr/local/lib/python3.7/site-packages (from importlib-metadata->click>=4.0->fiona>=1.8->geopandas) (4.2.0)\n"
          ]
        }
      ]
    },
    {
      "cell_type": "code",
      "execution_count": 2,
      "metadata": {
        "id": "MVTKJdAjCyIw",
        "colab": {
          "base_uri": "https://localhost:8080/"
        },
        "outputId": "4d27d365-2ad3-4efb-af7f-7f1ab69c3094"
      },
      "outputs": [
        {
          "output_type": "stream",
          "name": "stdout",
          "text": [
            "0.10.2\n"
          ]
        },
        {
          "output_type": "stream",
          "name": "stderr",
          "text": [
            "/usr/local/lib/python3.7/site-packages/geopandas/_compat.py:115: UserWarning: The Shapely GEOS version (3.10.2-CAPI-1.16.0) is incompatible with the GEOS version PyGEOS was compiled with (3.10.1-CAPI-1.16.0). Conversions between both will be slow.\n",
            "  shapely_geos_version, geos_capi_version_string\n"
          ]
        }
      ],
      "source": [
        "import geopandas as gpd\n",
        "print(gpd.__version__)\n",
        "import pandas as pd\n",
        "import numpy as np\n",
        "\n",
        "import matplotlib.pyplot as plt\n",
        "plt.style.use('seaborn-white')"
      ]
    },
    {
      "cell_type": "code",
      "source": [
        "countries = gpd.read_file(gpd.datasets.get_path('naturalearth_lowres'))\n",
        "cities = gpd.read_file(gpd.datasets.get_path('naturalearth_cities'))\n",
        "\n",
        "countries.tail()"
      ],
      "metadata": {
        "colab": {
          "base_uri": "https://localhost:8080/",
          "height": 206
        },
        "id": "0VI_I4XBLTVc",
        "outputId": "ff5a8cc7-d94a-4d82-b143-bbefd6f890ce"
      },
      "execution_count": 3,
      "outputs": [
        {
          "output_type": "execute_result",
          "data": {
            "text/plain": [
              "      pop_est      continent                 name iso_a3  gdp_md_est  \\\n",
              "172   7111024         Europe               Serbia    SRB    101800.0   \n",
              "173    642550         Europe           Montenegro    MNE     10610.0   \n",
              "174   1895250         Europe               Kosovo    -99     18490.0   \n",
              "175   1218208  North America  Trinidad and Tobago    TTO     43570.0   \n",
              "176  13026129         Africa             S. Sudan    SSD     20880.0   \n",
              "\n",
              "                                              geometry  \n",
              "172  POLYGON ((18.82982 45.90887, 18.82984 45.90888...  \n",
              "173  POLYGON ((20.07070 42.58863, 19.80161 42.50009...  \n",
              "174  POLYGON ((20.59025 41.85541, 20.52295 42.21787...  \n",
              "175  POLYGON ((-61.68000 10.76000, -61.10500 10.890...  \n",
              "176  POLYGON ((30.83385 3.50917, 29.95350 4.17370, ...  "
            ],
            "text/html": [
              "\n",
              "  <div id=\"df-0e2a7b58-319c-4bcc-a12d-eecde648e0a0\">\n",
              "    <div class=\"colab-df-container\">\n",
              "      <div>\n",
              "<style scoped>\n",
              "    .dataframe tbody tr th:only-of-type {\n",
              "        vertical-align: middle;\n",
              "    }\n",
              "\n",
              "    .dataframe tbody tr th {\n",
              "        vertical-align: top;\n",
              "    }\n",
              "\n",
              "    .dataframe thead th {\n",
              "        text-align: right;\n",
              "    }\n",
              "</style>\n",
              "<table border=\"1\" class=\"dataframe\">\n",
              "  <thead>\n",
              "    <tr style=\"text-align: right;\">\n",
              "      <th></th>\n",
              "      <th>pop_est</th>\n",
              "      <th>continent</th>\n",
              "      <th>name</th>\n",
              "      <th>iso_a3</th>\n",
              "      <th>gdp_md_est</th>\n",
              "      <th>geometry</th>\n",
              "    </tr>\n",
              "  </thead>\n",
              "  <tbody>\n",
              "    <tr>\n",
              "      <th>172</th>\n",
              "      <td>7111024</td>\n",
              "      <td>Europe</td>\n",
              "      <td>Serbia</td>\n",
              "      <td>SRB</td>\n",
              "      <td>101800.0</td>\n",
              "      <td>POLYGON ((18.82982 45.90887, 18.82984 45.90888...</td>\n",
              "    </tr>\n",
              "    <tr>\n",
              "      <th>173</th>\n",
              "      <td>642550</td>\n",
              "      <td>Europe</td>\n",
              "      <td>Montenegro</td>\n",
              "      <td>MNE</td>\n",
              "      <td>10610.0</td>\n",
              "      <td>POLYGON ((20.07070 42.58863, 19.80161 42.50009...</td>\n",
              "    </tr>\n",
              "    <tr>\n",
              "      <th>174</th>\n",
              "      <td>1895250</td>\n",
              "      <td>Europe</td>\n",
              "      <td>Kosovo</td>\n",
              "      <td>-99</td>\n",
              "      <td>18490.0</td>\n",
              "      <td>POLYGON ((20.59025 41.85541, 20.52295 42.21787...</td>\n",
              "    </tr>\n",
              "    <tr>\n",
              "      <th>175</th>\n",
              "      <td>1218208</td>\n",
              "      <td>North America</td>\n",
              "      <td>Trinidad and Tobago</td>\n",
              "      <td>TTO</td>\n",
              "      <td>43570.0</td>\n",
              "      <td>POLYGON ((-61.68000 10.76000, -61.10500 10.890...</td>\n",
              "    </tr>\n",
              "    <tr>\n",
              "      <th>176</th>\n",
              "      <td>13026129</td>\n",
              "      <td>Africa</td>\n",
              "      <td>S. Sudan</td>\n",
              "      <td>SSD</td>\n",
              "      <td>20880.0</td>\n",
              "      <td>POLYGON ((30.83385 3.50917, 29.95350 4.17370, ...</td>\n",
              "    </tr>\n",
              "  </tbody>\n",
              "</table>\n",
              "</div>\n",
              "      <button class=\"colab-df-convert\" onclick=\"convertToInteractive('df-0e2a7b58-319c-4bcc-a12d-eecde648e0a0')\"\n",
              "              title=\"Convert this dataframe to an interactive table.\"\n",
              "              style=\"display:none;\">\n",
              "        \n",
              "  <svg xmlns=\"http://www.w3.org/2000/svg\" height=\"24px\"viewBox=\"0 0 24 24\"\n",
              "       width=\"24px\">\n",
              "    <path d=\"M0 0h24v24H0V0z\" fill=\"none\"/>\n",
              "    <path d=\"M18.56 5.44l.94 2.06.94-2.06 2.06-.94-2.06-.94-.94-2.06-.94 2.06-2.06.94zm-11 1L8.5 8.5l.94-2.06 2.06-.94-2.06-.94L8.5 2.5l-.94 2.06-2.06.94zm10 10l.94 2.06.94-2.06 2.06-.94-2.06-.94-.94-2.06-.94 2.06-2.06.94z\"/><path d=\"M17.41 7.96l-1.37-1.37c-.4-.4-.92-.59-1.43-.59-.52 0-1.04.2-1.43.59L10.3 9.45l-7.72 7.72c-.78.78-.78 2.05 0 2.83L4 21.41c.39.39.9.59 1.41.59.51 0 1.02-.2 1.41-.59l7.78-7.78 2.81-2.81c.8-.78.8-2.07 0-2.86zM5.41 20L4 18.59l7.72-7.72 1.47 1.35L5.41 20z\"/>\n",
              "  </svg>\n",
              "      </button>\n",
              "      \n",
              "  <style>\n",
              "    .colab-df-container {\n",
              "      display:flex;\n",
              "      flex-wrap:wrap;\n",
              "      gap: 12px;\n",
              "    }\n",
              "\n",
              "    .colab-df-convert {\n",
              "      background-color: #E8F0FE;\n",
              "      border: none;\n",
              "      border-radius: 50%;\n",
              "      cursor: pointer;\n",
              "      display: none;\n",
              "      fill: #1967D2;\n",
              "      height: 32px;\n",
              "      padding: 0 0 0 0;\n",
              "      width: 32px;\n",
              "    }\n",
              "\n",
              "    .colab-df-convert:hover {\n",
              "      background-color: #E2EBFA;\n",
              "      box-shadow: 0px 1px 2px rgba(60, 64, 67, 0.3), 0px 1px 3px 1px rgba(60, 64, 67, 0.15);\n",
              "      fill: #174EA6;\n",
              "    }\n",
              "\n",
              "    [theme=dark] .colab-df-convert {\n",
              "      background-color: #3B4455;\n",
              "      fill: #D2E3FC;\n",
              "    }\n",
              "\n",
              "    [theme=dark] .colab-df-convert:hover {\n",
              "      background-color: #434B5C;\n",
              "      box-shadow: 0px 1px 3px 1px rgba(0, 0, 0, 0.15);\n",
              "      filter: drop-shadow(0px 1px 2px rgba(0, 0, 0, 0.3));\n",
              "      fill: #FFFFFF;\n",
              "    }\n",
              "  </style>\n",
              "\n",
              "      <script>\n",
              "        const buttonEl =\n",
              "          document.querySelector('#df-0e2a7b58-319c-4bcc-a12d-eecde648e0a0 button.colab-df-convert');\n",
              "        buttonEl.style.display =\n",
              "          google.colab.kernel.accessAllowed ? 'block' : 'none';\n",
              "\n",
              "        async function convertToInteractive(key) {\n",
              "          const element = document.querySelector('#df-0e2a7b58-319c-4bcc-a12d-eecde648e0a0');\n",
              "          const dataTable =\n",
              "            await google.colab.kernel.invokeFunction('convertToInteractive',\n",
              "                                                     [key], {});\n",
              "          if (!dataTable) return;\n",
              "\n",
              "          const docLinkHtml = 'Like what you see? Visit the ' +\n",
              "            '<a target=\"_blank\" href=https://colab.research.google.com/notebooks/data_table.ipynb>data table notebook</a>'\n",
              "            + ' to learn more about interactive tables.';\n",
              "          element.innerHTML = '';\n",
              "          dataTable['output_type'] = 'display_data';\n",
              "          await google.colab.output.renderOutput(dataTable, element);\n",
              "          const docLink = document.createElement('div');\n",
              "          docLink.innerHTML = docLinkHtml;\n",
              "          element.appendChild(docLink);\n",
              "        }\n",
              "      </script>\n",
              "    </div>\n",
              "  </div>\n",
              "  "
            ]
          },
          "metadata": {},
          "execution_count": 3
        }
      ]
    },
    {
      "cell_type": "code",
      "source": [
        "cities.tail()"
      ],
      "metadata": {
        "colab": {
          "base_uri": "https://localhost:8080/",
          "height": 206
        },
        "id": "H14RsGUXLTZc",
        "outputId": "8948d62d-a7d9-4dae-ffe5-a0029e0ebdc3"
      },
      "execution_count": 4,
      "outputs": [
        {
          "output_type": "execute_result",
          "data": {
            "text/plain": [
              "          name                     geometry\n",
              "197      Cairo    POINT (31.24802 30.05191)\n",
              "198      Tokyo   POINT (139.74946 35.68696)\n",
              "199      Paris     POINT (2.33139 48.86864)\n",
              "200   Santiago  POINT (-70.66899 -33.44807)\n",
              "201  Singapore    POINT (103.85387 1.29498)"
            ],
            "text/html": [
              "\n",
              "  <div id=\"df-237ce0a3-415d-4492-abd6-62e51eadeccb\">\n",
              "    <div class=\"colab-df-container\">\n",
              "      <div>\n",
              "<style scoped>\n",
              "    .dataframe tbody tr th:only-of-type {\n",
              "        vertical-align: middle;\n",
              "    }\n",
              "\n",
              "    .dataframe tbody tr th {\n",
              "        vertical-align: top;\n",
              "    }\n",
              "\n",
              "    .dataframe thead th {\n",
              "        text-align: right;\n",
              "    }\n",
              "</style>\n",
              "<table border=\"1\" class=\"dataframe\">\n",
              "  <thead>\n",
              "    <tr style=\"text-align: right;\">\n",
              "      <th></th>\n",
              "      <th>name</th>\n",
              "      <th>geometry</th>\n",
              "    </tr>\n",
              "  </thead>\n",
              "  <tbody>\n",
              "    <tr>\n",
              "      <th>197</th>\n",
              "      <td>Cairo</td>\n",
              "      <td>POINT (31.24802 30.05191)</td>\n",
              "    </tr>\n",
              "    <tr>\n",
              "      <th>198</th>\n",
              "      <td>Tokyo</td>\n",
              "      <td>POINT (139.74946 35.68696)</td>\n",
              "    </tr>\n",
              "    <tr>\n",
              "      <th>199</th>\n",
              "      <td>Paris</td>\n",
              "      <td>POINT (2.33139 48.86864)</td>\n",
              "    </tr>\n",
              "    <tr>\n",
              "      <th>200</th>\n",
              "      <td>Santiago</td>\n",
              "      <td>POINT (-70.66899 -33.44807)</td>\n",
              "    </tr>\n",
              "    <tr>\n",
              "      <th>201</th>\n",
              "      <td>Singapore</td>\n",
              "      <td>POINT (103.85387 1.29498)</td>\n",
              "    </tr>\n",
              "  </tbody>\n",
              "</table>\n",
              "</div>\n",
              "      <button class=\"colab-df-convert\" onclick=\"convertToInteractive('df-237ce0a3-415d-4492-abd6-62e51eadeccb')\"\n",
              "              title=\"Convert this dataframe to an interactive table.\"\n",
              "              style=\"display:none;\">\n",
              "        \n",
              "  <svg xmlns=\"http://www.w3.org/2000/svg\" height=\"24px\"viewBox=\"0 0 24 24\"\n",
              "       width=\"24px\">\n",
              "    <path d=\"M0 0h24v24H0V0z\" fill=\"none\"/>\n",
              "    <path d=\"M18.56 5.44l.94 2.06.94-2.06 2.06-.94-2.06-.94-.94-2.06-.94 2.06-2.06.94zm-11 1L8.5 8.5l.94-2.06 2.06-.94-2.06-.94L8.5 2.5l-.94 2.06-2.06.94zm10 10l.94 2.06.94-2.06 2.06-.94-2.06-.94-.94-2.06-.94 2.06-2.06.94z\"/><path d=\"M17.41 7.96l-1.37-1.37c-.4-.4-.92-.59-1.43-.59-.52 0-1.04.2-1.43.59L10.3 9.45l-7.72 7.72c-.78.78-.78 2.05 0 2.83L4 21.41c.39.39.9.59 1.41.59.51 0 1.02-.2 1.41-.59l7.78-7.78 2.81-2.81c.8-.78.8-2.07 0-2.86zM5.41 20L4 18.59l7.72-7.72 1.47 1.35L5.41 20z\"/>\n",
              "  </svg>\n",
              "      </button>\n",
              "      \n",
              "  <style>\n",
              "    .colab-df-container {\n",
              "      display:flex;\n",
              "      flex-wrap:wrap;\n",
              "      gap: 12px;\n",
              "    }\n",
              "\n",
              "    .colab-df-convert {\n",
              "      background-color: #E8F0FE;\n",
              "      border: none;\n",
              "      border-radius: 50%;\n",
              "      cursor: pointer;\n",
              "      display: none;\n",
              "      fill: #1967D2;\n",
              "      height: 32px;\n",
              "      padding: 0 0 0 0;\n",
              "      width: 32px;\n",
              "    }\n",
              "\n",
              "    .colab-df-convert:hover {\n",
              "      background-color: #E2EBFA;\n",
              "      box-shadow: 0px 1px 2px rgba(60, 64, 67, 0.3), 0px 1px 3px 1px rgba(60, 64, 67, 0.15);\n",
              "      fill: #174EA6;\n",
              "    }\n",
              "\n",
              "    [theme=dark] .colab-df-convert {\n",
              "      background-color: #3B4455;\n",
              "      fill: #D2E3FC;\n",
              "    }\n",
              "\n",
              "    [theme=dark] .colab-df-convert:hover {\n",
              "      background-color: #434B5C;\n",
              "      box-shadow: 0px 1px 3px 1px rgba(0, 0, 0, 0.15);\n",
              "      filter: drop-shadow(0px 1px 2px rgba(0, 0, 0, 0.3));\n",
              "      fill: #FFFFFF;\n",
              "    }\n",
              "  </style>\n",
              "\n",
              "      <script>\n",
              "        const buttonEl =\n",
              "          document.querySelector('#df-237ce0a3-415d-4492-abd6-62e51eadeccb button.colab-df-convert');\n",
              "        buttonEl.style.display =\n",
              "          google.colab.kernel.accessAllowed ? 'block' : 'none';\n",
              "\n",
              "        async function convertToInteractive(key) {\n",
              "          const element = document.querySelector('#df-237ce0a3-415d-4492-abd6-62e51eadeccb');\n",
              "          const dataTable =\n",
              "            await google.colab.kernel.invokeFunction('convertToInteractive',\n",
              "                                                     [key], {});\n",
              "          if (!dataTable) return;\n",
              "\n",
              "          const docLinkHtml = 'Like what you see? Visit the ' +\n",
              "            '<a target=\"_blank\" href=https://colab.research.google.com/notebooks/data_table.ipynb>data table notebook</a>'\n",
              "            + ' to learn more about interactive tables.';\n",
              "          element.innerHTML = '';\n",
              "          dataTable['output_type'] = 'display_data';\n",
              "          await google.colab.output.renderOutput(dataTable, element);\n",
              "          const docLink = document.createElement('div');\n",
              "          docLink.innerHTML = docLinkHtml;\n",
              "          element.appendChild(docLink);\n",
              "        }\n",
              "      </script>\n",
              "    </div>\n",
              "  </div>\n",
              "  "
            ]
          },
          "metadata": {},
          "execution_count": 4
        }
      ]
    },
    {
      "cell_type": "markdown",
      "source": [
        "## 시각화\n",
        "- "
      ],
      "metadata": {
        "id": "G7YQTp5jMU-b"
      }
    },
    {
      "cell_type": "code",
      "source": [
        "ax = countries.plot(column = \"continent\", legend = True, categorical = True)\n",
        "ax.set_title(\"세계 지도\")\n",
        "ax.set_axis_off()\n",
        "plt.show()"
      ],
      "metadata": {
        "colab": {
          "base_uri": "https://localhost:8080/",
          "height": 486
        },
        "id": "9Bto1PFrLTcb",
        "outputId": "a56f4573-0841-4ea7-dea7-2b801f9803f9"
      },
      "execution_count": 5,
      "outputs": [
        {
          "output_type": "stream",
          "name": "stderr",
          "text": [
            "/usr/local/lib/python3.7/dist-packages/matplotlib/backends/backend_agg.py:214: RuntimeWarning: Glyph 49464 missing from current font.\n",
            "  font.set_text(s, 0.0, flags=flags)\n",
            "/usr/local/lib/python3.7/dist-packages/matplotlib/backends/backend_agg.py:214: RuntimeWarning: Glyph 44228 missing from current font.\n",
            "  font.set_text(s, 0.0, flags=flags)\n",
            "/usr/local/lib/python3.7/dist-packages/matplotlib/backends/backend_agg.py:214: RuntimeWarning: Glyph 51648 missing from current font.\n",
            "  font.set_text(s, 0.0, flags=flags)\n",
            "/usr/local/lib/python3.7/dist-packages/matplotlib/backends/backend_agg.py:214: RuntimeWarning: Glyph 46020 missing from current font.\n",
            "  font.set_text(s, 0.0, flags=flags)\n",
            "/usr/local/lib/python3.7/dist-packages/matplotlib/backends/backend_agg.py:183: RuntimeWarning: Glyph 49464 missing from current font.\n",
            "  font.set_text(s, 0, flags=flags)\n",
            "/usr/local/lib/python3.7/dist-packages/matplotlib/backends/backend_agg.py:183: RuntimeWarning: Glyph 44228 missing from current font.\n",
            "  font.set_text(s, 0, flags=flags)\n",
            "/usr/local/lib/python3.7/dist-packages/matplotlib/backends/backend_agg.py:183: RuntimeWarning: Glyph 51648 missing from current font.\n",
            "  font.set_text(s, 0, flags=flags)\n",
            "/usr/local/lib/python3.7/dist-packages/matplotlib/backends/backend_agg.py:183: RuntimeWarning: Glyph 46020 missing from current font.\n",
            "  font.set_text(s, 0, flags=flags)\n"
          ]
        },
        {
          "output_type": "display_data",
          "data": {
            "text/plain": [
              "<Figure size 432x288 with 1 Axes>"
            ],
            "image/png": "[encoded data removed]"
          },
          "metadata": {}
        }
      ]
    },
    {
      "cell_type": "markdown",
      "source": [
        "- 실수형 데이터를 표현하고싶다면, 데이터를 구분하는 방법과 개수를 정의할 수 있다.\n",
        "- `scheme` 인자로 설정하는데, 지원되는 것으로는 \"Equal_interval\"(동일한 간격으로 구분), \"Quantiles\"(4분위수를 구하여 구분), \"Fisher_Jenks\"(클래스 내 분산을 줄이고, 클래스끼리의 분산을 최대화하는 방식으로 구분)가 있다. 구분하는 개수는 `k`인자에 원하는 숫자를 입력하면 된다."
      ],
      "metadata": {
        "id": "3Kd3zh7hRIir"
      }
    },
    {
      "cell_type": "code",
      "source": [
        "!pip install mapclassify>=2.4.0"
      ],
      "metadata": {
        "id": "hJYlsJU-R8kr"
      },
      "execution_count": 6,
      "outputs": []
    },
    {
      "cell_type": "code",
      "source": [
        "# 1인당 GDP 계산\n",
        "countries['gdp_per_cap'] = countries['gdp_md_est'] / countries['pop_est'] * 100\n",
        "\n",
        "ax = countries.plot(column = 'gdp_per_cap', legend = True, scheme = 'quantiles', cmap = 'Blues', k = 5)\n",
        "ax.set_title(\"세계 국가의 1인당 GDP\")\n",
        "ax.set_axis_off()\n",
        "plt.show()"
      ],
      "metadata": {
        "colab": {
          "base_uri": "https://localhost:8080/",
          "height": 694
        },
        "id": "s1HjBAFwLTeb",
        "outputId": "2c7901a6-3c9a-4309-f1ec-2c048f72c369"
      },
      "execution_count": 7,
      "outputs": [
        {
          "output_type": "stream",
          "name": "stderr",
          "text": [
            "/usr/local/lib/python3.7/dist-packages/matplotlib/backends/backend_agg.py:214: RuntimeWarning: Glyph 49464 missing from current font.\n",
            "  font.set_text(s, 0.0, flags=flags)\n",
            "/usr/local/lib/python3.7/dist-packages/matplotlib/backends/backend_agg.py:214: RuntimeWarning: Glyph 44228 missing from current font.\n",
            "  font.set_text(s, 0.0, flags=flags)\n",
            "/usr/local/lib/python3.7/dist-packages/matplotlib/backends/backend_agg.py:214: RuntimeWarning: Glyph 44397 missing from current font.\n",
            "  font.set_text(s, 0.0, flags=flags)\n",
            "/usr/local/lib/python3.7/dist-packages/matplotlib/backends/backend_agg.py:214: RuntimeWarning: Glyph 44032 missing from current font.\n",
            "  font.set_text(s, 0.0, flags=flags)\n",
            "/usr/local/lib/python3.7/dist-packages/matplotlib/backends/backend_agg.py:214: RuntimeWarning: Glyph 51032 missing from current font.\n",
            "  font.set_text(s, 0.0, flags=flags)\n",
            "/usr/local/lib/python3.7/dist-packages/matplotlib/backends/backend_agg.py:214: RuntimeWarning: Glyph 51064 missing from current font.\n",
            "  font.set_text(s, 0.0, flags=flags)\n",
            "/usr/local/lib/python3.7/dist-packages/matplotlib/backends/backend_agg.py:214: RuntimeWarning: Glyph 45817 missing from current font.\n",
            "  font.set_text(s, 0.0, flags=flags)\n",
            "/usr/local/lib/python3.7/dist-packages/matplotlib/backends/backend_agg.py:183: RuntimeWarning: Glyph 49464 missing from current font.\n",
            "  font.set_text(s, 0, flags=flags)\n",
            "/usr/local/lib/python3.7/dist-packages/matplotlib/backends/backend_agg.py:183: RuntimeWarning: Glyph 44228 missing from current font.\n",
            "  font.set_text(s, 0, flags=flags)\n",
            "/usr/local/lib/python3.7/dist-packages/matplotlib/backends/backend_agg.py:183: RuntimeWarning: Glyph 44397 missing from current font.\n",
            "  font.set_text(s, 0, flags=flags)\n",
            "/usr/local/lib/python3.7/dist-packages/matplotlib/backends/backend_agg.py:183: RuntimeWarning: Glyph 44032 missing from current font.\n",
            "  font.set_text(s, 0, flags=flags)\n",
            "/usr/local/lib/python3.7/dist-packages/matplotlib/backends/backend_agg.py:183: RuntimeWarning: Glyph 51032 missing from current font.\n",
            "  font.set_text(s, 0, flags=flags)\n",
            "/usr/local/lib/python3.7/dist-packages/matplotlib/backends/backend_agg.py:183: RuntimeWarning: Glyph 51064 missing from current font.\n",
            "  font.set_text(s, 0, flags=flags)\n",
            "/usr/local/lib/python3.7/dist-packages/matplotlib/backends/backend_agg.py:183: RuntimeWarning: Glyph 45817 missing from current font.\n",
            "  font.set_text(s, 0, flags=flags)\n"
          ]
        },
        {
          "output_type": "display_data",
          "data": {
            "text/plain": [
              "<Figure size 432x288 with 1 Axes>"
            ],
            "image/png": "[encoded data removed]"
          },
          "metadata": {}
        }
      ]
    },
    {
      "cell_type": "markdown",
      "source": [
        "## Geometry  데이터\n",
        "- `Shapely`라는 패키지를 통해 **Geometry 데이터를 처리**한다. \n",
        "\n",
        "### Polygons\n",
        "- 한 국가의 영토 따위 등은 여러 개의 점을 이은 다각형으로 나타낼 수 있다. "
      ],
      "metadata": {
        "id": "bzFNZGbhQRZx"
      }
    },
    {
      "cell_type": "code",
      "source": [
        "countries.geom_type"
      ],
      "metadata": {
        "colab": {
          "base_uri": "https://localhost:8080/"
        },
        "id": "vtlGFkPvLTg7",
        "outputId": "db95b548-8e40-4456-ded6-17029ca32b92"
      },
      "execution_count": 8,
      "outputs": [
        {
          "output_type": "execute_result",
          "data": {
            "text/plain": [
              "0      MultiPolygon\n",
              "1           Polygon\n",
              "2           Polygon\n",
              "3      MultiPolygon\n",
              "4      MultiPolygon\n",
              "           ...     \n",
              "172         Polygon\n",
              "173         Polygon\n",
              "174         Polygon\n",
              "175         Polygon\n",
              "176         Polygon\n",
              "Length: 177, dtype: object"
            ]
          },
          "metadata": {},
          "execution_count": 8
        }
      ]
    },
    {
      "cell_type": "markdown",
      "source": [
        "### Points\n",
        "- 어떤 사건이 발생한 위치, 한 국가의 수도, 두 국가간의 중앙점 등은 하나의 좌표로 나타낼 수 있다. "
      ],
      "metadata": {
        "id": "Oe4HnUmoQru9"
      }
    },
    {
      "cell_type": "code",
      "source": [
        "cities.geom_type[:3]"
      ],
      "metadata": {
        "colab": {
          "base_uri": "https://localhost:8080/"
        },
        "id": "pUPb-u1jLTlj",
        "outputId": "95373f45-81e3-4584-eef6-9d8c949d2130"
      },
      "execution_count": 9,
      "outputs": [
        {
          "output_type": "execute_result",
          "data": {
            "text/plain": [
              "0    Point\n",
              "1    Point\n",
              "2    Point\n",
              "dtype: object"
            ]
          },
          "metadata": {},
          "execution_count": 9
        }
      ]
    },
    {
      "cell_type": "code",
      "source": [
        "base = countries.plot(color = 'white', edgecolor = 'k')\n",
        "ax = cities.plot(ax = base, marker = 'o', color = 'red', markersize = 5)\n",
        "ax.set_axis_off()\n",
        "ax.set_title(\"세계 도시 분포\")\n",
        "plt.show()"
      ],
      "metadata": {
        "colab": {
          "base_uri": "https://localhost:8080/",
          "height": 628
        },
        "id": "OxbLEYFzQrFD",
        "outputId": "1bdba266-48ac-4c6f-fddb-dd4ab96c5c39"
      },
      "execution_count": 10,
      "outputs": [
        {
          "output_type": "stream",
          "name": "stderr",
          "text": [
            "/usr/local/lib/python3.7/dist-packages/matplotlib/backends/backend_agg.py:214: RuntimeWarning: Glyph 49464 missing from current font.\n",
            "  font.set_text(s, 0.0, flags=flags)\n",
            "/usr/local/lib/python3.7/dist-packages/matplotlib/backends/backend_agg.py:214: RuntimeWarning: Glyph 44228 missing from current font.\n",
            "  font.set_text(s, 0.0, flags=flags)\n",
            "/usr/local/lib/python3.7/dist-packages/matplotlib/backends/backend_agg.py:214: RuntimeWarning: Glyph 46020 missing from current font.\n",
            "  font.set_text(s, 0.0, flags=flags)\n",
            "/usr/local/lib/python3.7/dist-packages/matplotlib/backends/backend_agg.py:214: RuntimeWarning: Glyph 49884 missing from current font.\n",
            "  font.set_text(s, 0.0, flags=flags)\n",
            "/usr/local/lib/python3.7/dist-packages/matplotlib/backends/backend_agg.py:214: RuntimeWarning: Glyph 48516 missing from current font.\n",
            "  font.set_text(s, 0.0, flags=flags)\n",
            "/usr/local/lib/python3.7/dist-packages/matplotlib/backends/backend_agg.py:214: RuntimeWarning: Glyph 54252 missing from current font.\n",
            "  font.set_text(s, 0.0, flags=flags)\n",
            "/usr/local/lib/python3.7/dist-packages/matplotlib/backends/backend_agg.py:183: RuntimeWarning: Glyph 49464 missing from current font.\n",
            "  font.set_text(s, 0, flags=flags)\n",
            "/usr/local/lib/python3.7/dist-packages/matplotlib/backends/backend_agg.py:183: RuntimeWarning: Glyph 44228 missing from current font.\n",
            "  font.set_text(s, 0, flags=flags)\n",
            "/usr/local/lib/python3.7/dist-packages/matplotlib/backends/backend_agg.py:183: RuntimeWarning: Glyph 46020 missing from current font.\n",
            "  font.set_text(s, 0, flags=flags)\n",
            "/usr/local/lib/python3.7/dist-packages/matplotlib/backends/backend_agg.py:183: RuntimeWarning: Glyph 49884 missing from current font.\n",
            "  font.set_text(s, 0, flags=flags)\n",
            "/usr/local/lib/python3.7/dist-packages/matplotlib/backends/backend_agg.py:183: RuntimeWarning: Glyph 48516 missing from current font.\n",
            "  font.set_text(s, 0, flags=flags)\n",
            "/usr/local/lib/python3.7/dist-packages/matplotlib/backends/backend_agg.py:183: RuntimeWarning: Glyph 54252 missing from current font.\n",
            "  font.set_text(s, 0, flags=flags)\n"
          ]
        },
        {
          "output_type": "display_data",
          "data": {
            "text/plain": [
              "<Figure size 432x288 with 1 Axes>"
            ],
            "image/png": "[encoded data removed]"
          },
          "metadata": {}
        }
      ]
    },
    {
      "cell_type": "markdown",
      "source": [
        "### LineString\n",
        "- 점과 점을 이은 것은 선이 된다. 두 도시 사이의 길, 강의흐름, 국경의 생김새, 경계면 정보 등을 선으로 나타낼 수 있다. 다음 코드는 우리나라의 육지를 선으로 나타낸 것이다. 여기서 사용되는 `squeeze()`함수는 geopandas 객체에서 Geometry 데이터만을 추출해주는 기능을 한다. "
      ],
      "metadata": {
        "id": "G5B-ue2cSG33"
      }
    },
    {
      "cell_type": "code",
      "source": [
        "korea_border = countries[countries.name == 'South Korea'].geometry\n",
        "\n",
        "korea_border.boundary.squeeze()"
      ],
      "metadata": {
        "colab": {
          "base_uri": "https://localhost:8080/",
          "height": 122
        },
        "id": "JWXvqCKDQrHr",
        "outputId": "6241175a-73e0-4f5a-e508-2350c2757441"
      },
      "execution_count": 11,
      "outputs": [
        {
          "output_type": "execute_result",
          "data": {
            "text/plain": [
              "<shapely.geometry.linestring.LineString at 0x7f3349f372d0>"
            ],
            "image/svg+xml": "<svg xmlns=\"http://www.w3.org/2000/svg\" xmlns:xlink=\"http://www.w3.org/1999/xlink\" width=\"100.0\" height=\"100.0\" viewBox=\"125.94851002004464 34.22115800224883 3.68868234050953 4.559972827166675\" preserveAspectRatio=\"xMinYMin meet\"><g transform=\"matrix(1,0,0,-1,0,73.00228883166433)\"><polyline fill=\"none\" stroke=\"#66cc99\" stroke-width=\"0.0911994565433335\" points=\"126.17475874237624,37.74968577732804 126.23733890188176,37.84037791600028 126.68371992401893,37.80477285415118 127.07330854706737,38.2561148137884 127.78003543509101,38.30453563084589 128.20574588431145,38.37039724380189 128.34971642467661,38.61224294692785 129.21291954968007,37.43239248305595 129.46044966035817,36.78418915460283 129.4683044780665,35.63214061130395 129.0913765809296,35.082484239231434 128.1858504578791,34.89037710218639 127.3865194031884,34.47567373304412 126.48574751190876,34.39004588473648 126.37391971242914,34.934560451795946 126.55923139862779,35.6845405136479 126.11739790253229,36.72548472751926 126.86014326386339,36.893924058574626 126.17475874237624,37.74968577732804\" opacity=\"0.8\" /></g></svg>"
          },
          "metadata": {},
          "execution_count": 11
        }
      ]
    },
    {
      "cell_type": "markdown",
      "source": [
        "## Geometry 데이터의 속성\n",
        "- 지리 정보의 속성\n",
        "    - `area` : 넓이\n",
        "    - `boundary` : 테두리\n",
        "    - `centroid` : 중앙지점\n",
        "\n",
        "- 그리고 두 geometry 간의 거리를 계산해주는 함수 또한 유용하게 사용된다.\n",
        "    - `distance` : 두 점 사이의 거리\n",
        "\n",
        "- 넓이, 거리는 우리가 흔히 사용되는 제곱미터, 마일, 킬로미터 등의 단위를 사용하는 것이 아니다. 그래서 같은 객체 안에서의 비교만 가능하다."
      ],
      "metadata": {
        "id": "KoWwONfVSiKf"
      }
    },
    {
      "cell_type": "markdown",
      "source": [
        "# Geopandas의 지리 데이터 간의 관계 연산\n",
        "\n",
        "- geopandas는 지리데이터 간의 관계를 연산해주는 기능을 가지고 있다. 관계를 연산한다는 말은, 두 데이터가 교차하는지, 하나가 다른 하나의 내부에 있는지 등을 말한다.\n",
        "\n",
        "- 좌표 데이터를 `Shapely`의 `Geometry` 자료형으로 만들면, 불러온 데이터셋을 이용해, 어떤 도시가 어느 나라 안에 있는지, 도시까지의 거리는 얼마나 되는지, 어떤 도시가 두 도시 사이에 존재하는지 등의 관계를 알 수 있다.\n",
        "\n",
        "## 관계 연산 예제\n",
        "\n",
        "- 지리적 관계에 대한 경우의 수는 매우 많이 때문에, 간단한 예제를 통해 기본적인 관계연산을 알아보자.\n",
        "\n",
        "- 동북아시아의 주요 국가와 도시를 각각 선과 점으로 나타내고, 도시들을 이어주자."
      ],
      "metadata": {
        "id": "jzMMdj0mS08T"
      }
    },
    {
      "cell_type": "code",
      "source": [
        " from shapely.geometry import Point, Polygon, LineString\n",
        "\n",
        " northern_asia = countries.loc[countries['name'].isin(['South Korea', 'China', 'Japan'])]\n",
        " base = northern_asia.plot(figsize = (15, 15), color = 'w', edgecolor = 'm')\n",
        "\n",
        " # 도시 geometry 정보\n",
        " seoul = cities.loc[cities.name == 'Seoul', 'geometry'].squeeze()\n",
        " beijing = cities.loc[cities.name == 'Beijing', 'geometry'].squeeze()\n",
        " tokyo = cities.loc[cities.name == 'Tokyo', 'geometry'].squeeze()\n",
        "\n",
        "# 라인 ㅓㅈㅇ의\n",
        "line = LineString([beijing, seoul, tokyo])\n",
        "\n",
        "# 시각화\n",
        "ax = gpd.GeoSeries([seoul, beijing, tokyo, line]).plot(ax = base, color = 'k', edgecolor = 'k', lw = 1)\n",
        "ax.set_title(\"동북아시아 지도\")\n",
        "ax.set_axis_off()\n",
        "plt.show()"
      ],
      "metadata": {
        "colab": {
          "base_uri": "https://localhost:8080/",
          "height": 874
        },
        "id": "Avx2F3V2QrKD",
        "outputId": "cb2b6143-6bd4-4e70-ca56-12a211bc3fe6"
      },
      "execution_count": 12,
      "outputs": [
        {
          "output_type": "stream",
          "name": "stderr",
          "text": [
            "/usr/local/lib/python3.7/dist-packages/matplotlib/backends/backend_agg.py:214: RuntimeWarning: Glyph 46041 missing from current font.\n",
            "  font.set_text(s, 0.0, flags=flags)\n",
            "/usr/local/lib/python3.7/dist-packages/matplotlib/backends/backend_agg.py:214: RuntimeWarning: Glyph 48513 missing from current font.\n",
            "  font.set_text(s, 0.0, flags=flags)\n",
            "/usr/local/lib/python3.7/dist-packages/matplotlib/backends/backend_agg.py:214: RuntimeWarning: Glyph 50500 missing from current font.\n",
            "  font.set_text(s, 0.0, flags=flags)\n",
            "/usr/local/lib/python3.7/dist-packages/matplotlib/backends/backend_agg.py:214: RuntimeWarning: Glyph 49884 missing from current font.\n",
            "  font.set_text(s, 0.0, flags=flags)\n",
            "/usr/local/lib/python3.7/dist-packages/matplotlib/backends/backend_agg.py:214: RuntimeWarning: Glyph 51648 missing from current font.\n",
            "  font.set_text(s, 0.0, flags=flags)\n",
            "/usr/local/lib/python3.7/dist-packages/matplotlib/backends/backend_agg.py:214: RuntimeWarning: Glyph 46020 missing from current font.\n",
            "  font.set_text(s, 0.0, flags=flags)\n",
            "/usr/local/lib/python3.7/dist-packages/matplotlib/backends/backend_agg.py:183: RuntimeWarning: Glyph 46041 missing from current font.\n",
            "  font.set_text(s, 0, flags=flags)\n",
            "/usr/local/lib/python3.7/dist-packages/matplotlib/backends/backend_agg.py:183: RuntimeWarning: Glyph 48513 missing from current font.\n",
            "  font.set_text(s, 0, flags=flags)\n",
            "/usr/local/lib/python3.7/dist-packages/matplotlib/backends/backend_agg.py:183: RuntimeWarning: Glyph 50500 missing from current font.\n",
            "  font.set_text(s, 0, flags=flags)\n",
            "/usr/local/lib/python3.7/dist-packages/matplotlib/backends/backend_agg.py:183: RuntimeWarning: Glyph 49884 missing from current font.\n",
            "  font.set_text(s, 0, flags=flags)\n",
            "/usr/local/lib/python3.7/dist-packages/matplotlib/backends/backend_agg.py:183: RuntimeWarning: Glyph 51648 missing from current font.\n",
            "  font.set_text(s, 0, flags=flags)\n",
            "/usr/local/lib/python3.7/dist-packages/matplotlib/backends/backend_agg.py:183: RuntimeWarning: Glyph 46020 missing from current font.\n",
            "  font.set_text(s, 0, flags=flags)\n"
          ]
        },
        {
          "output_type": "display_data",
          "data": {
            "text/plain": [
              "<Figure size 1080x1080 with 1 Axes>"
            ],
            "image/png": "[encoded data removed]"
          },
          "metadata": {}
        }
      ]
    },
    {
      "cell_type": "markdown",
      "source": [
        "## 기본적인 관계 연산 함수\n",
        "출력값은 boolean 값이다.\n",
        "- 기본 관계 연산\n",
        "    - `within` : 지리적으로 포함되는지 여부\n",
        "    - `contains` : 지리적으로 포함하고 있는지 여부\n",
        "    - `intersects` : 지리적으로 교차하는지 여부, 두 지리가 경계선만 닿아있어도, True를 반환\n",
        "    - `crosses` : 지리적으로 교차하는지 여부, intersects와 차이점은 crosses는 내부를 지나가야만 True를 반환한다는 것."
      ],
      "metadata": {
        "id": "zxexejYfT4PF"
      }
    },
    {
      "cell_type": "code",
      "source": [
        "## 나라의 geometry 정보를 squeeze() 함수로 빼옴\n",
        "korea = countries.loc[countries['name'] == 'South Korea', 'geometry'].squeeze()\n",
        "china = countries.loc[countries['name'] == 'China', 'geometry'].squeeze()\n",
        "japan = countries.loc[countries['name'] == 'Japan', 'geometry'].squeeze()\n",
        "\n",
        "# 서울은 한국 안에 있다.\n",
        "seoul.within(korea)"
      ],
      "metadata": {
        "colab": {
          "base_uri": "https://localhost:8080/"
        },
        "id": "4EXOkaiuQrMb",
        "outputId": "68a51d51-08f4-4c2d-c02d-ddc752973fdf"
      },
      "execution_count": 13,
      "outputs": [
        {
          "output_type": "execute_result",
          "data": {
            "text/plain": [
              "True"
            ]
          },
          "metadata": {},
          "execution_count": 13
        }
      ]
    },
    {
      "cell_type": "code",
      "source": [
        "korea.contains(seoul)"
      ],
      "metadata": {
        "colab": {
          "base_uri": "https://localhost:8080/"
        },
        "id": "dssw0FqjQrOr",
        "outputId": "c8b1ef5c-2d71-441f-a485-65423d069044"
      },
      "execution_count": 14,
      "outputs": [
        {
          "output_type": "execute_result",
          "data": {
            "text/plain": [
              "True"
            ]
          },
          "metadata": {},
          "execution_count": 14
        }
      ]
    },
    {
      "cell_type": "code",
      "source": [
        "# 중국과 한국의 국경은 맞닿아 있지 않다.\n",
        "china.intersects(korea)"
      ],
      "metadata": {
        "colab": {
          "base_uri": "https://localhost:8080/"
        },
        "id": "sthmlle5QrRD",
        "outputId": "74cc637e-252e-4921-dc40-d0d92b25e49f"
      },
      "execution_count": 15,
      "outputs": [
        {
          "output_type": "execute_result",
          "data": {
            "text/plain": [
              "False"
            ]
          },
          "metadata": {},
          "execution_count": 15
        }
      ]
    },
    {
      "cell_type": "code",
      "source": [
        "# 홍콩, 베이징, 도쿄, 서울을 잇는 선은 한국을 지나간다.\n",
        "line.crosses(korea)"
      ],
      "metadata": {
        "colab": {
          "base_uri": "https://localhost:8080/"
        },
        "id": "QS4vs4-vQrTb",
        "outputId": "3b1a4e14-7964-4ffd-9f2e-f78686d6d9a0"
      },
      "execution_count": 16,
      "outputs": [
        {
          "output_type": "execute_result",
          "data": {
            "text/plain": [
              "True"
            ]
          },
          "metadata": {},
          "execution_count": 16
        }
      ]
    },
    {
      "cell_type": "code",
      "source": [
        "# 데이터 검색도 가능\n",
        "\n",
        "countries[countries.contains(seoul)]"
      ],
      "metadata": {
        "colab": {
          "base_uri": "https://localhost:8080/",
          "height": 81
        },
        "id": "WWaeP4VoQrV7",
        "outputId": "a7bf1656-e9f1-420a-cd60-0b41a3e7fba5"
      },
      "execution_count": 17,
      "outputs": [
        {
          "output_type": "execute_result",
          "data": {
            "text/plain": [
              "     pop_est continent         name iso_a3  gdp_md_est  \\\n",
              "96  51181299      Asia  South Korea    KOR   1929000.0   \n",
              "\n",
              "                                             geometry  gdp_per_cap  \n",
              "96  POLYGON ((126.17476 37.74969, 126.23734 37.840...     3.768955  "
            ],
            "text/html": [
              "\n",
              "  <div id=\"df-4c03dc9a-6cf6-40f4-8406-1bec02da271c\">\n",
              "    <div class=\"colab-df-container\">\n",
              "      <div>\n",
              "<style scoped>\n",
              "    .dataframe tbody tr th:only-of-type {\n",
              "        vertical-align: middle;\n",
              "    }\n",
              "\n",
              "    .dataframe tbody tr th {\n",
              "        vertical-align: top;\n",
              "    }\n",
              "\n",
              "    .dataframe thead th {\n",
              "        text-align: right;\n",
              "    }\n",
              "</style>\n",
              "<table border=\"1\" class=\"dataframe\">\n",
              "  <thead>\n",
              "    <tr style=\"text-align: right;\">\n",
              "      <th></th>\n",
              "      <th>pop_est</th>\n",
              "      <th>continent</th>\n",
              "      <th>name</th>\n",
              "      <th>iso_a3</th>\n",
              "      <th>gdp_md_est</th>\n",
              "      <th>geometry</th>\n",
              "      <th>gdp_per_cap</th>\n",
              "    </tr>\n",
              "  </thead>\n",
              "  <tbody>\n",
              "    <tr>\n",
              "      <th>96</th>\n",
              "      <td>51181299</td>\n",
              "      <td>Asia</td>\n",
              "      <td>South Korea</td>\n",
              "      <td>KOR</td>\n",
              "      <td>1929000.0</td>\n",
              "      <td>POLYGON ((126.17476 37.74969, 126.23734 37.840...</td>\n",
              "      <td>3.768955</td>\n",
              "    </tr>\n",
              "  </tbody>\n",
              "</table>\n",
              "</div>\n",
              "      <button class=\"colab-df-convert\" onclick=\"convertToInteractive('df-4c03dc9a-6cf6-40f4-8406-1bec02da271c')\"\n",
              "              title=\"Convert this dataframe to an interactive table.\"\n",
              "              style=\"display:none;\">\n",
              "        \n",
              "  <svg xmlns=\"http://www.w3.org/2000/svg\" height=\"24px\"viewBox=\"0 0 24 24\"\n",
              "       width=\"24px\">\n",
              "    <path d=\"M0 0h24v24H0V0z\" fill=\"none\"/>\n",
              "    <path d=\"M18.56 5.44l.94 2.06.94-2.06 2.06-.94-2.06-.94-.94-2.06-.94 2.06-2.06.94zm-11 1L8.5 8.5l.94-2.06 2.06-.94-2.06-.94L8.5 2.5l-.94 2.06-2.06.94zm10 10l.94 2.06.94-2.06 2.06-.94-2.06-.94-.94-2.06-.94 2.06-2.06.94z\"/><path d=\"M17.41 7.96l-1.37-1.37c-.4-.4-.92-.59-1.43-.59-.52 0-1.04.2-1.43.59L10.3 9.45l-7.72 7.72c-.78.78-.78 2.05 0 2.83L4 21.41c.39.39.9.59 1.41.59.51 0 1.02-.2 1.41-.59l7.78-7.78 2.81-2.81c.8-.78.8-2.07 0-2.86zM5.41 20L4 18.59l7.72-7.72 1.47 1.35L5.41 20z\"/>\n",
              "  </svg>\n",
              "      </button>\n",
              "      \n",
              "  <style>\n",
              "    .colab-df-container {\n",
              "      display:flex;\n",
              "      flex-wrap:wrap;\n",
              "      gap: 12px;\n",
              "    }\n",
              "\n",
              "    .colab-df-convert {\n",
              "      background-color: #E8F0FE;\n",
              "      border: none;\n",
              "      border-radius: 50%;\n",
              "      cursor: pointer;\n",
              "      display: none;\n",
              "      fill: #1967D2;\n",
              "      height: 32px;\n",
              "      padding: 0 0 0 0;\n",
              "      width: 32px;\n",
              "    }\n",
              "\n",
              "    .colab-df-convert:hover {\n",
              "      background-color: #E2EBFA;\n",
              "      box-shadow: 0px 1px 2px rgba(60, 64, 67, 0.3), 0px 1px 3px 1px rgba(60, 64, 67, 0.15);\n",
              "      fill: #174EA6;\n",
              "    }\n",
              "\n",
              "    [theme=dark] .colab-df-convert {\n",
              "      background-color: #3B4455;\n",
              "      fill: #D2E3FC;\n",
              "    }\n",
              "\n",
              "    [theme=dark] .colab-df-convert:hover {\n",
              "      background-color: #434B5C;\n",
              "      box-shadow: 0px 1px 3px 1px rgba(0, 0, 0, 0.15);\n",
              "      filter: drop-shadow(0px 1px 2px rgba(0, 0, 0, 0.3));\n",
              "      fill: #FFFFFF;\n",
              "    }\n",
              "  </style>\n",
              "\n",
              "      <script>\n",
              "        const buttonEl =\n",
              "          document.querySelector('#df-4c03dc9a-6cf6-40f4-8406-1bec02da271c button.colab-df-convert');\n",
              "        buttonEl.style.display =\n",
              "          google.colab.kernel.accessAllowed ? 'block' : 'none';\n",
              "\n",
              "        async function convertToInteractive(key) {\n",
              "          const element = document.querySelector('#df-4c03dc9a-6cf6-40f4-8406-1bec02da271c');\n",
              "          const dataTable =\n",
              "            await google.colab.kernel.invokeFunction('convertToInteractive',\n",
              "                                                     [key], {});\n",
              "          if (!dataTable) return;\n",
              "\n",
              "          const docLinkHtml = 'Like what you see? Visit the ' +\n",
              "            '<a target=\"_blank\" href=https://colab.research.google.com/notebooks/data_table.ipynb>data table notebook</a>'\n",
              "            + ' to learn more about interactive tables.';\n",
              "          element.innerHTML = '';\n",
              "          dataTable['output_type'] = 'display_data';\n",
              "          await google.colab.output.renderOutput(dataTable, element);\n",
              "          const docLink = document.createElement('div');\n",
              "          docLink.innerHTML = docLinkHtml;\n",
              "          element.appendChild(docLink);\n",
              "        }\n",
              "      </script>\n",
              "    </div>\n",
              "  </div>\n",
              "  "
            ]
          },
          "metadata": {},
          "execution_count": 17
        }
      ]
    },
    {
      "cell_type": "markdown",
      "source": [
        "## 속성을 이용한 연산"
      ],
      "metadata": {
        "id": "SkCSTwqGXldv"
      }
    },
    {
      "cell_type": "code",
      "source": [
        "# 서울에서 베이징까지의 거리\n",
        "seoul.distance(beijing)"
      ],
      "metadata": {
        "colab": {
          "base_uri": "https://localhost:8080/"
        },
        "id": "wQ0fG2HMQrYb",
        "outputId": "4fd21870-00b1-4ca4-b07b-8916e7d51c0f"
      },
      "execution_count": 18,
      "outputs": [
        {
          "output_type": "execute_result",
          "data": {
            "text/plain": [
              "10.871264032732043"
            ]
          },
          "metadata": {},
          "execution_count": 18
        }
      ]
    },
    {
      "cell_type": "code",
      "source": [
        "# 한국의 면적과 중국면적의 비율\n",
        "china.area / korea.area"
      ],
      "metadata": {
        "colab": {
          "base_uri": "https://localhost:8080/"
        },
        "id": "j8nCft-GQra7",
        "outputId": "942aea86-5f29-4498-9e57-ba78f6bf2a88"
      },
      "execution_count": 19,
      "outputs": [
        {
          "output_type": "execute_result",
          "data": {
            "text/plain": [
              "95.89679828612043"
            ]
          },
          "metadata": {},
          "execution_count": 19
        }
      ]
    },
    {
      "cell_type": "code",
      "source": [
        "# 한국으로부터 서울과 베이징간의 거리보다 가까운 데이터 검색\n",
        "\n",
        "countries[countries.geometry.distance(seoul) <= seoul.distance(beijing)]"
      ],
      "metadata": {
        "colab": {
          "base_uri": "https://localhost:8080/",
          "height": 278
        },
        "id": "li_Ub8V7LTn7",
        "outputId": "48d9d368-dbd4-4708-f731-318fa90bbb7f"
      },
      "execution_count": 20,
      "outputs": [
        {
          "output_type": "stream",
          "name": "stderr",
          "text": [
            "/usr/local/lib/python3.7/dist-packages/ipykernel_launcher.py:3: UserWarning: Geometry is in a geographic CRS. Results from 'distance' are likely incorrect. Use 'GeoSeries.to_crs()' to re-project geometries to a projected CRS before this operation.\n",
            "\n",
            "  This is separate from the ipykernel package so we can avoid doing imports until\n"
          ]
        },
        {
          "output_type": "execute_result",
          "data": {
            "text/plain": [
              "        pop_est continent         name iso_a3  gdp_md_est  \\\n",
              "18    142257519    Europe       Russia    RUS   3745000.0   \n",
              "95     25248140      Asia  North Korea    PRK     40000.0   \n",
              "96     51181299      Asia  South Korea    KOR   1929000.0   \n",
              "139  1379302771      Asia        China    CHN  21140000.0   \n",
              "155   126451398      Asia        Japan    JPN   4932000.0   \n",
              "\n",
              "                                              geometry  gdp_per_cap  \n",
              "18   MULTIPOLYGON (((178.72530 71.09880, 180.00000 ...     2.632550  \n",
              "95   MULTIPOLYGON (((130.78000 42.22001, 130.78000 ...     0.158428  \n",
              "96   POLYGON ((126.17476 37.74969, 126.23734 37.840...     3.768955  \n",
              "139  MULTIPOLYGON (((109.47521 18.19770, 108.65521 ...     1.532658  \n",
              "155  MULTIPOLYGON (((141.88460 39.18086, 140.95949 ...     3.900313  "
            ],
            "text/html": [
              "\n",
              "  <div id=\"df-cb38f41d-4928-4660-b683-8d824b0696cf\">\n",
              "    <div class=\"colab-df-container\">\n",
              "      <div>\n",
              "<style scoped>\n",
              "    .dataframe tbody tr th:only-of-type {\n",
              "        vertical-align: middle;\n",
              "    }\n",
              "\n",
              "    .dataframe tbody tr th {\n",
              "        vertical-align: top;\n",
              "    }\n",
              "\n",
              "    .dataframe thead th {\n",
              "        text-align: right;\n",
              "    }\n",
              "</style>\n",
              "<table border=\"1\" class=\"dataframe\">\n",
              "  <thead>\n",
              "    <tr style=\"text-align: right;\">\n",
              "      <th></th>\n",
              "      <th>pop_est</th>\n",
              "      <th>continent</th>\n",
              "      <th>name</th>\n",
              "      <th>iso_a3</th>\n",
              "      <th>gdp_md_est</th>\n",
              "      <th>geometry</th>\n",
              "      <th>gdp_per_cap</th>\n",
              "    </tr>\n",
              "  </thead>\n",
              "  <tbody>\n",
              "    <tr>\n",
              "      <th>18</th>\n",
              "      <td>142257519</td>\n",
              "      <td>Europe</td>\n",
              "      <td>Russia</td>\n",
              "      <td>RUS</td>\n",
              "      <td>3745000.0</td>\n",
              "      <td>MULTIPOLYGON (((178.72530 71.09880, 180.00000 ...</td>\n",
              "      <td>2.632550</td>\n",
              "    </tr>\n",
              "    <tr>\n",
              "      <th>95</th>\n",
              "      <td>25248140</td>\n",
              "      <td>Asia</td>\n",
              "      <td>North Korea</td>\n",
              "      <td>PRK</td>\n",
              "      <td>40000.0</td>\n",
              "      <td>MULTIPOLYGON (((130.78000 42.22001, 130.78000 ...</td>\n",
              "      <td>0.158428</td>\n",
              "    </tr>\n",
              "    <tr>\n",
              "      <th>96</th>\n",
              "      <td>51181299</td>\n",
              "      <td>Asia</td>\n",
              "      <td>South Korea</td>\n",
              "      <td>KOR</td>\n",
              "      <td>1929000.0</td>\n",
              "      <td>POLYGON ((126.17476 37.74969, 126.23734 37.840...</td>\n",
              "      <td>3.768955</td>\n",
              "    </tr>\n",
              "    <tr>\n",
              "      <th>139</th>\n",
              "      <td>1379302771</td>\n",
              "      <td>Asia</td>\n",
              "      <td>China</td>\n",
              "      <td>CHN</td>\n",
              "      <td>21140000.0</td>\n",
              "      <td>MULTIPOLYGON (((109.47521 18.19770, 108.65521 ...</td>\n",
              "      <td>1.532658</td>\n",
              "    </tr>\n",
              "    <tr>\n",
              "      <th>155</th>\n",
              "      <td>126451398</td>\n",
              "      <td>Asia</td>\n",
              "      <td>Japan</td>\n",
              "      <td>JPN</td>\n",
              "      <td>4932000.0</td>\n",
              "      <td>MULTIPOLYGON (((141.88460 39.18086, 140.95949 ...</td>\n",
              "      <td>3.900313</td>\n",
              "    </tr>\n",
              "  </tbody>\n",
              "</table>\n",
              "</div>\n",
              "      <button class=\"colab-df-convert\" onclick=\"convertToInteractive('df-cb38f41d-4928-4660-b683-8d824b0696cf')\"\n",
              "              title=\"Convert this dataframe to an interactive table.\"\n",
              "              style=\"display:none;\">\n",
              "        \n",
              "  <svg xmlns=\"http://www.w3.org/2000/svg\" height=\"24px\"viewBox=\"0 0 24 24\"\n",
              "       width=\"24px\">\n",
              "    <path d=\"M0 0h24v24H0V0z\" fill=\"none\"/>\n",
              "    <path d=\"M18.56 5.44l.94 2.06.94-2.06 2.06-.94-2.06-.94-.94-2.06-.94 2.06-2.06.94zm-11 1L8.5 8.5l.94-2.06 2.06-.94-2.06-.94L8.5 2.5l-.94 2.06-2.06.94zm10 10l.94 2.06.94-2.06 2.06-.94-2.06-.94-.94-2.06-.94 2.06-2.06.94z\"/><path d=\"M17.41 7.96l-1.37-1.37c-.4-.4-.92-.59-1.43-.59-.52 0-1.04.2-1.43.59L10.3 9.45l-7.72 7.72c-.78.78-.78 2.05 0 2.83L4 21.41c.39.39.9.59 1.41.59.51 0 1.02-.2 1.41-.59l7.78-7.78 2.81-2.81c.8-.78.8-2.07 0-2.86zM5.41 20L4 18.59l7.72-7.72 1.47 1.35L5.41 20z\"/>\n",
              "  </svg>\n",
              "      </button>\n",
              "      \n",
              "  <style>\n",
              "    .colab-df-container {\n",
              "      display:flex;\n",
              "      flex-wrap:wrap;\n",
              "      gap: 12px;\n",
              "    }\n",
              "\n",
              "    .colab-df-convert {\n",
              "      background-color: #E8F0FE;\n",
              "      border: none;\n",
              "      border-radius: 50%;\n",
              "      cursor: pointer;\n",
              "      display: none;\n",
              "      fill: #1967D2;\n",
              "      height: 32px;\n",
              "      padding: 0 0 0 0;\n",
              "      width: 32px;\n",
              "    }\n",
              "\n",
              "    .colab-df-convert:hover {\n",
              "      background-color: #E2EBFA;\n",
              "      box-shadow: 0px 1px 2px rgba(60, 64, 67, 0.3), 0px 1px 3px 1px rgba(60, 64, 67, 0.15);\n",
              "      fill: #174EA6;\n",
              "    }\n",
              "\n",
              "    [theme=dark] .colab-df-convert {\n",
              "      background-color: #3B4455;\n",
              "      fill: #D2E3FC;\n",
              "    }\n",
              "\n",
              "    [theme=dark] .colab-df-convert:hover {\n",
              "      background-color: #434B5C;\n",
              "      box-shadow: 0px 1px 3px 1px rgba(0, 0, 0, 0.15);\n",
              "      filter: drop-shadow(0px 1px 2px rgba(0, 0, 0, 0.3));\n",
              "      fill: #FFFFFF;\n",
              "    }\n",
              "  </style>\n",
              "\n",
              "      <script>\n",
              "        const buttonEl =\n",
              "          document.querySelector('#df-cb38f41d-4928-4660-b683-8d824b0696cf button.colab-df-convert');\n",
              "        buttonEl.style.display =\n",
              "          google.colab.kernel.accessAllowed ? 'block' : 'none';\n",
              "\n",
              "        async function convertToInteractive(key) {\n",
              "          const element = document.querySelector('#df-cb38f41d-4928-4660-b683-8d824b0696cf');\n",
              "          const dataTable =\n",
              "            await google.colab.kernel.invokeFunction('convertToInteractive',\n",
              "                                                     [key], {});\n",
              "          if (!dataTable) return;\n",
              "\n",
              "          const docLinkHtml = 'Like what you see? Visit the ' +\n",
              "            '<a target=\"_blank\" href=https://colab.research.google.com/notebooks/data_table.ipynb>data table notebook</a>'\n",
              "            + ' to learn more about interactive tables.';\n",
              "          element.innerHTML = '';\n",
              "          dataTable['output_type'] = 'display_data';\n",
              "          await google.colab.output.renderOutput(dataTable, element);\n",
              "          const docLink = document.createElement('div');\n",
              "          docLink.innerHTML = docLinkHtml;\n",
              "          element.appendChild(docLink);\n",
              "        }\n",
              "      </script>\n",
              "    </div>\n",
              "  </div>\n",
              "  "
            ]
          },
          "metadata": {},
          "execution_count": 20
        }
      ]
    },
    {
      "cell_type": "code",
      "source": [
        "## 한국과 중국의 지리적 중심 표시\n",
        "base = northern_asia[northern_asia.name != 'Japan'].plot(\n",
        "    figsize = (15, 15), color = 'w', edgecolor = 'm'\n",
        ")\n",
        "\n",
        "ax = gpd.GeoSeries([china.boundary, korea.boundary, china.centroid, korea.centroid]).plot(\n",
        "    ax = base, color = 'k', edgecolor = 'k', lw = 1)\n",
        "ax.set_title('중국과 한국의 지리적 중심')\n",
        "ax.set_axis_off()\n",
        "plt.show()"
      ],
      "metadata": {
        "colab": {
          "base_uri": "https://localhost:8080/",
          "height": 1000
        },
        "id": "_A4XaYv1X467",
        "outputId": "27968347-075e-4a42-bf5b-ba8e3c242c72"
      },
      "execution_count": 21,
      "outputs": [
        {
          "output_type": "stream",
          "name": "stderr",
          "text": [
            "/usr/local/lib/python3.7/dist-packages/matplotlib/backends/backend_agg.py:214: RuntimeWarning: Glyph 51473 missing from current font.\n",
            "  font.set_text(s, 0.0, flags=flags)\n",
            "/usr/local/lib/python3.7/dist-packages/matplotlib/backends/backend_agg.py:214: RuntimeWarning: Glyph 44397 missing from current font.\n",
            "  font.set_text(s, 0.0, flags=flags)\n",
            "/usr/local/lib/python3.7/dist-packages/matplotlib/backends/backend_agg.py:214: RuntimeWarning: Glyph 44284 missing from current font.\n",
            "  font.set_text(s, 0.0, flags=flags)\n",
            "/usr/local/lib/python3.7/dist-packages/matplotlib/backends/backend_agg.py:214: RuntimeWarning: Glyph 54620 missing from current font.\n",
            "  font.set_text(s, 0.0, flags=flags)\n",
            "/usr/local/lib/python3.7/dist-packages/matplotlib/backends/backend_agg.py:214: RuntimeWarning: Glyph 51032 missing from current font.\n",
            "  font.set_text(s, 0.0, flags=flags)\n",
            "/usr/local/lib/python3.7/dist-packages/matplotlib/backends/backend_agg.py:214: RuntimeWarning: Glyph 51648 missing from current font.\n",
            "  font.set_text(s, 0.0, flags=flags)\n",
            "/usr/local/lib/python3.7/dist-packages/matplotlib/backends/backend_agg.py:214: RuntimeWarning: Glyph 47532 missing from current font.\n",
            "  font.set_text(s, 0.0, flags=flags)\n",
            "/usr/local/lib/python3.7/dist-packages/matplotlib/backends/backend_agg.py:214: RuntimeWarning: Glyph 51201 missing from current font.\n",
            "  font.set_text(s, 0.0, flags=flags)\n",
            "/usr/local/lib/python3.7/dist-packages/matplotlib/backends/backend_agg.py:214: RuntimeWarning: Glyph 49900 missing from current font.\n",
            "  font.set_text(s, 0.0, flags=flags)\n",
            "/usr/local/lib/python3.7/dist-packages/matplotlib/backends/backend_agg.py:183: RuntimeWarning: Glyph 51473 missing from current font.\n",
            "  font.set_text(s, 0, flags=flags)\n",
            "/usr/local/lib/python3.7/dist-packages/matplotlib/backends/backend_agg.py:183: RuntimeWarning: Glyph 44397 missing from current font.\n",
            "  font.set_text(s, 0, flags=flags)\n",
            "/usr/local/lib/python3.7/dist-packages/matplotlib/backends/backend_agg.py:183: RuntimeWarning: Glyph 44284 missing from current font.\n",
            "  font.set_text(s, 0, flags=flags)\n",
            "/usr/local/lib/python3.7/dist-packages/matplotlib/backends/backend_agg.py:183: RuntimeWarning: Glyph 54620 missing from current font.\n",
            "  font.set_text(s, 0, flags=flags)\n",
            "/usr/local/lib/python3.7/dist-packages/matplotlib/backends/backend_agg.py:183: RuntimeWarning: Glyph 51032 missing from current font.\n",
            "  font.set_text(s, 0, flags=flags)\n",
            "/usr/local/lib/python3.7/dist-packages/matplotlib/backends/backend_agg.py:183: RuntimeWarning: Glyph 51648 missing from current font.\n",
            "  font.set_text(s, 0, flags=flags)\n",
            "/usr/local/lib/python3.7/dist-packages/matplotlib/backends/backend_agg.py:183: RuntimeWarning: Glyph 47532 missing from current font.\n",
            "  font.set_text(s, 0, flags=flags)\n",
            "/usr/local/lib/python3.7/dist-packages/matplotlib/backends/backend_agg.py:183: RuntimeWarning: Glyph 51201 missing from current font.\n",
            "  font.set_text(s, 0, flags=flags)\n",
            "/usr/local/lib/python3.7/dist-packages/matplotlib/backends/backend_agg.py:183: RuntimeWarning: Glyph 49900 missing from current font.\n",
            "  font.set_text(s, 0, flags=flags)\n"
          ]
        },
        {
          "output_type": "display_data",
          "data": {
            "text/plain": [
              "<Figure size 1080x1080 with 1 Axes>"
            ],
            "image/png": "[encoded data removed]"
          },
          "metadata": {}
        }
      ]
    },
    {
      "cell_type": "markdown",
      "source": [
        "# 지리정보 조작\n",
        "- 다음 나열된 함수들은 지리정보를 변환하는 기능을 가진다.\n",
        "    - `convex_hull`\n",
        "        - polygon 데이터의 convex hull을 그린다.\n",
        "    - `envelope`\n",
        "        - polygon 데이터를 감싸는 가장 작은 사각형을 그린다.\n",
        "    - `simplify(tolerance, preserve_topology = True)`\n",
        "        - Polygon 데이터에 대해 컨투어 추정을 한다.\n",
        "    - `unary_union`\n",
        "        - 여러개의 geometry 데이터의 합집합을 구한다.\n",
        "        - polygon 내에 빈 곳이 있는 경우, unary_union가 실행되지 않는다. 이때는 buffer() 명령으로 polygon의 빈 곳을 채워준 후 사용한다.\n",
        "    - `buffer`(distance, resolution = 16)\n",
        "        - point, linestring 데이터에 실행하면 주어진 거리 내의 모든 점을 이어 polygon 데이터를 만들고,  polygon에 적용하면 주어진 거리만큼 확장한다."
      ],
      "metadata": {
        "id": "QkddaymOYTFl"
      }
    },
    {
      "cell_type": "code",
      "source": [
        "from google.colab import drive\n",
        "drive.mount('/content/drive')"
      ],
      "metadata": {
        "id": "Tqr4AyoDX4-y",
        "colab": {
          "base_uri": "https://localhost:8080/"
        },
        "outputId": "7a73e918-f29b-45e4-ed16-8001496240cb"
      },
      "execution_count": 22,
      "outputs": [
        {
          "output_type": "stream",
          "name": "stdout",
          "text": [
            "Drive already mounted at /content/drive; to attempt to forcibly remount, call drive.mount(\"/content/drive\", force_remount=True).\n"
          ]
        }
      ]
    },
    {
      "cell_type": "code",
      "source": [
        "seoul_file = \"/content/drive/MyDrive/geodata/TL_KODIS_BAS.shp\"\n",
        "seoul = gpd.read_file(seoul_file, encoding = 'euckr')\n",
        "seoul.tail(3)"
      ],
      "metadata": {
        "id": "ZAV6vZLHX5Bq",
        "colab": {
          "base_uri": "https://localhost:8080/",
          "height": 143
        },
        "outputId": "79fe4df1-ad32-4687-9428-ee99dd5c67ad"
      },
      "execution_count": 23,
      "outputs": [
        {
          "output_type": "execute_result",
          "data": {
            "text/plain": [
              "        BAS_AR BAS_ID  BAS_MGT_SN CTP_KOR_NM   MVMN_DE       MVMN_RESN  \\\n",
              "5662  0.266464  05414  1174000215      서울특별시  20201216  분할에 의한 기초구역 생성   \n",
              "5663  0.129090  05415  1174000216      서울특별시  20201216  분할에 의한 기초구역 생성   \n",
              "5664  0.127814  05416  1174000217      서울특별시  20201216  분할에 의한 기초구역 생성   \n",
              "\n",
              "       NTFC_DE        OPERT_DE SIG_CD SIG_KOR_NM geometry  \n",
              "5662  20201216  20201216000000  11740        강동구     None  \n",
              "5663  20201216  20201216000000  11740        강동구     None  \n",
              "5664  20201216  20201216000000  11740        강동구     None  "
            ],
            "text/html": [
              "\n",
              "  <div id=\"df-d2ab37b8-ae66-4bf7-bc9c-0cad8d3f1427\">\n",
              "    <div class=\"colab-df-container\">\n",
              "      <div>\n",
              "<style scoped>\n",
              "    .dataframe tbody tr th:only-of-type {\n",
              "        vertical-align: middle;\n",
              "    }\n",
              "\n",
              "    .dataframe tbody tr th {\n",
              "        vertical-align: top;\n",
              "    }\n",
              "\n",
              "    .dataframe thead th {\n",
              "        text-align: right;\n",
              "    }\n",
              "</style>\n",
              "<table border=\"1\" class=\"dataframe\">\n",
              "  <thead>\n",
              "    <tr style=\"text-align: right;\">\n",
              "      <th></th>\n",
              "      <th>BAS_AR</th>\n",
              "      <th>BAS_ID</th>\n",
              "      <th>BAS_MGT_SN</th>\n",
              "      <th>CTP_KOR_NM</th>\n",
              "      <th>MVMN_DE</th>\n",
              "      <th>MVMN_RESN</th>\n",
              "      <th>NTFC_DE</th>\n",
              "      <th>OPERT_DE</th>\n",
              "      <th>SIG_CD</th>\n",
              "      <th>SIG_KOR_NM</th>\n",
              "      <th>geometry</th>\n",
              "    </tr>\n",
              "  </thead>\n",
              "  <tbody>\n",
              "    <tr>\n",
              "      <th>5662</th>\n",
              "      <td>0.266464</td>\n",
              "      <td>05414</td>\n",
              "      <td>1174000215</td>\n",
              "      <td>서울특별시</td>\n",
              "      <td>20201216</td>\n",
              "      <td>분할에 의한 기초구역 생성</td>\n",
              "      <td>20201216</td>\n",
              "      <td>20201216000000</td>\n",
              "      <td>11740</td>\n",
              "      <td>강동구</td>\n",
              "      <td>None</td>\n",
              "    </tr>\n",
              "    <tr>\n",
              "      <th>5663</th>\n",
              "      <td>0.129090</td>\n",
              "      <td>05415</td>\n",
              "      <td>1174000216</td>\n",
              "      <td>서울특별시</td>\n",
              "      <td>20201216</td>\n",
              "      <td>분할에 의한 기초구역 생성</td>\n",
              "      <td>20201216</td>\n",
              "      <td>20201216000000</td>\n",
              "      <td>11740</td>\n",
              "      <td>강동구</td>\n",
              "      <td>None</td>\n",
              "    </tr>\n",
              "    <tr>\n",
              "      <th>5664</th>\n",
              "      <td>0.127814</td>\n",
              "      <td>05416</td>\n",
              "      <td>1174000217</td>\n",
              "      <td>서울특별시</td>\n",
              "      <td>20201216</td>\n",
              "      <td>분할에 의한 기초구역 생성</td>\n",
              "      <td>20201216</td>\n",
              "      <td>20201216000000</td>\n",
              "      <td>11740</td>\n",
              "      <td>강동구</td>\n",
              "      <td>None</td>\n",
              "    </tr>\n",
              "  </tbody>\n",
              "</table>\n",
              "</div>\n",
              "      <button class=\"colab-df-convert\" onclick=\"convertToInteractive('df-d2ab37b8-ae66-4bf7-bc9c-0cad8d3f1427')\"\n",
              "              title=\"Convert this dataframe to an interactive table.\"\n",
              "              style=\"display:none;\">\n",
              "        \n",
              "  <svg xmlns=\"http://www.w3.org/2000/svg\" height=\"24px\"viewBox=\"0 0 24 24\"\n",
              "       width=\"24px\">\n",
              "    <path d=\"M0 0h24v24H0V0z\" fill=\"none\"/>\n",
              "    <path d=\"M18.56 5.44l.94 2.06.94-2.06 2.06-.94-2.06-.94-.94-2.06-.94 2.06-2.06.94zm-11 1L8.5 8.5l.94-2.06 2.06-.94-2.06-.94L8.5 2.5l-.94 2.06-2.06.94zm10 10l.94 2.06.94-2.06 2.06-.94-2.06-.94-.94-2.06-.94 2.06-2.06.94z\"/><path d=\"M17.41 7.96l-1.37-1.37c-.4-.4-.92-.59-1.43-.59-.52 0-1.04.2-1.43.59L10.3 9.45l-7.72 7.72c-.78.78-.78 2.05 0 2.83L4 21.41c.39.39.9.59 1.41.59.51 0 1.02-.2 1.41-.59l7.78-7.78 2.81-2.81c.8-.78.8-2.07 0-2.86zM5.41 20L4 18.59l7.72-7.72 1.47 1.35L5.41 20z\"/>\n",
              "  </svg>\n",
              "      </button>\n",
              "      \n",
              "  <style>\n",
              "    .colab-df-container {\n",
              "      display:flex;\n",
              "      flex-wrap:wrap;\n",
              "      gap: 12px;\n",
              "    }\n",
              "\n",
              "    .colab-df-convert {\n",
              "      background-color: #E8F0FE;\n",
              "      border: none;\n",
              "      border-radius: 50%;\n",
              "      cursor: pointer;\n",
              "      display: none;\n",
              "      fill: #1967D2;\n",
              "      height: 32px;\n",
              "      padding: 0 0 0 0;\n",
              "      width: 32px;\n",
              "    }\n",
              "\n",
              "    .colab-df-convert:hover {\n",
              "      background-color: #E2EBFA;\n",
              "      box-shadow: 0px 1px 2px rgba(60, 64, 67, 0.3), 0px 1px 3px 1px rgba(60, 64, 67, 0.15);\n",
              "      fill: #174EA6;\n",
              "    }\n",
              "\n",
              "    [theme=dark] .colab-df-convert {\n",
              "      background-color: #3B4455;\n",
              "      fill: #D2E3FC;\n",
              "    }\n",
              "\n",
              "    [theme=dark] .colab-df-convert:hover {\n",
              "      background-color: #434B5C;\n",
              "      box-shadow: 0px 1px 3px 1px rgba(0, 0, 0, 0.15);\n",
              "      filter: drop-shadow(0px 1px 2px rgba(0, 0, 0, 0.3));\n",
              "      fill: #FFFFFF;\n",
              "    }\n",
              "  </style>\n",
              "\n",
              "      <script>\n",
              "        const buttonEl =\n",
              "          document.querySelector('#df-d2ab37b8-ae66-4bf7-bc9c-0cad8d3f1427 button.colab-df-convert');\n",
              "        buttonEl.style.display =\n",
              "          google.colab.kernel.accessAllowed ? 'block' : 'none';\n",
              "\n",
              "        async function convertToInteractive(key) {\n",
              "          const element = document.querySelector('#df-d2ab37b8-ae66-4bf7-bc9c-0cad8d3f1427');\n",
              "          const dataTable =\n",
              "            await google.colab.kernel.invokeFunction('convertToInteractive',\n",
              "                                                     [key], {});\n",
              "          if (!dataTable) return;\n",
              "\n",
              "          const docLinkHtml = 'Like what you see? Visit the ' +\n",
              "            '<a target=\"_blank\" href=https://colab.research.google.com/notebooks/data_table.ipynb>data table notebook</a>'\n",
              "            + ' to learn more about interactive tables.';\n",
              "          element.innerHTML = '';\n",
              "          dataTable['output_type'] = 'display_data';\n",
              "          await google.colab.output.renderOutput(dataTable, element);\n",
              "          const docLink = document.createElement('div');\n",
              "          docLink.innerHTML = docLinkHtml;\n",
              "          element.appendChild(docLink);\n",
              "        }\n",
              "      </script>\n",
              "    </div>\n",
              "  </div>\n",
              "  "
            ]
          },
          "metadata": {},
          "execution_count": 23
        }
      ]
    },
    {
      "cell_type": "code",
      "source": [
        "ax = seoul.plot(figsize = (11, 11), color = 'w', edgecolor = 'k')\n",
        "ax.set_title(\"서울특별시 기초구역도\")\n",
        "ax.set_axis_off()\n",
        "plt.show()"
      ],
      "metadata": {
        "id": "_uOs9CATX5EL",
        "colab": {
          "base_uri": "https://localhost:8080/",
          "height": 1000
        },
        "outputId": "9d60a7c3-7790-4ccc-82a2-3b813d78d932"
      },
      "execution_count": 24,
      "outputs": [
        {
          "output_type": "stream",
          "name": "stderr",
          "text": [
            "/usr/local/lib/python3.7/dist-packages/matplotlib/backends/backend_agg.py:214: RuntimeWarning: Glyph 49436 missing from current font.\n",
            "  font.set_text(s, 0.0, flags=flags)\n",
            "/usr/local/lib/python3.7/dist-packages/matplotlib/backends/backend_agg.py:214: RuntimeWarning: Glyph 50872 missing from current font.\n",
            "  font.set_text(s, 0.0, flags=flags)\n",
            "/usr/local/lib/python3.7/dist-packages/matplotlib/backends/backend_agg.py:214: RuntimeWarning: Glyph 53945 missing from current font.\n",
            "  font.set_text(s, 0.0, flags=flags)\n",
            "/usr/local/lib/python3.7/dist-packages/matplotlib/backends/backend_agg.py:214: RuntimeWarning: Glyph 48324 missing from current font.\n",
            "  font.set_text(s, 0.0, flags=flags)\n",
            "/usr/local/lib/python3.7/dist-packages/matplotlib/backends/backend_agg.py:214: RuntimeWarning: Glyph 49884 missing from current font.\n",
            "  font.set_text(s, 0.0, flags=flags)\n",
            "/usr/local/lib/python3.7/dist-packages/matplotlib/backends/backend_agg.py:214: RuntimeWarning: Glyph 44592 missing from current font.\n",
            "  font.set_text(s, 0.0, flags=flags)\n",
            "/usr/local/lib/python3.7/dist-packages/matplotlib/backends/backend_agg.py:214: RuntimeWarning: Glyph 52488 missing from current font.\n",
            "  font.set_text(s, 0.0, flags=flags)\n",
            "/usr/local/lib/python3.7/dist-packages/matplotlib/backends/backend_agg.py:214: RuntimeWarning: Glyph 44396 missing from current font.\n",
            "  font.set_text(s, 0.0, flags=flags)\n",
            "/usr/local/lib/python3.7/dist-packages/matplotlib/backends/backend_agg.py:214: RuntimeWarning: Glyph 50669 missing from current font.\n",
            "  font.set_text(s, 0.0, flags=flags)\n",
            "/usr/local/lib/python3.7/dist-packages/matplotlib/backends/backend_agg.py:214: RuntimeWarning: Glyph 46020 missing from current font.\n",
            "  font.set_text(s, 0.0, flags=flags)\n",
            "/usr/local/lib/python3.7/dist-packages/matplotlib/backends/backend_agg.py:183: RuntimeWarning: Glyph 49436 missing from current font.\n",
            "  font.set_text(s, 0, flags=flags)\n",
            "/usr/local/lib/python3.7/dist-packages/matplotlib/backends/backend_agg.py:183: RuntimeWarning: Glyph 50872 missing from current font.\n",
            "  font.set_text(s, 0, flags=flags)\n",
            "/usr/local/lib/python3.7/dist-packages/matplotlib/backends/backend_agg.py:183: RuntimeWarning: Glyph 53945 missing from current font.\n",
            "  font.set_text(s, 0, flags=flags)\n",
            "/usr/local/lib/python3.7/dist-packages/matplotlib/backends/backend_agg.py:183: RuntimeWarning: Glyph 48324 missing from current font.\n",
            "  font.set_text(s, 0, flags=flags)\n",
            "/usr/local/lib/python3.7/dist-packages/matplotlib/backends/backend_agg.py:183: RuntimeWarning: Glyph 49884 missing from current font.\n",
            "  font.set_text(s, 0, flags=flags)\n",
            "/usr/local/lib/python3.7/dist-packages/matplotlib/backends/backend_agg.py:183: RuntimeWarning: Glyph 44592 missing from current font.\n",
            "  font.set_text(s, 0, flags=flags)\n",
            "/usr/local/lib/python3.7/dist-packages/matplotlib/backends/backend_agg.py:183: RuntimeWarning: Glyph 52488 missing from current font.\n",
            "  font.set_text(s, 0, flags=flags)\n",
            "/usr/local/lib/python3.7/dist-packages/matplotlib/backends/backend_agg.py:183: RuntimeWarning: Glyph 44396 missing from current font.\n",
            "  font.set_text(s, 0, flags=flags)\n",
            "/usr/local/lib/python3.7/dist-packages/matplotlib/backends/backend_agg.py:183: RuntimeWarning: Glyph 50669 missing from current font.\n",
            "  font.set_text(s, 0, flags=flags)\n",
            "/usr/local/lib/python3.7/dist-packages/matplotlib/backends/backend_agg.py:183: RuntimeWarning: Glyph 46020 missing from current font.\n",
            "  font.set_text(s, 0, flags=flags)\n"
          ]
        },
        {
          "output_type": "display_data",
          "data": {
            "text/plain": [
              "<Figure size 792x792 with 1 Axes>"
            ],
            "image/png": "[encoded data removed]"
          },
          "metadata": {}
        }
      ]
    },
    {
      "cell_type": "code",
      "source": [
        "# 동작구의 기초 구역도를 convex_hull, envelope, unary_union을 이용해 변환하는 예\n",
        "\n",
        "sample = seoul[seoul.SIG_KOR_NM == \"동작구\"]\n",
        "\n",
        "ax = plt.subplot(2, 2, 1)\n",
        "sample.plot(color = 'k', edgecolor = 'w', ax = ax)\n",
        "ax.set_title(\"동작구\")\n",
        "ax.set_axis_off()\n",
        "\n",
        "ax = plt.subplot(2, 2, 2)\n",
        "sample.convex_hull.plot(color = 'k', edgecolor = 'w', ax = ax)\n",
        "ax.set_title(\"convex_hull\")\n",
        "ax.set_axis_off()\n",
        "\n",
        "ax = plt.subplot(2, 2, 3)\n",
        "sample.envelope.plot(color = 'k', edgecolor = 'w', ax = ax)\n",
        "ax.set_title(\"envelope\")\n",
        "ax.set_axis_off()\n",
        "\n",
        "ax = plt.subplot(2, 2, 4)\n",
        "gpd.GeoSeries([sample.geometry.buffer(0.1).unary_union]).plot(ax = ax, color = 'k', edgecolor = 'w')\n",
        "ax.set_title(\"unary_union\")\n",
        "ax.set_axis_off()\n",
        "\n",
        "plt.tight_layout()\n",
        "plt.show()"
      ],
      "metadata": {
        "id": "PxLJL1zKX5Gq",
        "colab": {
          "base_uri": "https://localhost:8080/",
          "height": 818
        },
        "outputId": "5e0f31ed-8910-429d-f341-5aba20242a99"
      },
      "execution_count": 25,
      "outputs": [
        {
          "output_type": "stream",
          "name": "stderr",
          "text": [
            "/usr/local/lib/python3.7/dist-packages/matplotlib/backends/backend_agg.py:214: RuntimeWarning: Glyph 46041 missing from current font.\n",
            "  font.set_text(s, 0.0, flags=flags)\n",
            "/usr/local/lib/python3.7/dist-packages/matplotlib/backends/backend_agg.py:214: RuntimeWarning: Glyph 51089 missing from current font.\n",
            "  font.set_text(s, 0.0, flags=flags)\n",
            "/usr/local/lib/python3.7/dist-packages/matplotlib/backends/backend_agg.py:214: RuntimeWarning: Glyph 44396 missing from current font.\n",
            "  font.set_text(s, 0.0, flags=flags)\n",
            "/usr/local/lib/python3.7/dist-packages/matplotlib/backends/backend_agg.py:183: RuntimeWarning: Glyph 46041 missing from current font.\n",
            "  font.set_text(s, 0, flags=flags)\n",
            "/usr/local/lib/python3.7/dist-packages/matplotlib/backends/backend_agg.py:183: RuntimeWarning: Glyph 51089 missing from current font.\n",
            "  font.set_text(s, 0, flags=flags)\n",
            "/usr/local/lib/python3.7/dist-packages/matplotlib/backends/backend_agg.py:183: RuntimeWarning: Glyph 44396 missing from current font.\n",
            "  font.set_text(s, 0, flags=flags)\n",
            "/usr/local/lib/python3.7/dist-packages/matplotlib/backends/backend_agg.py:183: RuntimeWarning: Glyph 46041 missing from current font.\n",
            "  font.set_text(s, 0, flags=flags)\n",
            "/usr/local/lib/python3.7/dist-packages/matplotlib/backends/backend_agg.py:183: RuntimeWarning: Glyph 51089 missing from current font.\n",
            "  font.set_text(s, 0, flags=flags)\n",
            "/usr/local/lib/python3.7/dist-packages/matplotlib/backends/backend_agg.py:183: RuntimeWarning: Glyph 44396 missing from current font.\n",
            "  font.set_text(s, 0, flags=flags)\n",
            "/usr/local/lib/python3.7/dist-packages/matplotlib/backends/backend_agg.py:183: RuntimeWarning: Glyph 46041 missing from current font.\n",
            "  font.set_text(s, 0, flags=flags)\n",
            "/usr/local/lib/python3.7/dist-packages/matplotlib/backends/backend_agg.py:183: RuntimeWarning: Glyph 51089 missing from current font.\n",
            "  font.set_text(s, 0, flags=flags)\n",
            "/usr/local/lib/python3.7/dist-packages/matplotlib/backends/backend_agg.py:183: RuntimeWarning: Glyph 44396 missing from current font.\n",
            "  font.set_text(s, 0, flags=flags)\n",
            "/usr/local/lib/python3.7/dist-packages/matplotlib/backends/backend_agg.py:214: RuntimeWarning: Glyph 46041 missing from current font.\n",
            "  font.set_text(s, 0.0, flags=flags)\n",
            "/usr/local/lib/python3.7/dist-packages/matplotlib/backends/backend_agg.py:214: RuntimeWarning: Glyph 51089 missing from current font.\n",
            "  font.set_text(s, 0.0, flags=flags)\n",
            "/usr/local/lib/python3.7/dist-packages/matplotlib/backends/backend_agg.py:214: RuntimeWarning: Glyph 44396 missing from current font.\n",
            "  font.set_text(s, 0.0, flags=flags)\n"
          ]
        },
        {
          "output_type": "display_data",
          "data": {
            "text/plain": [
              "<Figure size 432x288 with 4 Axes>"
            ],
            "image/png": "[encoded data removed]"
          },
          "metadata": {}
        }
      ]
    },
    {
      "cell_type": "markdown",
      "source": [
        "## GeoDataFrame 또한 Pandas DataFrame의 groupby 명령과 같은 그룹핑 기능을 제공한다."
      ],
      "metadata": {
        "id": "pHPl1lAV1Ixw"
      }
    },
    {
      "cell_type": "markdown",
      "source": [
        "- Dissolve\n",
        "- GeoDataFrame 내의 geometry를 그룹 별로 unary_union을 이용해 geometry 데이터를 합친다."
      ],
      "metadata": {
        "id": "ZKxHqdJb1NMd"
      }
    },
    {
      "cell_type": "code",
      "source": [
        "seoul.geometry = seoul.buffer(0.001)\n",
        "seoul = seoul.dissolve(by = 'SIG_CD')\n",
        "ax = seoul.plot(figsize = (15, 15), column = 'SIG_KOR_NM', categorical = True,\n",
        "                cmap = 'tab20b', edgecolor = 'k', legend = True, legend_kwds = {'loc' : 3})\n",
        "ax.set_title(\"구 별로 묶은 서울의 기초 구역도\")\n",
        "ax.set_axis_off()\n",
        "plt.show()"
      ],
      "metadata": {
        "id": "lICb3KFXX5JD",
        "colab": {
          "base_uri": "https://localhost:8080/",
          "height": 1000
        },
        "outputId": "88407b3b-ce23-4fc5-c314-7505eeb4c299"
      },
      "execution_count": 26,
      "outputs": [
        {
          "output_type": "stream",
          "name": "stderr",
          "text": [
            "/usr/local/lib/python3.7/dist-packages/matplotlib/backends/backend_agg.py:214: RuntimeWarning: Glyph 44053 missing from current font.\n",
            "  font.set_text(s, 0.0, flags=flags)\n",
            "/usr/local/lib/python3.7/dist-packages/matplotlib/backends/backend_agg.py:214: RuntimeWarning: Glyph 45224 missing from current font.\n",
            "  font.set_text(s, 0.0, flags=flags)\n",
            "/usr/local/lib/python3.7/dist-packages/matplotlib/backends/backend_agg.py:214: RuntimeWarning: Glyph 44396 missing from current font.\n",
            "  font.set_text(s, 0.0, flags=flags)\n",
            "/usr/local/lib/python3.7/dist-packages/matplotlib/backends/backend_agg.py:214: RuntimeWarning: Glyph 46041 missing from current font.\n",
            "  font.set_text(s, 0.0, flags=flags)\n",
            "/usr/local/lib/python3.7/dist-packages/matplotlib/backends/backend_agg.py:214: RuntimeWarning: Glyph 48513 missing from current font.\n",
            "  font.set_text(s, 0.0, flags=flags)\n",
            "/usr/local/lib/python3.7/dist-packages/matplotlib/backends/backend_agg.py:214: RuntimeWarning: Glyph 49436 missing from current font.\n",
            "  font.set_text(s, 0.0, flags=flags)\n",
            "/usr/local/lib/python3.7/dist-packages/matplotlib/backends/backend_agg.py:214: RuntimeWarning: Glyph 44288 missing from current font.\n",
            "  font.set_text(s, 0.0, flags=flags)\n",
            "/usr/local/lib/python3.7/dist-packages/matplotlib/backends/backend_agg.py:214: RuntimeWarning: Glyph 50501 missing from current font.\n",
            "  font.set_text(s, 0.0, flags=flags)\n",
            "/usr/local/lib/python3.7/dist-packages/matplotlib/backends/backend_agg.py:214: RuntimeWarning: Glyph 44305 missing from current font.\n",
            "  font.set_text(s, 0.0, flags=flags)\n",
            "/usr/local/lib/python3.7/dist-packages/matplotlib/backends/backend_agg.py:214: RuntimeWarning: Glyph 51652 missing from current font.\n",
            "  font.set_text(s, 0.0, flags=flags)\n",
            "/usr/local/lib/python3.7/dist-packages/matplotlib/backends/backend_agg.py:214: RuntimeWarning: Glyph 47196 missing from current font.\n",
            "  font.set_text(s, 0.0, flags=flags)\n",
            "/usr/local/lib/python3.7/dist-packages/matplotlib/backends/backend_agg.py:214: RuntimeWarning: Glyph 44552 missing from current font.\n",
            "  font.set_text(s, 0.0, flags=flags)\n",
            "/usr/local/lib/python3.7/dist-packages/matplotlib/backends/backend_agg.py:214: RuntimeWarning: Glyph 52380 missing from current font.\n",
            "  font.set_text(s, 0.0, flags=flags)\n",
            "/usr/local/lib/python3.7/dist-packages/matplotlib/backends/backend_agg.py:214: RuntimeWarning: Glyph 45432 missing from current font.\n",
            "  font.set_text(s, 0.0, flags=flags)\n",
            "/usr/local/lib/python3.7/dist-packages/matplotlib/backends/backend_agg.py:214: RuntimeWarning: Glyph 50896 missing from current font.\n",
            "  font.set_text(s, 0.0, flags=flags)\n",
            "/usr/local/lib/python3.7/dist-packages/matplotlib/backends/backend_agg.py:214: RuntimeWarning: Glyph 46020 missing from current font.\n",
            "  font.set_text(s, 0.0, flags=flags)\n",
            "/usr/local/lib/python3.7/dist-packages/matplotlib/backends/backend_agg.py:214: RuntimeWarning: Glyph 48393 missing from current font.\n",
            "  font.set_text(s, 0.0, flags=flags)\n",
            "/usr/local/lib/python3.7/dist-packages/matplotlib/backends/backend_agg.py:214: RuntimeWarning: Glyph 45824 missing from current font.\n",
            "  font.set_text(s, 0.0, flags=flags)\n",
            "/usr/local/lib/python3.7/dist-packages/matplotlib/backends/backend_agg.py:214: RuntimeWarning: Glyph 47928 missing from current font.\n",
            "  font.set_text(s, 0.0, flags=flags)\n",
            "/usr/local/lib/python3.7/dist-packages/matplotlib/backends/backend_agg.py:214: RuntimeWarning: Glyph 51089 missing from current font.\n",
            "  font.set_text(s, 0.0, flags=flags)\n",
            "/usr/local/lib/python3.7/dist-packages/matplotlib/backends/backend_agg.py:214: RuntimeWarning: Glyph 47560 missing from current font.\n",
            "  font.set_text(s, 0.0, flags=flags)\n",
            "/usr/local/lib/python3.7/dist-packages/matplotlib/backends/backend_agg.py:214: RuntimeWarning: Glyph 54252 missing from current font.\n",
            "  font.set_text(s, 0.0, flags=flags)\n",
            "/usr/local/lib/python3.7/dist-packages/matplotlib/backends/backend_agg.py:214: RuntimeWarning: Glyph 52488 missing from current font.\n",
            "  font.set_text(s, 0.0, flags=flags)\n",
            "/usr/local/lib/python3.7/dist-packages/matplotlib/backends/backend_agg.py:214: RuntimeWarning: Glyph 49457 missing from current font.\n",
            "  font.set_text(s, 0.0, flags=flags)\n",
            "/usr/local/lib/python3.7/dist-packages/matplotlib/backends/backend_agg.py:214: RuntimeWarning: Glyph 49569 missing from current font.\n",
            "  font.set_text(s, 0.0, flags=flags)\n",
            "/usr/local/lib/python3.7/dist-packages/matplotlib/backends/backend_agg.py:214: RuntimeWarning: Glyph 54028 missing from current font.\n",
            "  font.set_text(s, 0.0, flags=flags)\n",
            "/usr/local/lib/python3.7/dist-packages/matplotlib/backends/backend_agg.py:214: RuntimeWarning: Glyph 50577 missing from current font.\n",
            "  font.set_text(s, 0.0, flags=flags)\n",
            "/usr/local/lib/python3.7/dist-packages/matplotlib/backends/backend_agg.py:214: RuntimeWarning: Glyph 50689 missing from current font.\n",
            "  font.set_text(s, 0.0, flags=flags)\n",
            "/usr/local/lib/python3.7/dist-packages/matplotlib/backends/backend_agg.py:214: RuntimeWarning: Glyph 46321 missing from current font.\n",
            "  font.set_text(s, 0.0, flags=flags)\n",
            "/usr/local/lib/python3.7/dist-packages/matplotlib/backends/backend_agg.py:214: RuntimeWarning: Glyph 50857 missing from current font.\n",
            "  font.set_text(s, 0.0, flags=flags)\n",
            "/usr/local/lib/python3.7/dist-packages/matplotlib/backends/backend_agg.py:214: RuntimeWarning: Glyph 49328 missing from current font.\n",
            "  font.set_text(s, 0.0, flags=flags)\n",
            "/usr/local/lib/python3.7/dist-packages/matplotlib/backends/backend_agg.py:214: RuntimeWarning: Glyph 51008 missing from current font.\n",
            "  font.set_text(s, 0.0, flags=flags)\n",
            "/usr/local/lib/python3.7/dist-packages/matplotlib/backends/backend_agg.py:214: RuntimeWarning: Glyph 54217 missing from current font.\n",
            "  font.set_text(s, 0.0, flags=flags)\n",
            "/usr/local/lib/python3.7/dist-packages/matplotlib/backends/backend_agg.py:214: RuntimeWarning: Glyph 51333 missing from current font.\n",
            "  font.set_text(s, 0.0, flags=flags)\n",
            "/usr/local/lib/python3.7/dist-packages/matplotlib/backends/backend_agg.py:214: RuntimeWarning: Glyph 51473 missing from current font.\n",
            "  font.set_text(s, 0.0, flags=flags)\n",
            "/usr/local/lib/python3.7/dist-packages/matplotlib/backends/backend_agg.py:214: RuntimeWarning: Glyph 46993 missing from current font.\n",
            "  font.set_text(s, 0.0, flags=flags)\n",
            "/usr/local/lib/python3.7/dist-packages/matplotlib/backends/backend_agg.py:183: RuntimeWarning: Glyph 44053 missing from current font.\n",
            "  font.set_text(s, 0, flags=flags)\n",
            "/usr/local/lib/python3.7/dist-packages/matplotlib/backends/backend_agg.py:183: RuntimeWarning: Glyph 45224 missing from current font.\n",
            "  font.set_text(s, 0, flags=flags)\n",
            "/usr/local/lib/python3.7/dist-packages/matplotlib/backends/backend_agg.py:183: RuntimeWarning: Glyph 44396 missing from current font.\n",
            "  font.set_text(s, 0, flags=flags)\n",
            "/usr/local/lib/python3.7/dist-packages/matplotlib/backends/backend_agg.py:183: RuntimeWarning: Glyph 46041 missing from current font.\n",
            "  font.set_text(s, 0, flags=flags)\n",
            "/usr/local/lib/python3.7/dist-packages/matplotlib/backends/backend_agg.py:183: RuntimeWarning: Glyph 48513 missing from current font.\n",
            "  font.set_text(s, 0, flags=flags)\n",
            "/usr/local/lib/python3.7/dist-packages/matplotlib/backends/backend_agg.py:183: RuntimeWarning: Glyph 49436 missing from current font.\n",
            "  font.set_text(s, 0, flags=flags)\n",
            "/usr/local/lib/python3.7/dist-packages/matplotlib/backends/backend_agg.py:183: RuntimeWarning: Glyph 44288 missing from current font.\n",
            "  font.set_text(s, 0, flags=flags)\n",
            "/usr/local/lib/python3.7/dist-packages/matplotlib/backends/backend_agg.py:183: RuntimeWarning: Glyph 50501 missing from current font.\n",
            "  font.set_text(s, 0, flags=flags)\n",
            "/usr/local/lib/python3.7/dist-packages/matplotlib/backends/backend_agg.py:183: RuntimeWarning: Glyph 44305 missing from current font.\n",
            "  font.set_text(s, 0, flags=flags)\n",
            "/usr/local/lib/python3.7/dist-packages/matplotlib/backends/backend_agg.py:183: RuntimeWarning: Glyph 51652 missing from current font.\n",
            "  font.set_text(s, 0, flags=flags)\n",
            "/usr/local/lib/python3.7/dist-packages/matplotlib/backends/backend_agg.py:183: RuntimeWarning: Glyph 47196 missing from current font.\n",
            "  font.set_text(s, 0, flags=flags)\n",
            "/usr/local/lib/python3.7/dist-packages/matplotlib/backends/backend_agg.py:183: RuntimeWarning: Glyph 44552 missing from current font.\n",
            "  font.set_text(s, 0, flags=flags)\n",
            "/usr/local/lib/python3.7/dist-packages/matplotlib/backends/backend_agg.py:183: RuntimeWarning: Glyph 52380 missing from current font.\n",
            "  font.set_text(s, 0, flags=flags)\n",
            "/usr/local/lib/python3.7/dist-packages/matplotlib/backends/backend_agg.py:183: RuntimeWarning: Glyph 45432 missing from current font.\n",
            "  font.set_text(s, 0, flags=flags)\n",
            "/usr/local/lib/python3.7/dist-packages/matplotlib/backends/backend_agg.py:183: RuntimeWarning: Glyph 50896 missing from current font.\n",
            "  font.set_text(s, 0, flags=flags)\n",
            "/usr/local/lib/python3.7/dist-packages/matplotlib/backends/backend_agg.py:183: RuntimeWarning: Glyph 46020 missing from current font.\n",
            "  font.set_text(s, 0, flags=flags)\n",
            "/usr/local/lib/python3.7/dist-packages/matplotlib/backends/backend_agg.py:183: RuntimeWarning: Glyph 48393 missing from current font.\n",
            "  font.set_text(s, 0, flags=flags)\n",
            "/usr/local/lib/python3.7/dist-packages/matplotlib/backends/backend_agg.py:183: RuntimeWarning: Glyph 45824 missing from current font.\n",
            "  font.set_text(s, 0, flags=flags)\n",
            "/usr/local/lib/python3.7/dist-packages/matplotlib/backends/backend_agg.py:183: RuntimeWarning: Glyph 47928 missing from current font.\n",
            "  font.set_text(s, 0, flags=flags)\n",
            "/usr/local/lib/python3.7/dist-packages/matplotlib/backends/backend_agg.py:183: RuntimeWarning: Glyph 51089 missing from current font.\n",
            "  font.set_text(s, 0, flags=flags)\n",
            "/usr/local/lib/python3.7/dist-packages/matplotlib/backends/backend_agg.py:183: RuntimeWarning: Glyph 47560 missing from current font.\n",
            "  font.set_text(s, 0, flags=flags)\n",
            "/usr/local/lib/python3.7/dist-packages/matplotlib/backends/backend_agg.py:183: RuntimeWarning: Glyph 54252 missing from current font.\n",
            "  font.set_text(s, 0, flags=flags)\n",
            "/usr/local/lib/python3.7/dist-packages/matplotlib/backends/backend_agg.py:183: RuntimeWarning: Glyph 52488 missing from current font.\n",
            "  font.set_text(s, 0, flags=flags)\n",
            "/usr/local/lib/python3.7/dist-packages/matplotlib/backends/backend_agg.py:183: RuntimeWarning: Glyph 49457 missing from current font.\n",
            "  font.set_text(s, 0, flags=flags)\n",
            "/usr/local/lib/python3.7/dist-packages/matplotlib/backends/backend_agg.py:183: RuntimeWarning: Glyph 49569 missing from current font.\n",
            "  font.set_text(s, 0, flags=flags)\n",
            "/usr/local/lib/python3.7/dist-packages/matplotlib/backends/backend_agg.py:183: RuntimeWarning: Glyph 54028 missing from current font.\n",
            "  font.set_text(s, 0, flags=flags)\n",
            "/usr/local/lib/python3.7/dist-packages/matplotlib/backends/backend_agg.py:183: RuntimeWarning: Glyph 50577 missing from current font.\n",
            "  font.set_text(s, 0, flags=flags)\n",
            "/usr/local/lib/python3.7/dist-packages/matplotlib/backends/backend_agg.py:183: RuntimeWarning: Glyph 50689 missing from current font.\n",
            "  font.set_text(s, 0, flags=flags)\n",
            "/usr/local/lib/python3.7/dist-packages/matplotlib/backends/backend_agg.py:183: RuntimeWarning: Glyph 46321 missing from current font.\n",
            "  font.set_text(s, 0, flags=flags)\n",
            "/usr/local/lib/python3.7/dist-packages/matplotlib/backends/backend_agg.py:183: RuntimeWarning: Glyph 50857 missing from current font.\n",
            "  font.set_text(s, 0, flags=flags)\n",
            "/usr/local/lib/python3.7/dist-packages/matplotlib/backends/backend_agg.py:183: RuntimeWarning: Glyph 49328 missing from current font.\n",
            "  font.set_text(s, 0, flags=flags)\n",
            "/usr/local/lib/python3.7/dist-packages/matplotlib/backends/backend_agg.py:183: RuntimeWarning: Glyph 51008 missing from current font.\n",
            "  font.set_text(s, 0, flags=flags)\n",
            "/usr/local/lib/python3.7/dist-packages/matplotlib/backends/backend_agg.py:183: RuntimeWarning: Glyph 54217 missing from current font.\n",
            "  font.set_text(s, 0, flags=flags)\n",
            "/usr/local/lib/python3.7/dist-packages/matplotlib/backends/backend_agg.py:183: RuntimeWarning: Glyph 51333 missing from current font.\n",
            "  font.set_text(s, 0, flags=flags)\n",
            "/usr/local/lib/python3.7/dist-packages/matplotlib/backends/backend_agg.py:183: RuntimeWarning: Glyph 51473 missing from current font.\n",
            "  font.set_text(s, 0, flags=flags)\n",
            "/usr/local/lib/python3.7/dist-packages/matplotlib/backends/backend_agg.py:183: RuntimeWarning: Glyph 46993 missing from current font.\n",
            "  font.set_text(s, 0, flags=flags)\n",
            "/usr/local/lib/python3.7/dist-packages/matplotlib/backends/backend_agg.py:214: RuntimeWarning: Glyph 48324 missing from current font.\n",
            "  font.set_text(s, 0.0, flags=flags)\n",
            "/usr/local/lib/python3.7/dist-packages/matplotlib/backends/backend_agg.py:214: RuntimeWarning: Glyph 47926 missing from current font.\n",
            "  font.set_text(s, 0.0, flags=flags)\n",
            "/usr/local/lib/python3.7/dist-packages/matplotlib/backends/backend_agg.py:214: RuntimeWarning: Glyph 50872 missing from current font.\n",
            "  font.set_text(s, 0.0, flags=flags)\n",
            "/usr/local/lib/python3.7/dist-packages/matplotlib/backends/backend_agg.py:214: RuntimeWarning: Glyph 51032 missing from current font.\n",
            "  font.set_text(s, 0.0, flags=flags)\n",
            "/usr/local/lib/python3.7/dist-packages/matplotlib/backends/backend_agg.py:214: RuntimeWarning: Glyph 44592 missing from current font.\n",
            "  font.set_text(s, 0.0, flags=flags)\n",
            "/usr/local/lib/python3.7/dist-packages/matplotlib/backends/backend_agg.py:214: RuntimeWarning: Glyph 50669 missing from current font.\n",
            "  font.set_text(s, 0.0, flags=flags)\n",
            "/usr/local/lib/python3.7/dist-packages/matplotlib/backends/backend_agg.py:183: RuntimeWarning: Glyph 48324 missing from current font.\n",
            "  font.set_text(s, 0, flags=flags)\n",
            "/usr/local/lib/python3.7/dist-packages/matplotlib/backends/backend_agg.py:183: RuntimeWarning: Glyph 47926 missing from current font.\n",
            "  font.set_text(s, 0, flags=flags)\n",
            "/usr/local/lib/python3.7/dist-packages/matplotlib/backends/backend_agg.py:183: RuntimeWarning: Glyph 50872 missing from current font.\n",
            "  font.set_text(s, 0, flags=flags)\n",
            "/usr/local/lib/python3.7/dist-packages/matplotlib/backends/backend_agg.py:183: RuntimeWarning: Glyph 51032 missing from current font.\n",
            "  font.set_text(s, 0, flags=flags)\n",
            "/usr/local/lib/python3.7/dist-packages/matplotlib/backends/backend_agg.py:183: RuntimeWarning: Glyph 44592 missing from current font.\n",
            "  font.set_text(s, 0, flags=flags)\n",
            "/usr/local/lib/python3.7/dist-packages/matplotlib/backends/backend_agg.py:183: RuntimeWarning: Glyph 50669 missing from current font.\n",
            "  font.set_text(s, 0, flags=flags)\n"
          ]
        },
        {
          "output_type": "display_data",
          "data": {
            "text/plain": [
              "<Figure size 1080x1080 with 1 Axes>"
            ],
            "image/png": "[encoded data removed]"
          },
          "metadata": {}
        }
      ]
    },
    {
      "cell_type": "markdown",
      "source": [
        "# GeoPandas의 좌표계\n",
        "\n",
        "## 좌표계\n",
        "좌표계는 지구라는 곡면을 2차원 데이터로 표현하는 방법론을 의미한다. GeoPandas 데이터라면, crs속성값으로 확인할 수 있다. 좌표계가 다른 데이터의 경우, 좌표간의 거리나 위치 등이 다르게 표현되기 때문에 반드시 통일시켜주어야한다. \n",
        "- WGS84(EPSG:4326): GPS가 사용하는 좌표계(경도와 위도)\n",
        "\n",
        "- Bessel 1841(EPSG:4004): 한국과 일본에 잘 맞는 지역타원체를 사용한 좌표계\n",
        "\n",
        "- GRS80 UTM-K(EPSG:5179): 한반도 전체를 하나의 좌표계로 나타낼 때 많이 사용하는 좌표계. 네이버 지도\n",
        "\n",
        "- GRS80 중부원점(EPSG:5181): 과거 지리원 좌표계에서 타원체 문제를 수정한 좌표계. 다음카카오 지도\n",
        "\n",
        "- Web mercator projection(Pseudo-Mercator, EPSG:3857) : 구글지도/빙지도/야후지도/OSM 등 에서 사용중인 좌표계\n",
        "\n",
        "- Albers projection(EPSG:9822) : 미국 지질 조사국에서 사용하는 좌표계\n",
        "\n",
        "GeoPandas는 좌표계 변환 기능을 `to_crs()`라는 함수로 제공한다. 다음 코드는 \" epsg:4326\"에서 \"epsg:3857\"로 변환한다. 다음 코드의 시각화된 결과를 보면, 남극이 찢어져 있는 것을 볼 수 있다. “epsg:3857”, Web mercator projection은 내부적으로 계산이 간단하고 빠르다는 장점이 있지만, 북위 85도, 남위 85도 이상의 지역, 즉 극지방에 대해서는 정보 왜곡이 심하다. 남극 부분이 왜곡된 것은 이 때문이다."
      ],
      "metadata": {
        "id": "yS3u7TQw13JZ"
      }
    },
    {
      "cell_type": "code",
      "source": [
        "countries.crs\n",
        "\n",
        "# epsg:4326"
      ],
      "metadata": {
        "id": "sYvmlYxqX5Li",
        "colab": {
          "base_uri": "https://localhost:8080/"
        },
        "outputId": "8e14f2e6-8fc9-4c67-bf67-37015455bd24"
      },
      "execution_count": 27,
      "outputs": [
        {
          "output_type": "execute_result",
          "data": {
            "text/plain": [
              "<Geographic 2D CRS: EPSG:4326>\n",
              "Name: WGS 84\n",
              "Axis Info [ellipsoidal]:\n",
              "- Lat[north]: Geodetic latitude (degree)\n",
              "- Lon[east]: Geodetic longitude (degree)\n",
              "Area of Use:\n",
              "- name: World.\n",
              "- bounds: (-180.0, -90.0, 180.0, 90.0)\n",
              "Datum: World Geodetic System 1984 ensemble\n",
              "- Ellipsoid: WGS 84\n",
              "- Prime Meridian: Greenwich"
            ]
          },
          "metadata": {},
          "execution_count": 27
        }
      ]
    },
    {
      "cell_type": "code",
      "source": [
        "# 이전의 좌표계와 비교해보자.\n",
        "countries_mercator = countries.to_crs(epsg = 3857)\n",
        "\n",
        "print(countries_mercator.geometry[113])"
      ],
      "metadata": {
        "id": "n3ETw4STX5Oa",
        "colab": {
          "base_uri": "https://localhost:8080/"
        },
        "outputId": "a098d5c0-d14d-4d1f-d83f-e66f37b081d6"
      },
      "execution_count": 28,
      "outputs": [
        {
          "output_type": "stream",
          "name": "stdout",
          "text": [
            "POLYGON ((2614241.130436479 7153601.785967645, 2619073.309504622 7070435.576908916, 2649953.2347877226 6999613.069934945, 2649314.6968394318 6926062.815965136, 2582555.8419753523 6888660.742470466, 2616898.8289239593 6804402.184097363, 2619021.536157463 6724260.516108001, 2675005.7822184064 6569348.0703989, 2663069.1494012605 6520185.512981648, 2607826.9879829274 6499876.023004115, 2506742.403952631 6356150.531597702, 2535459.3538433225 6279511.087609827, 2511160.3962435066 6289421.884152675, 2405370.1902158973 6355008.512342296, 2325236.554002487 6330832.415777705, 2272680.8540422777 6348389.6323475735, 2206911.4453683435 6311783.64968567, 2150771.879265926 6372407.960023718, 2105004.2403776343 6349141.515028633, 2098722.4075890477 6359484.523483149, 2047489.804278448 6444306.756093704, 1964727.2325482017 6454772.762874232, 1954165.4697278284 6509230.959613078, 1877822.7930452595 6528767.982364263, 1861203.5486073168 6483723.521564442, 1800732.2791259561 6519788.224792923, 1807675.6602393521 6567999.294549718, 1724447.1283846756 6583302.9152007215, 1671684.3350358324 6640184.871854487, 1626054.7584066319 6754182.679174118, 1634729.6703527796 6816405.468909968, 1607186.2496643513 6913904.603682262, 1566768.5233157862 6979532.745332213, 1597803.7686403675 7029035.474972972, 1571796.2905843116 7124274.151799718, 1647851.3375604462 7179765.31219739, 1821573.927654398 7267947.714591004, 1961764.6465718984 7333105.420408971, 2072864.4969803414 7300508.4296961045, 2081257.5318141773 7253686.138133963, 2188612.443444805 7251268.055615211, 2325714.0193151715 7229568.370864816, 2530414.3287924137 7232433.536398486, 2587508.825520204 7212040.153671722, 2614241.130436479 7153601.785967645))\n"
          ]
        }
      ]
    },
    {
      "cell_type": "code",
      "source": [
        "ax = countries_mercator.plot(\n",
        "    figsize = (15, 15), column = \"continent\", cmap = 'tab20b', legend = True, categorical = True\n",
        ")\n",
        "\n",
        "ax.set_title(\"세계지도\")\n",
        "ax.set_axis_off()\n",
        "plt.show()"
      ],
      "metadata": {
        "colab": {
          "base_uri": "https://localhost:8080/",
          "height": 1000
        },
        "id": "GfOlFmi12gtQ",
        "outputId": "7a08e180-34ca-4c19-fce2-89f294d72730"
      },
      "execution_count": 29,
      "outputs": [
        {
          "output_type": "stream",
          "name": "stderr",
          "text": [
            "/usr/local/lib/python3.7/dist-packages/matplotlib/backends/backend_agg.py:214: RuntimeWarning: Glyph 49464 missing from current font.\n",
            "  font.set_text(s, 0.0, flags=flags)\n",
            "/usr/local/lib/python3.7/dist-packages/matplotlib/backends/backend_agg.py:214: RuntimeWarning: Glyph 44228 missing from current font.\n",
            "  font.set_text(s, 0.0, flags=flags)\n",
            "/usr/local/lib/python3.7/dist-packages/matplotlib/backends/backend_agg.py:214: RuntimeWarning: Glyph 51648 missing from current font.\n",
            "  font.set_text(s, 0.0, flags=flags)\n",
            "/usr/local/lib/python3.7/dist-packages/matplotlib/backends/backend_agg.py:214: RuntimeWarning: Glyph 46020 missing from current font.\n",
            "  font.set_text(s, 0.0, flags=flags)\n",
            "/usr/local/lib/python3.7/dist-packages/matplotlib/backends/backend_agg.py:183: RuntimeWarning: Glyph 49464 missing from current font.\n",
            "  font.set_text(s, 0, flags=flags)\n",
            "/usr/local/lib/python3.7/dist-packages/matplotlib/backends/backend_agg.py:183: RuntimeWarning: Glyph 44228 missing from current font.\n",
            "  font.set_text(s, 0, flags=flags)\n",
            "/usr/local/lib/python3.7/dist-packages/matplotlib/backends/backend_agg.py:183: RuntimeWarning: Glyph 51648 missing from current font.\n",
            "  font.set_text(s, 0, flags=flags)\n",
            "/usr/local/lib/python3.7/dist-packages/matplotlib/backends/backend_agg.py:183: RuntimeWarning: Glyph 46020 missing from current font.\n",
            "  font.set_text(s, 0, flags=flags)\n"
          ]
        },
        {
          "output_type": "display_data",
          "data": {
            "text/plain": [
              "<Figure size 1080x1080 with 1 Axes>"
            ],
            "image/png": "[encoded data removed]"
          },
          "metadata": {}
        }
      ]
    },
    {
      "cell_type": "markdown",
      "source": [
        "## 좌표계 x, y행 모두 다른 좌표계로 변경하는 방법\n",
        "\n",
        " 우리나라 좌표계는 일반저그올 wgs84 좌표계(epsg:4326)를 사용한다. epsg:5179, TM128 등 다른 좌표계에서 epsg:4326 좌표계로 변경하고 싶은경우 어떻게 하는지 알아보자.\n",
        "\n",
        " `pyproj`를 임포트 후, transform 파라미터에 변경전 좌표계, 변경하고자하는 좌표계, x값,  y값을 넣어주면 된다."
      ],
      "metadata": {
        "id": "qE8NFBU03OIx"
      }
    },
    {
      "cell_type": "code",
      "source": [
        "from pyproj import Proj, transform\n",
        "\n",
        "epsg5179 = Proj(init = 'epsg:5179')\n",
        "wgs84 = Proj(init = 'epsg:4326')\n",
        "\n",
        "x1, y1 = transform(epsg5179, wgs84, 963775, 1941125)\n",
        "\n",
        "print('변경 후: ', x1, y1)"
      ],
      "metadata": {
        "id": "aRdE1BffX5Q8",
        "colab": {
          "base_uri": "https://localhost:8080/"
        },
        "outputId": "58758cbb-3bd7-4261-f9c9-7a97e7b56b85"
      },
      "execution_count": 30,
      "outputs": [
        {
          "output_type": "stream",
          "name": "stderr",
          "text": [
            "/usr/local/lib/python3.7/site-packages/pyproj/crs/crs.py:131: FutureWarning: '+init=<authority>:<code>' syntax is deprecated. '<authority>:<code>' is the preferred initialization method. When making the change, be mindful of axis order changes: https://pyproj4.github.io/pyproj/stable/gotchas.html#axis-order-changes-in-proj-6\n",
            "  in_crs_string = _prepare_from_proj_string(in_crs_string)\n",
            "/usr/local/lib/python3.7/site-packages/pyproj/crs/crs.py:131: FutureWarning: '+init=<authority>:<code>' syntax is deprecated. '<authority>:<code>' is the preferred initialization method. When making the change, be mindful of axis order changes: https://pyproj4.github.io/pyproj/stable/gotchas.html#axis-order-changes-in-proj-6\n",
            "  in_crs_string = _prepare_from_proj_string(in_crs_string)\n",
            "/usr/local/lib/python3.7/dist-packages/ipykernel_launcher.py:6: DeprecationWarning: This function is deprecated. See: https://pyproj4.github.io/pyproj/stable/gotchas.html#upgrading-to-pyproj-2-from-pyproj-1\n",
            "  \n"
          ]
        },
        {
          "output_type": "stream",
          "name": "stdout",
          "text": [
            "변경 후:  127.09034113990917 37.46863143276325\n"
          ]
        }
      ]
    },
    {
      "cell_type": "code",
      "source": [
        "# TM128은 직접 인자를 넣어주어야 한다.\n",
        "\n",
        "from pyproj import Proj, transform\n",
        "\n",
        "TM128 = {'proj' : 'tmerc', 'lat_0' : '38N', 'lon_0' : '128E', 'ellps' : 'bessel', 'x_0' : '400000', 'y_0' : '600000',\n",
        "         'k' : '0.9999', 'towgs84' : '-146.43,507.89,681.46'}\n",
        "\n",
        "wgs84 = Proj(init = 'epsg:4326')\n",
        "\n",
        "transform(Proj(**TM128), wgs84, 963775, 1941125)"
      ],
      "metadata": {
        "colab": {
          "base_uri": "https://localhost:8080/"
        },
        "id": "P-Dylpfs3MJX",
        "outputId": "c38d9302-f376-4cbd-9343-59457284dfac"
      },
      "execution_count": 31,
      "outputs": [
        {
          "output_type": "stream",
          "name": "stderr",
          "text": [
            "/usr/local/lib/python3.7/site-packages/pyproj/crs/crs.py:131: FutureWarning: '+init=<authority>:<code>' syntax is deprecated. '<authority>:<code>' is the preferred initialization method. When making the change, be mindful of axis order changes: https://pyproj4.github.io/pyproj/stable/gotchas.html#axis-order-changes-in-proj-6\n",
            "  in_crs_string = _prepare_from_proj_string(in_crs_string)\n",
            "/usr/local/lib/python3.7/dist-packages/ipykernel_launcher.py:10: DeprecationWarning: This function is deprecated. See: https://pyproj4.github.io/pyproj/stable/gotchas.html#upgrading-to-pyproj-2-from-pyproj-1\n",
            "  # Remove the CWD from sys.path while we load stuff.\n"
          ]
        },
        {
          "output_type": "execute_result",
          "data": {
            "text/plain": [
              "(135.8343159465618, 49.808191831933954)"
            ]
          },
          "metadata": {},
          "execution_count": 31
        }
      ]
    },
    {
      "cell_type": "code",
      "source": [
        "import pandas as pd\n",
        "\n",
        "files = pd.DataFrame([{'X': 963775, 'Y' : 1941125}, {'X' : 974213, 'Y':1958312},{'X':978231, 'Y':1942235}])\n",
        "files.head()"
      ],
      "metadata": {
        "colab": {
          "base_uri": "https://localhost:8080/",
          "height": 143
        },
        "id": "xNgn7_SH3MhZ",
        "outputId": "59132b95-eac8-4c57-dbf5-73d9aac168dc"
      },
      "execution_count": 32,
      "outputs": [
        {
          "output_type": "execute_result",
          "data": {
            "text/plain": [
              "        X        Y\n",
              "0  963775  1941125\n",
              "1  974213  1958312\n",
              "2  978231  1942235"
            ],
            "text/html": [
              "\n",
              "  <div id=\"df-9fce8cfb-3932-406d-a7f5-36ee670ed1a6\">\n",
              "    <div class=\"colab-df-container\">\n",
              "      <div>\n",
              "<style scoped>\n",
              "    .dataframe tbody tr th:only-of-type {\n",
              "        vertical-align: middle;\n",
              "    }\n",
              "\n",
              "    .dataframe tbody tr th {\n",
              "        vertical-align: top;\n",
              "    }\n",
              "\n",
              "    .dataframe thead th {\n",
              "        text-align: right;\n",
              "    }\n",
              "</style>\n",
              "<table border=\"1\" class=\"dataframe\">\n",
              "  <thead>\n",
              "    <tr style=\"text-align: right;\">\n",
              "      <th></th>\n",
              "      <th>X</th>\n",
              "      <th>Y</th>\n",
              "    </tr>\n",
              "  </thead>\n",
              "  <tbody>\n",
              "    <tr>\n",
              "      <th>0</th>\n",
              "      <td>963775</td>\n",
              "      <td>1941125</td>\n",
              "    </tr>\n",
              "    <tr>\n",
              "      <th>1</th>\n",
              "      <td>974213</td>\n",
              "      <td>1958312</td>\n",
              "    </tr>\n",
              "    <tr>\n",
              "      <th>2</th>\n",
              "      <td>978231</td>\n",
              "      <td>1942235</td>\n",
              "    </tr>\n",
              "  </tbody>\n",
              "</table>\n",
              "</div>\n",
              "      <button class=\"colab-df-convert\" onclick=\"convertToInteractive('df-9fce8cfb-3932-406d-a7f5-36ee670ed1a6')\"\n",
              "              title=\"Convert this dataframe to an interactive table.\"\n",
              "              style=\"display:none;\">\n",
              "        \n",
              "  <svg xmlns=\"http://www.w3.org/2000/svg\" height=\"24px\"viewBox=\"0 0 24 24\"\n",
              "       width=\"24px\">\n",
              "    <path d=\"M0 0h24v24H0V0z\" fill=\"none\"/>\n",
              "    <path d=\"M18.56 5.44l.94 2.06.94-2.06 2.06-.94-2.06-.94-.94-2.06-.94 2.06-2.06.94zm-11 1L8.5 8.5l.94-2.06 2.06-.94-2.06-.94L8.5 2.5l-.94 2.06-2.06.94zm10 10l.94 2.06.94-2.06 2.06-.94-2.06-.94-.94-2.06-.94 2.06-2.06.94z\"/><path d=\"M17.41 7.96l-1.37-1.37c-.4-.4-.92-.59-1.43-.59-.52 0-1.04.2-1.43.59L10.3 9.45l-7.72 7.72c-.78.78-.78 2.05 0 2.83L4 21.41c.39.39.9.59 1.41.59.51 0 1.02-.2 1.41-.59l7.78-7.78 2.81-2.81c.8-.78.8-2.07 0-2.86zM5.41 20L4 18.59l7.72-7.72 1.47 1.35L5.41 20z\"/>\n",
              "  </svg>\n",
              "      </button>\n",
              "      \n",
              "  <style>\n",
              "    .colab-df-container {\n",
              "      display:flex;\n",
              "      flex-wrap:wrap;\n",
              "      gap: 12px;\n",
              "    }\n",
              "\n",
              "    .colab-df-convert {\n",
              "      background-color: #E8F0FE;\n",
              "      border: none;\n",
              "      border-radius: 50%;\n",
              "      cursor: pointer;\n",
              "      display: none;\n",
              "      fill: #1967D2;\n",
              "      height: 32px;\n",
              "      padding: 0 0 0 0;\n",
              "      width: 32px;\n",
              "    }\n",
              "\n",
              "    .colab-df-convert:hover {\n",
              "      background-color: #E2EBFA;\n",
              "      box-shadow: 0px 1px 2px rgba(60, 64, 67, 0.3), 0px 1px 3px 1px rgba(60, 64, 67, 0.15);\n",
              "      fill: #174EA6;\n",
              "    }\n",
              "\n",
              "    [theme=dark] .colab-df-convert {\n",
              "      background-color: #3B4455;\n",
              "      fill: #D2E3FC;\n",
              "    }\n",
              "\n",
              "    [theme=dark] .colab-df-convert:hover {\n",
              "      background-color: #434B5C;\n",
              "      box-shadow: 0px 1px 3px 1px rgba(0, 0, 0, 0.15);\n",
              "      filter: drop-shadow(0px 1px 2px rgba(0, 0, 0, 0.3));\n",
              "      fill: #FFFFFF;\n",
              "    }\n",
              "  </style>\n",
              "\n",
              "      <script>\n",
              "        const buttonEl =\n",
              "          document.querySelector('#df-9fce8cfb-3932-406d-a7f5-36ee670ed1a6 button.colab-df-convert');\n",
              "        buttonEl.style.display =\n",
              "          google.colab.kernel.accessAllowed ? 'block' : 'none';\n",
              "\n",
              "        async function convertToInteractive(key) {\n",
              "          const element = document.querySelector('#df-9fce8cfb-3932-406d-a7f5-36ee670ed1a6');\n",
              "          const dataTable =\n",
              "            await google.colab.kernel.invokeFunction('convertToInteractive',\n",
              "                                                     [key], {});\n",
              "          if (!dataTable) return;\n",
              "\n",
              "          const docLinkHtml = 'Like what you see? Visit the ' +\n",
              "            '<a target=\"_blank\" href=https://colab.research.google.com/notebooks/data_table.ipynb>data table notebook</a>'\n",
              "            + ' to learn more about interactive tables.';\n",
              "          element.innerHTML = '';\n",
              "          dataTable['output_type'] = 'display_data';\n",
              "          await google.colab.output.renderOutput(dataTable, element);\n",
              "          const docLink = document.createElement('div');\n",
              "          docLink.innerHTML = docLinkHtml;\n",
              "          element.appendChild(docLink);\n",
              "        }\n",
              "      </script>\n",
              "    </div>\n",
              "  </div>\n",
              "  "
            ]
          },
          "metadata": {},
          "execution_count": 32
        }
      ]
    },
    {
      "cell_type": "code",
      "source": [
        "files['trans_X'], files['trans_Y'] = transform(Proj(**TM128), wgs84, files['X'].tolist(), files['Y'].tolist())\n",
        "files.head()"
      ],
      "metadata": {
        "colab": {
          "base_uri": "https://localhost:8080/",
          "height": 198
        },
        "id": "p-LpAY9j3MkA",
        "outputId": "eefcb77a-4d65-42d1-a53f-7bd863d3d122"
      },
      "execution_count": 33,
      "outputs": [
        {
          "output_type": "stream",
          "name": "stderr",
          "text": [
            "/usr/local/lib/python3.7/dist-packages/ipykernel_launcher.py:1: DeprecationWarning: This function is deprecated. See: https://pyproj4.github.io/pyproj/stable/gotchas.html#upgrading-to-pyproj-2-from-pyproj-1\n",
            "  \"\"\"Entry point for launching an IPython kernel.\n"
          ]
        },
        {
          "output_type": "execute_result",
          "data": {
            "text/plain": [
              "        X        Y     trans_X    trans_Y\n",
              "0  963775  1941125  135.834316  49.808192\n",
              "1  974213  1958312  136.003361  49.951363\n",
              "2  978231  1942235  136.034857  49.804371"
            ],
            "text/html": [
              "\n",
              "  <div id=\"df-84ea3b5a-3695-4c46-8ce7-4fa14d7114aa\">\n",
              "    <div class=\"colab-df-container\">\n",
              "      <div>\n",
              "<style scoped>\n",
              "    .dataframe tbody tr th:only-of-type {\n",
              "        vertical-align: middle;\n",
              "    }\n",
              "\n",
              "    .dataframe tbody tr th {\n",
              "        vertical-align: top;\n",
              "    }\n",
              "\n",
              "    .dataframe thead th {\n",
              "        text-align: right;\n",
              "    }\n",
              "</style>\n",
              "<table border=\"1\" class=\"dataframe\">\n",
              "  <thead>\n",
              "    <tr style=\"text-align: right;\">\n",
              "      <th></th>\n",
              "      <th>X</th>\n",
              "      <th>Y</th>\n",
              "      <th>trans_X</th>\n",
              "      <th>trans_Y</th>\n",
              "    </tr>\n",
              "  </thead>\n",
              "  <tbody>\n",
              "    <tr>\n",
              "      <th>0</th>\n",
              "      <td>963775</td>\n",
              "      <td>1941125</td>\n",
              "      <td>135.834316</td>\n",
              "      <td>49.808192</td>\n",
              "    </tr>\n",
              "    <tr>\n",
              "      <th>1</th>\n",
              "      <td>974213</td>\n",
              "      <td>1958312</td>\n",
              "      <td>136.003361</td>\n",
              "      <td>49.951363</td>\n",
              "    </tr>\n",
              "    <tr>\n",
              "      <th>2</th>\n",
              "      <td>978231</td>\n",
              "      <td>1942235</td>\n",
              "      <td>136.034857</td>\n",
              "      <td>49.804371</td>\n",
              "    </tr>\n",
              "  </tbody>\n",
              "</table>\n",
              "</div>\n",
              "      <button class=\"colab-df-convert\" onclick=\"convertToInteractive('df-84ea3b5a-3695-4c46-8ce7-4fa14d7114aa')\"\n",
              "              title=\"Convert this dataframe to an interactive table.\"\n",
              "              style=\"display:none;\">\n",
              "        \n",
              "  <svg xmlns=\"http://www.w3.org/2000/svg\" height=\"24px\"viewBox=\"0 0 24 24\"\n",
              "       width=\"24px\">\n",
              "    <path d=\"M0 0h24v24H0V0z\" fill=\"none\"/>\n",
              "    <path d=\"M18.56 5.44l.94 2.06.94-2.06 2.06-.94-2.06-.94-.94-2.06-.94 2.06-2.06.94zm-11 1L8.5 8.5l.94-2.06 2.06-.94-2.06-.94L8.5 2.5l-.94 2.06-2.06.94zm10 10l.94 2.06.94-2.06 2.06-.94-2.06-.94-.94-2.06-.94 2.06-2.06.94z\"/><path d=\"M17.41 7.96l-1.37-1.37c-.4-.4-.92-.59-1.43-.59-.52 0-1.04.2-1.43.59L10.3 9.45l-7.72 7.72c-.78.78-.78 2.05 0 2.83L4 21.41c.39.39.9.59 1.41.59.51 0 1.02-.2 1.41-.59l7.78-7.78 2.81-2.81c.8-.78.8-2.07 0-2.86zM5.41 20L4 18.59l7.72-7.72 1.47 1.35L5.41 20z\"/>\n",
              "  </svg>\n",
              "      </button>\n",
              "      \n",
              "  <style>\n",
              "    .colab-df-container {\n",
              "      display:flex;\n",
              "      flex-wrap:wrap;\n",
              "      gap: 12px;\n",
              "    }\n",
              "\n",
              "    .colab-df-convert {\n",
              "      background-color: #E8F0FE;\n",
              "      border: none;\n",
              "      border-radius: 50%;\n",
              "      cursor: pointer;\n",
              "      display: none;\n",
              "      fill: #1967D2;\n",
              "      height: 32px;\n",
              "      padding: 0 0 0 0;\n",
              "      width: 32px;\n",
              "    }\n",
              "\n",
              "    .colab-df-convert:hover {\n",
              "      background-color: #E2EBFA;\n",
              "      box-shadow: 0px 1px 2px rgba(60, 64, 67, 0.3), 0px 1px 3px 1px rgba(60, 64, 67, 0.15);\n",
              "      fill: #174EA6;\n",
              "    }\n",
              "\n",
              "    [theme=dark] .colab-df-convert {\n",
              "      background-color: #3B4455;\n",
              "      fill: #D2E3FC;\n",
              "    }\n",
              "\n",
              "    [theme=dark] .colab-df-convert:hover {\n",
              "      background-color: #434B5C;\n",
              "      box-shadow: 0px 1px 3px 1px rgba(0, 0, 0, 0.15);\n",
              "      filter: drop-shadow(0px 1px 2px rgba(0, 0, 0, 0.3));\n",
              "      fill: #FFFFFF;\n",
              "    }\n",
              "  </style>\n",
              "\n",
              "      <script>\n",
              "        const buttonEl =\n",
              "          document.querySelector('#df-84ea3b5a-3695-4c46-8ce7-4fa14d7114aa button.colab-df-convert');\n",
              "        buttonEl.style.display =\n",
              "          google.colab.kernel.accessAllowed ? 'block' : 'none';\n",
              "\n",
              "        async function convertToInteractive(key) {\n",
              "          const element = document.querySelector('#df-84ea3b5a-3695-4c46-8ce7-4fa14d7114aa');\n",
              "          const dataTable =\n",
              "            await google.colab.kernel.invokeFunction('convertToInteractive',\n",
              "                                                     [key], {});\n",
              "          if (!dataTable) return;\n",
              "\n",
              "          const docLinkHtml = 'Like what you see? Visit the ' +\n",
              "            '<a target=\"_blank\" href=https://colab.research.google.com/notebooks/data_table.ipynb>data table notebook</a>'\n",
              "            + ' to learn more about interactive tables.';\n",
              "          element.innerHTML = '';\n",
              "          dataTable['output_type'] = 'display_data';\n",
              "          await google.colab.output.renderOutput(dataTable, element);\n",
              "          const docLink = document.createElement('div');\n",
              "          docLink.innerHTML = docLinkHtml;\n",
              "          element.appendChild(docLink);\n",
              "        }\n",
              "      </script>\n",
              "    </div>\n",
              "  </div>\n",
              "  "
            ]
          },
          "metadata": {},
          "execution_count": 33
        }
      ]
    },
    {
      "cell_type": "markdown",
      "source": [
        "# 공간 데이터 결합(Spatial Join)\n",
        "\n",
        "공간결합이란, 두 공간 데이터프레임을 결합하는데,  key값이 아닌 위치정보에 따라 결합(overlay)해 주는 방식이다.\n",
        "\n",
        "- `gpd.overlay` : 두 공간데이터의 위치정보(geometry)를 연산\n",
        "- `pd.merge` : 두 데이터프레임을 동일한 key값에 대하여 결합\n",
        "\n",
        "\n",
        "\n",
        "- 법정동 경계 : polygon\n",
        "- 시군구 경계 : polygon\n",
        "- 소방서 위치 : point"
      ],
      "metadata": {
        "id": "s0zx5Wgx6iaA"
      }
    },
    {
      "cell_type": "code",
      "source": [
        "import pandas as pd\n",
        "import geopandas as gpd\n",
        "from shapely.geometry import Point, Polygon, LineString\n",
        "from fiona.crs import from_string\n",
        "\n",
        "epsg4326 = from_string(\"+proj=longlat +ellps=WGS84 +no_defs\")\n",
        "epsg5179 = from_string(\"+proj=tmerc +lat_0=38 +lon_0=127.5 +k=0.9996 +x_0=1000000 +y_0=2000000 +ellps=GRS80 +units=m +no_defs\")\n",
        "\n",
        "seoul_bjd = gpd.GeoDataFrame.from_file('/content/drive/MyDrive/geodata/TL_SCCO_EMD.shp', encoding = 'cp949')\n",
        "seoul_bjd.crs = epsg5179\n",
        "seoul_sig = gpd.GeoDataFrame.from_file('/content/drive/MyDrive/geodata/TL_SCCO_SIG.shp', encoding = 'cp949')\n",
        "seoul_sig.crs = epsg5179\n",
        "\n",
        "pt_119 = pd.read_csv(\"/content/drive/MyDrive/geodata/서울시 안전센터관할 위치정보 (좌표계_ WGS1984).csv\", encoding = 'cp949', dtype = str)\n",
        "pt_119['경도'] = pt_119['경도'].astype(float)\n",
        "pt_119['위도'] = pt_119['위도'].astype(float)\n",
        "pt_119['geometry'] = pt_119.apply(lambda row : Point([row['경도'], row['위도']]), axis = 1)\n",
        "pt_119 = gpd.GeoDataFrame(pt_119, geometry = 'geometry', crs = epsg4326)\n",
        "pt_119 = pt_119.to_crs(epsg5179)"
      ],
      "metadata": {
        "colab": {
          "base_uri": "https://localhost:8080/"
        },
        "id": "B7zJb8RT3Mmm",
        "outputId": "f1afa419-6671-4a76-9b01-a77374b33887"
      },
      "execution_count": 34,
      "outputs": [
        {
          "output_type": "stream",
          "name": "stderr",
          "text": [
            "/usr/local/lib/python3.7/site-packages/pandas/core/dtypes/cast.py:118: ShapelyDeprecationWarning: The array interface is deprecated and will no longer work in Shapely 2.0. Convert the '.coords' to a numpy array instead.\n",
            "  arr = construct_1d_object_array_from_listlike(values)\n"
          ]
        }
      ]
    },
    {
      "cell_type": "code",
      "source": [
        "pt_119"
      ],
      "metadata": {
        "colab": {
          "base_uri": "https://localhost:8080/",
          "height": 423
        },
        "id": "cZoKmdPQ634c",
        "outputId": "4f6ceeec-5e0d-40c4-c511-4e94c3a8f6a5"
      },
      "execution_count": 35,
      "outputs": [
        {
          "output_type": "execute_result",
          "data": {
            "text/plain": [
              "    고유번호     센터ID        센터명         위도          경도  \\\n",
              "0     21  1121101  양천119안전센터  37.527161  126.869452   \n",
              "1     22  1122101  신내119안전센터  37.610246  127.096473   \n",
              "2     42  1115104  서초119안전센터  37.487773  127.017145   \n",
              "3      3  1106102  이촌119안전센터  37.527841  126.958318   \n",
              "4      4  1106104  후암119안전센터  37.544896  126.981242   \n",
              "..   ...      ...        ...        ...         ...   \n",
              "112  117  1105105  금호119안전센터  37.545841  127.024530   \n",
              "113  106  1114401  삼성119안전센터  37.510765  127.056252   \n",
              "114  107  1114103  영동119안전센터  37.520161  127.027564   \n",
              "115  108  1111105  수락119안전센터  37.675376  127.066846   \n",
              "116  109  1119104  구로119안전센터  37.496988  126.887320   \n",
              "\n",
              "                           geometry  \n",
              "0    POINT (944285.708 1947726.391)  \n",
              "1    POINT (964384.657 1956833.993)  \n",
              "2    POINT (957313.294 1943279.263)  \n",
              "3    POINT (952138.241 1947752.947)  \n",
              "4    POINT (954174.229 1949633.598)  \n",
              "..                              ...  \n",
              "112  POINT (957998.796 1949718.266)  \n",
              "113  POINT (960782.611 1945813.139)  \n",
              "114  POINT (958252.454 1946867.912)  \n",
              "115  POINT (961803.081 1964071.479)  \n",
              "116  POINT (945842.715 1944368.416)  \n",
              "\n",
              "[117 rows x 6 columns]"
            ],
            "text/html": [
              "\n",
              "  <div id=\"df-016821ee-b5e4-4693-a6c1-3301a1199278\">\n",
              "    <div class=\"colab-df-container\">\n",
              "      <div>\n",
              "<style scoped>\n",
              "    .dataframe tbody tr th:only-of-type {\n",
              "        vertical-align: middle;\n",
              "    }\n",
              "\n",
              "    .dataframe tbody tr th {\n",
              "        vertical-align: top;\n",
              "    }\n",
              "\n",
              "    .dataframe thead th {\n",
              "        text-align: right;\n",
              "    }\n",
              "</style>\n",
              "<table border=\"1\" class=\"dataframe\">\n",
              "  <thead>\n",
              "    <tr style=\"text-align: right;\">\n",
              "      <th></th>\n",
              "      <th>고유번호</th>\n",
              "      <th>센터ID</th>\n",
              "      <th>센터명</th>\n",
              "      <th>위도</th>\n",
              "      <th>경도</th>\n",
              "      <th>geometry</th>\n",
              "    </tr>\n",
              "  </thead>\n",
              "  <tbody>\n",
              "    <tr>\n",
              "      <th>0</th>\n",
              "      <td>21</td>\n",
              "      <td>1121101</td>\n",
              "      <td>양천119안전센터</td>\n",
              "      <td>37.527161</td>\n",
              "      <td>126.869452</td>\n",
              "      <td>POINT (944285.708 1947726.391)</td>\n",
              "    </tr>\n",
              "    <tr>\n",
              "      <th>1</th>\n",
              "      <td>22</td>\n",
              "      <td>1122101</td>\n",
              "      <td>신내119안전센터</td>\n",
              "      <td>37.610246</td>\n",
              "      <td>127.096473</td>\n",
              "      <td>POINT (964384.657 1956833.993)</td>\n",
              "    </tr>\n",
              "    <tr>\n",
              "      <th>2</th>\n",
              "      <td>42</td>\n",
              "      <td>1115104</td>\n",
              "      <td>서초119안전센터</td>\n",
              "      <td>37.487773</td>\n",
              "      <td>127.017145</td>\n",
              "      <td>POINT (957313.294 1943279.263)</td>\n",
              "    </tr>\n",
              "    <tr>\n",
              "      <th>3</th>\n",
              "      <td>3</td>\n",
              "      <td>1106102</td>\n",
              "      <td>이촌119안전센터</td>\n",
              "      <td>37.527841</td>\n",
              "      <td>126.958318</td>\n",
              "      <td>POINT (952138.241 1947752.947)</td>\n",
              "    </tr>\n",
              "    <tr>\n",
              "      <th>4</th>\n",
              "      <td>4</td>\n",
              "      <td>1106104</td>\n",
              "      <td>후암119안전센터</td>\n",
              "      <td>37.544896</td>\n",
              "      <td>126.981242</td>\n",
              "      <td>POINT (954174.229 1949633.598)</td>\n",
              "    </tr>\n",
              "    <tr>\n",
              "      <th>...</th>\n",
              "      <td>...</td>\n",
              "      <td>...</td>\n",
              "      <td>...</td>\n",
              "      <td>...</td>\n",
              "      <td>...</td>\n",
              "      <td>...</td>\n",
              "    </tr>\n",
              "    <tr>\n",
              "      <th>112</th>\n",
              "      <td>117</td>\n",
              "      <td>1105105</td>\n",
              "      <td>금호119안전센터</td>\n",
              "      <td>37.545841</td>\n",
              "      <td>127.024530</td>\n",
              "      <td>POINT (957998.796 1949718.266)</td>\n",
              "    </tr>\n",
              "    <tr>\n",
              "      <th>113</th>\n",
              "      <td>106</td>\n",
              "      <td>1114401</td>\n",
              "      <td>삼성119안전센터</td>\n",
              "      <td>37.510765</td>\n",
              "      <td>127.056252</td>\n",
              "      <td>POINT (960782.611 1945813.139)</td>\n",
              "    </tr>\n",
              "    <tr>\n",
              "      <th>114</th>\n",
              "      <td>107</td>\n",
              "      <td>1114103</td>\n",
              "      <td>영동119안전센터</td>\n",
              "      <td>37.520161</td>\n",
              "      <td>127.027564</td>\n",
              "      <td>POINT (958252.454 1946867.912)</td>\n",
              "    </tr>\n",
              "    <tr>\n",
              "      <th>115</th>\n",
              "      <td>108</td>\n",
              "      <td>1111105</td>\n",
              "      <td>수락119안전센터</td>\n",
              "      <td>37.675376</td>\n",
              "      <td>127.066846</td>\n",
              "      <td>POINT (961803.081 1964071.479)</td>\n",
              "    </tr>\n",
              "    <tr>\n",
              "      <th>116</th>\n",
              "      <td>109</td>\n",
              "      <td>1119104</td>\n",
              "      <td>구로119안전센터</td>\n",
              "      <td>37.496988</td>\n",
              "      <td>126.887320</td>\n",
              "      <td>POINT (945842.715 1944368.416)</td>\n",
              "    </tr>\n",
              "  </tbody>\n",
              "</table>\n",
              "<p>117 rows × 6 columns</p>\n",
              "</div>\n",
              "      <button class=\"colab-df-convert\" onclick=\"convertToInteractive('df-016821ee-b5e4-4693-a6c1-3301a1199278')\"\n",
              "              title=\"Convert this dataframe to an interactive table.\"\n",
              "              style=\"display:none;\">\n",
              "        \n",
              "  <svg xmlns=\"http://www.w3.org/2000/svg\" height=\"24px\"viewBox=\"0 0 24 24\"\n",
              "       width=\"24px\">\n",
              "    <path d=\"M0 0h24v24H0V0z\" fill=\"none\"/>\n",
              "    <path d=\"M18.56 5.44l.94 2.06.94-2.06 2.06-.94-2.06-.94-.94-2.06-.94 2.06-2.06.94zm-11 1L8.5 8.5l.94-2.06 2.06-.94-2.06-.94L8.5 2.5l-.94 2.06-2.06.94zm10 10l.94 2.06.94-2.06 2.06-.94-2.06-.94-.94-2.06-.94 2.06-2.06.94z\"/><path d=\"M17.41 7.96l-1.37-1.37c-.4-.4-.92-.59-1.43-.59-.52 0-1.04.2-1.43.59L10.3 9.45l-7.72 7.72c-.78.78-.78 2.05 0 2.83L4 21.41c.39.39.9.59 1.41.59.51 0 1.02-.2 1.41-.59l7.78-7.78 2.81-2.81c.8-.78.8-2.07 0-2.86zM5.41 20L4 18.59l7.72-7.72 1.47 1.35L5.41 20z\"/>\n",
              "  </svg>\n",
              "      </button>\n",
              "      \n",
              "  <style>\n",
              "    .colab-df-container {\n",
              "      display:flex;\n",
              "      flex-wrap:wrap;\n",
              "      gap: 12px;\n",
              "    }\n",
              "\n",
              "    .colab-df-convert {\n",
              "      background-color: #E8F0FE;\n",
              "      border: none;\n",
              "      border-radius: 50%;\n",
              "      cursor: pointer;\n",
              "      display: none;\n",
              "      fill: #1967D2;\n",
              "      height: 32px;\n",
              "      padding: 0 0 0 0;\n",
              "      width: 32px;\n",
              "    }\n",
              "\n",
              "    .colab-df-convert:hover {\n",
              "      background-color: #E2EBFA;\n",
              "      box-shadow: 0px 1px 2px rgba(60, 64, 67, 0.3), 0px 1px 3px 1px rgba(60, 64, 67, 0.15);\n",
              "      fill: #174EA6;\n",
              "    }\n",
              "\n",
              "    [theme=dark] .colab-df-convert {\n",
              "      background-color: #3B4455;\n",
              "      fill: #D2E3FC;\n",
              "    }\n",
              "\n",
              "    [theme=dark] .colab-df-convert:hover {\n",
              "      background-color: #434B5C;\n",
              "      box-shadow: 0px 1px 3px 1px rgba(0, 0, 0, 0.15);\n",
              "      filter: drop-shadow(0px 1px 2px rgba(0, 0, 0, 0.3));\n",
              "      fill: #FFFFFF;\n",
              "    }\n",
              "  </style>\n",
              "\n",
              "      <script>\n",
              "        const buttonEl =\n",
              "          document.querySelector('#df-016821ee-b5e4-4693-a6c1-3301a1199278 button.colab-df-convert');\n",
              "        buttonEl.style.display =\n",
              "          google.colab.kernel.accessAllowed ? 'block' : 'none';\n",
              "\n",
              "        async function convertToInteractive(key) {\n",
              "          const element = document.querySelector('#df-016821ee-b5e4-4693-a6c1-3301a1199278');\n",
              "          const dataTable =\n",
              "            await google.colab.kernel.invokeFunction('convertToInteractive',\n",
              "                                                     [key], {});\n",
              "          if (!dataTable) return;\n",
              "\n",
              "          const docLinkHtml = 'Like what you see? Visit the ' +\n",
              "            '<a target=\"_blank\" href=https://colab.research.google.com/notebooks/data_table.ipynb>data table notebook</a>'\n",
              "            + ' to learn more about interactive tables.';\n",
              "          element.innerHTML = '';\n",
              "          dataTable['output_type'] = 'display_data';\n",
              "          await google.colab.output.renderOutput(dataTable, element);\n",
              "          const docLink = document.createElement('div');\n",
              "          docLink.innerHTML = docLinkHtml;\n",
              "          element.appendChild(docLink);\n",
              "        }\n",
              "      </script>\n",
              "    </div>\n",
              "  </div>\n",
              "  "
            ]
          },
          "metadata": {},
          "execution_count": 35
        }
      ]
    },
    {
      "cell_type": "markdown",
      "source": [
        "# 공간결합(gpd.sjoin)\n",
        "\n",
        "공간 결합은 Geopandas의 `sjoin`함수를 활용하며 입력값들은 다음과 같다.\n",
        "\n",
        "`gpd.sjoin(left_df, right_df, how = 'inner', op = 'intersects')`\n",
        "\n",
        "- `left_df`, `right_df` : 결합할 두 공간데이터프레임 객체\n",
        "- `how` : 결합할 데이터프레임의 기준(`left`, `right`, `inner`, `outer`)\n",
        "- `op` : 결합할 공간연산 방식(`within`, `intersects`, `contains`)\n",
        "\n",
        "다른것은 Pandas의 merge와 동일하지만 key값으로 매칭하던 `on` 대신 공간 결합을 위한 연산방법으로 `op`를 활용한다.\n",
        "\n",
        "3가지 방식을 제공하는데 내부에 있는지(`within`, `contains`), 교차하는지(`intersects`)로 사용할 수 있다.\n",
        "\n",
        "`within`과 `contain`은 동일한 연산이며 기준이 다를 뿐인다.\n",
        "\n",
        "`a.contains(b) == b.within(a)`로 표현할 수 있다."
      ],
      "metadata": {
        "id": "8bLYefo2CPal"
      }
    },
    {
      "cell_type": "markdown",
      "source": [
        "## Point와 Polygon 결합\n",
        "\n"
      ],
      "metadata": {
        "id": "oGV8i3aPC1_d"
      }
    },
    {
      "cell_type": "code",
      "source": [
        "!pip install rtree"
      ],
      "metadata": {
        "colab": {
          "base_uri": "https://localhost:8080/"
        },
        "id": "_ytlsnmZDCzg",
        "outputId": "66e2a5a2-f1e0-469d-dc96-714d8f2c1419"
      },
      "execution_count": 37,
      "outputs": [
        {
          "output_type": "stream",
          "name": "stdout",
          "text": [
            "Requirement already satisfied: rtree in /usr/local/lib/python3.7/site-packages (1.0.0)\n",
            "Requirement already satisfied: typing-extensions>=3.7 in /usr/local/lib/python3.7/site-packages (from rtree) (4.2.0)\n"
          ]
        }
      ]
    },
    {
      "cell_type": "code",
      "source": [
        "result = gpd.sjoin(seoul_sig, pt_119, how = 'left', op = 'intersects')\n",
        "result.head()"
      ],
      "metadata": {
        "colab": {
          "base_uri": "https://localhost:8080/",
          "height": 261
        },
        "id": "-UBFk3TP3MpP",
        "outputId": "dca12bc1-f15c-4906-b4f3-910b3fb8078f"
      },
      "execution_count": 38,
      "outputs": [
        {
          "output_type": "stream",
          "name": "stderr",
          "text": [
            "/usr/local/lib/python3.7/dist-packages/IPython/core/interactiveshell.py:2822: FutureWarning: The `op` parameter is deprecated and will be removed in a future release. Please use the `predicate` parameter instead.\n",
            "  if self.run_code(code, result):\n"
          ]
        },
        {
          "output_type": "execute_result",
          "data": {
            "text/plain": [
              "  SIG_CD SIG_ENG_NM SIG_KOR_NM  \\\n",
              "0  11110  Jongno-gu        종로구   \n",
              "0  11110  Jongno-gu        종로구   \n",
              "0  11110  Jongno-gu        종로구   \n",
              "0  11110  Jongno-gu        종로구   \n",
              "0  11110  Jongno-gu        종로구   \n",
              "\n",
              "                                            geometry  index_right 고유번호  \\\n",
              "0  POLYGON ((956615.453 1953567.199, 956621.579 1...            6    6   \n",
              "0  POLYGON ((956615.453 1953567.199, 956621.579 1...            5    5   \n",
              "0  POLYGON ((956615.453 1953567.199, 956621.579 1...            8    8   \n",
              "0  POLYGON ((956615.453 1953567.199, 956621.579 1...            7    7   \n",
              "0  POLYGON ((956615.453 1953567.199, 956621.579 1...           99   93   \n",
              "\n",
              "      센터ID         센터명         위도          경도  \n",
              "0  1103108   종로119안전센터  37.579479  126.991009  \n",
              "0  1103104   신교119안전센터  37.580398  126.964577  \n",
              "0  1103105   연건119안전센터  37.580569  126.998178  \n",
              "0  1103102  세종로119안전센터  37.581958  126.976747  \n",
              "0  1103106   신영119안전센터  37.608680  126.967890  "
            ],
            "text/html": [
              "\n",
              "  <div id=\"df-1b92e8d3-56e6-454b-9653-43c49a44b595\">\n",
              "    <div class=\"colab-df-container\">\n",
              "      <div>\n",
              "<style scoped>\n",
              "    .dataframe tbody tr th:only-of-type {\n",
              "        vertical-align: middle;\n",
              "    }\n",
              "\n",
              "    .dataframe tbody tr th {\n",
              "        vertical-align: top;\n",
              "    }\n",
              "\n",
              "    .dataframe thead th {\n",
              "        text-align: right;\n",
              "    }\n",
              "</style>\n",
              "<table border=\"1\" class=\"dataframe\">\n",
              "  <thead>\n",
              "    <tr style=\"text-align: right;\">\n",
              "      <th></th>\n",
              "      <th>SIG_CD</th>\n",
              "      <th>SIG_ENG_NM</th>\n",
              "      <th>SIG_KOR_NM</th>\n",
              "      <th>geometry</th>\n",
              "      <th>index_right</th>\n",
              "      <th>고유번호</th>\n",
              "      <th>센터ID</th>\n",
              "      <th>센터명</th>\n",
              "      <th>위도</th>\n",
              "      <th>경도</th>\n",
              "    </tr>\n",
              "  </thead>\n",
              "  <tbody>\n",
              "    <tr>\n",
              "      <th>0</th>\n",
              "      <td>11110</td>\n",
              "      <td>Jongno-gu</td>\n",
              "      <td>종로구</td>\n",
              "      <td>POLYGON ((956615.453 1953567.199, 956621.579 1...</td>\n",
              "      <td>6</td>\n",
              "      <td>6</td>\n",
              "      <td>1103108</td>\n",
              "      <td>종로119안전센터</td>\n",
              "      <td>37.579479</td>\n",
              "      <td>126.991009</td>\n",
              "    </tr>\n",
              "    <tr>\n",
              "      <th>0</th>\n",
              "      <td>11110</td>\n",
              "      <td>Jongno-gu</td>\n",
              "      <td>종로구</td>\n",
              "      <td>POLYGON ((956615.453 1953567.199, 956621.579 1...</td>\n",
              "      <td>5</td>\n",
              "      <td>5</td>\n",
              "      <td>1103104</td>\n",
              "      <td>신교119안전센터</td>\n",
              "      <td>37.580398</td>\n",
              "      <td>126.964577</td>\n",
              "    </tr>\n",
              "    <tr>\n",
              "      <th>0</th>\n",
              "      <td>11110</td>\n",
              "      <td>Jongno-gu</td>\n",
              "      <td>종로구</td>\n",
              "      <td>POLYGON ((956615.453 1953567.199, 956621.579 1...</td>\n",
              "      <td>8</td>\n",
              "      <td>8</td>\n",
              "      <td>1103105</td>\n",
              "      <td>연건119안전센터</td>\n",
              "      <td>37.580569</td>\n",
              "      <td>126.998178</td>\n",
              "    </tr>\n",
              "    <tr>\n",
              "      <th>0</th>\n",
              "      <td>11110</td>\n",
              "      <td>Jongno-gu</td>\n",
              "      <td>종로구</td>\n",
              "      <td>POLYGON ((956615.453 1953567.199, 956621.579 1...</td>\n",
              "      <td>7</td>\n",
              "      <td>7</td>\n",
              "      <td>1103102</td>\n",
              "      <td>세종로119안전센터</td>\n",
              "      <td>37.581958</td>\n",
              "      <td>126.976747</td>\n",
              "    </tr>\n",
              "    <tr>\n",
              "      <th>0</th>\n",
              "      <td>11110</td>\n",
              "      <td>Jongno-gu</td>\n",
              "      <td>종로구</td>\n",
              "      <td>POLYGON ((956615.453 1953567.199, 956621.579 1...</td>\n",
              "      <td>99</td>\n",
              "      <td>93</td>\n",
              "      <td>1103106</td>\n",
              "      <td>신영119안전센터</td>\n",
              "      <td>37.608680</td>\n",
              "      <td>126.967890</td>\n",
              "    </tr>\n",
              "  </tbody>\n",
              "</table>\n",
              "</div>\n",
              "      <button class=\"colab-df-convert\" onclick=\"convertToInteractive('df-1b92e8d3-56e6-454b-9653-43c49a44b595')\"\n",
              "              title=\"Convert this dataframe to an interactive table.\"\n",
              "              style=\"display:none;\">\n",
              "        \n",
              "  <svg xmlns=\"http://www.w3.org/2000/svg\" height=\"24px\"viewBox=\"0 0 24 24\"\n",
              "       width=\"24px\">\n",
              "    <path d=\"M0 0h24v24H0V0z\" fill=\"none\"/>\n",
              "    <path d=\"M18.56 5.44l.94 2.06.94-2.06 2.06-.94-2.06-.94-.94-2.06-.94 2.06-2.06.94zm-11 1L8.5 8.5l.94-2.06 2.06-.94-2.06-.94L8.5 2.5l-.94 2.06-2.06.94zm10 10l.94 2.06.94-2.06 2.06-.94-2.06-.94-.94-2.06-.94 2.06-2.06.94z\"/><path d=\"M17.41 7.96l-1.37-1.37c-.4-.4-.92-.59-1.43-.59-.52 0-1.04.2-1.43.59L10.3 9.45l-7.72 7.72c-.78.78-.78 2.05 0 2.83L4 21.41c.39.39.9.59 1.41.59.51 0 1.02-.2 1.41-.59l7.78-7.78 2.81-2.81c.8-.78.8-2.07 0-2.86zM5.41 20L4 18.59l7.72-7.72 1.47 1.35L5.41 20z\"/>\n",
              "  </svg>\n",
              "      </button>\n",
              "      \n",
              "  <style>\n",
              "    .colab-df-container {\n",
              "      display:flex;\n",
              "      flex-wrap:wrap;\n",
              "      gap: 12px;\n",
              "    }\n",
              "\n",
              "    .colab-df-convert {\n",
              "      background-color: #E8F0FE;\n",
              "      border: none;\n",
              "      border-radius: 50%;\n",
              "      cursor: pointer;\n",
              "      display: none;\n",
              "      fill: #1967D2;\n",
              "      height: 32px;\n",
              "      padding: 0 0 0 0;\n",
              "      width: 32px;\n",
              "    }\n",
              "\n",
              "    .colab-df-convert:hover {\n",
              "      background-color: #E2EBFA;\n",
              "      box-shadow: 0px 1px 2px rgba(60, 64, 67, 0.3), 0px 1px 3px 1px rgba(60, 64, 67, 0.15);\n",
              "      fill: #174EA6;\n",
              "    }\n",
              "\n",
              "    [theme=dark] .colab-df-convert {\n",
              "      background-color: #3B4455;\n",
              "      fill: #D2E3FC;\n",
              "    }\n",
              "\n",
              "    [theme=dark] .colab-df-convert:hover {\n",
              "      background-color: #434B5C;\n",
              "      box-shadow: 0px 1px 3px 1px rgba(0, 0, 0, 0.15);\n",
              "      filter: drop-shadow(0px 1px 2px rgba(0, 0, 0, 0.3));\n",
              "      fill: #FFFFFF;\n",
              "    }\n",
              "  </style>\n",
              "\n",
              "      <script>\n",
              "        const buttonEl =\n",
              "          document.querySelector('#df-1b92e8d3-56e6-454b-9653-43c49a44b595 button.colab-df-convert');\n",
              "        buttonEl.style.display =\n",
              "          google.colab.kernel.accessAllowed ? 'block' : 'none';\n",
              "\n",
              "        async function convertToInteractive(key) {\n",
              "          const element = document.querySelector('#df-1b92e8d3-56e6-454b-9653-43c49a44b595');\n",
              "          const dataTable =\n",
              "            await google.colab.kernel.invokeFunction('convertToInteractive',\n",
              "                                                     [key], {});\n",
              "          if (!dataTable) return;\n",
              "\n",
              "          const docLinkHtml = 'Like what you see? Visit the ' +\n",
              "            '<a target=\"_blank\" href=https://colab.research.google.com/notebooks/data_table.ipynb>data table notebook</a>'\n",
              "            + ' to learn more about interactive tables.';\n",
              "          element.innerHTML = '';\n",
              "          dataTable['output_type'] = 'display_data';\n",
              "          await google.colab.output.renderOutput(dataTable, element);\n",
              "          const docLink = document.createElement('div');\n",
              "          docLink.innerHTML = docLinkHtml;\n",
              "          element.appendChild(docLink);\n",
              "        }\n",
              "      </script>\n",
              "    </div>\n",
              "  </div>\n",
              "  "
            ]
          },
          "metadata": {},
          "execution_count": 38
        }
      ]
    },
    {
      "cell_type": "markdown",
      "source": [
        "`sjoin`은 이렇게 Polygon에 포함된 Point객체들을 매칭하는 용도로 가장 많이 활용된다.\n",
        "\n"
      ],
      "metadata": {
        "id": "5W8UU-NGFUtU"
      }
    },
    {
      "cell_type": "code",
      "source": [
        "# `contain`과 `within`의 차이\n",
        "\n",
        "result_test = gpd.sjoin(seoul_sig, pt_119, how = 'left', op = 'within')\n",
        "result_test.head()"
      ],
      "metadata": {
        "colab": {
          "base_uri": "https://localhost:8080/",
          "height": 261
        },
        "id": "qn-9vr6yEtB3",
        "outputId": "2db5cf83-d62f-4343-a4b1-3ba5978aab09"
      },
      "execution_count": 39,
      "outputs": [
        {
          "output_type": "stream",
          "name": "stderr",
          "text": [
            "/usr/local/lib/python3.7/dist-packages/IPython/core/interactiveshell.py:2822: FutureWarning: The `op` parameter is deprecated and will be removed in a future release. Please use the `predicate` parameter instead.\n",
            "  if self.run_code(code, result):\n"
          ]
        },
        {
          "output_type": "execute_result",
          "data": {
            "text/plain": [
              "  SIG_CD    SIG_ENG_NM SIG_KOR_NM  \\\n",
              "0  11110     Jongno-gu        종로구   \n",
              "1  11140       Jung-gu         중구   \n",
              "2  11170    Yongsan-gu        용산구   \n",
              "3  11200  Seongdong-gu        성동구   \n",
              "4  11215   Gwangjin-gu        광진구   \n",
              "\n",
              "                                            geometry  index_right 고유번호 센터ID  \\\n",
              "0  POLYGON ((956615.453 1953567.199, 956621.579 1...          NaN  NaN  NaN   \n",
              "1  POLYGON ((957890.386 1952616.746, 957909.908 1...          NaN  NaN  NaN   \n",
              "2  POLYGON ((953115.761 1950834.084, 953114.206 1...          NaN  NaN  NaN   \n",
              "3  POLYGON ((959681.109 1952649.605, 959842.412 1...          NaN  NaN  NaN   \n",
              "4  POLYGON ((964825.058 1952633.250, 964875.565 1...          NaN  NaN  NaN   \n",
              "\n",
              "   센터명  위도  경도  \n",
              "0  NaN NaN NaN  \n",
              "1  NaN NaN NaN  \n",
              "2  NaN NaN NaN  \n",
              "3  NaN NaN NaN  \n",
              "4  NaN NaN NaN  "
            ],
            "text/html": [
              "\n",
              "  <div id=\"df-92026363-fa07-4881-b170-14f14c993651\">\n",
              "    <div class=\"colab-df-container\">\n",
              "      <div>\n",
              "<style scoped>\n",
              "    .dataframe tbody tr th:only-of-type {\n",
              "        vertical-align: middle;\n",
              "    }\n",
              "\n",
              "    .dataframe tbody tr th {\n",
              "        vertical-align: top;\n",
              "    }\n",
              "\n",
              "    .dataframe thead th {\n",
              "        text-align: right;\n",
              "    }\n",
              "</style>\n",
              "<table border=\"1\" class=\"dataframe\">\n",
              "  <thead>\n",
              "    <tr style=\"text-align: right;\">\n",
              "      <th></th>\n",
              "      <th>SIG_CD</th>\n",
              "      <th>SIG_ENG_NM</th>\n",
              "      <th>SIG_KOR_NM</th>\n",
              "      <th>geometry</th>\n",
              "      <th>index_right</th>\n",
              "      <th>고유번호</th>\n",
              "      <th>센터ID</th>\n",
              "      <th>센터명</th>\n",
              "      <th>위도</th>\n",
              "      <th>경도</th>\n",
              "    </tr>\n",
              "  </thead>\n",
              "  <tbody>\n",
              "    <tr>\n",
              "      <th>0</th>\n",
              "      <td>11110</td>\n",
              "      <td>Jongno-gu</td>\n",
              "      <td>종로구</td>\n",
              "      <td>POLYGON ((956615.453 1953567.199, 956621.579 1...</td>\n",
              "      <td>NaN</td>\n",
              "      <td>NaN</td>\n",
              "      <td>NaN</td>\n",
              "      <td>NaN</td>\n",
              "      <td>NaN</td>\n",
              "      <td>NaN</td>\n",
              "    </tr>\n",
              "    <tr>\n",
              "      <th>1</th>\n",
              "      <td>11140</td>\n",
              "      <td>Jung-gu</td>\n",
              "      <td>중구</td>\n",
              "      <td>POLYGON ((957890.386 1952616.746, 957909.908 1...</td>\n",
              "      <td>NaN</td>\n",
              "      <td>NaN</td>\n",
              "      <td>NaN</td>\n",
              "      <td>NaN</td>\n",
              "      <td>NaN</td>\n",
              "      <td>NaN</td>\n",
              "    </tr>\n",
              "    <tr>\n",
              "      <th>2</th>\n",
              "      <td>11170</td>\n",
              "      <td>Yongsan-gu</td>\n",
              "      <td>용산구</td>\n",
              "      <td>POLYGON ((953115.761 1950834.084, 953114.206 1...</td>\n",
              "      <td>NaN</td>\n",
              "      <td>NaN</td>\n",
              "      <td>NaN</td>\n",
              "      <td>NaN</td>\n",
              "      <td>NaN</td>\n",
              "      <td>NaN</td>\n",
              "    </tr>\n",
              "    <tr>\n",
              "      <th>3</th>\n",
              "      <td>11200</td>\n",
              "      <td>Seongdong-gu</td>\n",
              "      <td>성동구</td>\n",
              "      <td>POLYGON ((959681.109 1952649.605, 959842.412 1...</td>\n",
              "      <td>NaN</td>\n",
              "      <td>NaN</td>\n",
              "      <td>NaN</td>\n",
              "      <td>NaN</td>\n",
              "      <td>NaN</td>\n",
              "      <td>NaN</td>\n",
              "    </tr>\n",
              "    <tr>\n",
              "      <th>4</th>\n",
              "      <td>11215</td>\n",
              "      <td>Gwangjin-gu</td>\n",
              "      <td>광진구</td>\n",
              "      <td>POLYGON ((964825.058 1952633.250, 964875.565 1...</td>\n",
              "      <td>NaN</td>\n",
              "      <td>NaN</td>\n",
              "      <td>NaN</td>\n",
              "      <td>NaN</td>\n",
              "      <td>NaN</td>\n",
              "      <td>NaN</td>\n",
              "    </tr>\n",
              "  </tbody>\n",
              "</table>\n",
              "</div>\n",
              "      <button class=\"colab-df-convert\" onclick=\"convertToInteractive('df-92026363-fa07-4881-b170-14f14c993651')\"\n",
              "              title=\"Convert this dataframe to an interactive table.\"\n",
              "              style=\"display:none;\">\n",
              "        \n",
              "  <svg xmlns=\"http://www.w3.org/2000/svg\" height=\"24px\"viewBox=\"0 0 24 24\"\n",
              "       width=\"24px\">\n",
              "    <path d=\"M0 0h24v24H0V0z\" fill=\"none\"/>\n",
              "    <path d=\"M18.56 5.44l.94 2.06.94-2.06 2.06-.94-2.06-.94-.94-2.06-.94 2.06-2.06.94zm-11 1L8.5 8.5l.94-2.06 2.06-.94-2.06-.94L8.5 2.5l-.94 2.06-2.06.94zm10 10l.94 2.06.94-2.06 2.06-.94-2.06-.94-.94-2.06-.94 2.06-2.06.94z\"/><path d=\"M17.41 7.96l-1.37-1.37c-.4-.4-.92-.59-1.43-.59-.52 0-1.04.2-1.43.59L10.3 9.45l-7.72 7.72c-.78.78-.78 2.05 0 2.83L4 21.41c.39.39.9.59 1.41.59.51 0 1.02-.2 1.41-.59l7.78-7.78 2.81-2.81c.8-.78.8-2.07 0-2.86zM5.41 20L4 18.59l7.72-7.72 1.47 1.35L5.41 20z\"/>\n",
              "  </svg>\n",
              "      </button>\n",
              "      \n",
              "  <style>\n",
              "    .colab-df-container {\n",
              "      display:flex;\n",
              "      flex-wrap:wrap;\n",
              "      gap: 12px;\n",
              "    }\n",
              "\n",
              "    .colab-df-convert {\n",
              "      background-color: #E8F0FE;\n",
              "      border: none;\n",
              "      border-radius: 50%;\n",
              "      cursor: pointer;\n",
              "      display: none;\n",
              "      fill: #1967D2;\n",
              "      height: 32px;\n",
              "      padding: 0 0 0 0;\n",
              "      width: 32px;\n",
              "    }\n",
              "\n",
              "    .colab-df-convert:hover {\n",
              "      background-color: #E2EBFA;\n",
              "      box-shadow: 0px 1px 2px rgba(60, 64, 67, 0.3), 0px 1px 3px 1px rgba(60, 64, 67, 0.15);\n",
              "      fill: #174EA6;\n",
              "    }\n",
              "\n",
              "    [theme=dark] .colab-df-convert {\n",
              "      background-color: #3B4455;\n",
              "      fill: #D2E3FC;\n",
              "    }\n",
              "\n",
              "    [theme=dark] .colab-df-convert:hover {\n",
              "      background-color: #434B5C;\n",
              "      box-shadow: 0px 1px 3px 1px rgba(0, 0, 0, 0.15);\n",
              "      filter: drop-shadow(0px 1px 2px rgba(0, 0, 0, 0.3));\n",
              "      fill: #FFFFFF;\n",
              "    }\n",
              "  </style>\n",
              "\n",
              "      <script>\n",
              "        const buttonEl =\n",
              "          document.querySelector('#df-92026363-fa07-4881-b170-14f14c993651 button.colab-df-convert');\n",
              "        buttonEl.style.display =\n",
              "          google.colab.kernel.accessAllowed ? 'block' : 'none';\n",
              "\n",
              "        async function convertToInteractive(key) {\n",
              "          const element = document.querySelector('#df-92026363-fa07-4881-b170-14f14c993651');\n",
              "          const dataTable =\n",
              "            await google.colab.kernel.invokeFunction('convertToInteractive',\n",
              "                                                     [key], {});\n",
              "          if (!dataTable) return;\n",
              "\n",
              "          const docLinkHtml = 'Like what you see? Visit the ' +\n",
              "            '<a target=\"_blank\" href=https://colab.research.google.com/notebooks/data_table.ipynb>data table notebook</a>'\n",
              "            + ' to learn more about interactive tables.';\n",
              "          element.innerHTML = '';\n",
              "          dataTable['output_type'] = 'display_data';\n",
              "          await google.colab.output.renderOutput(dataTable, element);\n",
              "          const docLink = document.createElement('div');\n",
              "          docLink.innerHTML = docLinkHtml;\n",
              "          element.appendChild(docLink);\n",
              "        }\n",
              "      </script>\n",
              "    </div>\n",
              "  </div>\n",
              "  "
            ]
          },
          "metadata": {},
          "execution_count": 39
        }
      ]
    },
    {
      "cell_type": "markdown",
      "source": [
        "`op = 'within'` 으로 주면 매칭이 하나도 되지 않는다.\n",
        "그 이유는 설명한 것처럼 기준이 다르기 때문인데, 아래와 같이 변경하면 된다.\n",
        "\n",
        "- `gpd.sjoin(pt_119, seoul_sig, how = 'left', op = 'within')` : 두 데이터의 위치를 바꾸거나\n",
        "- `gpd.sjoin(soul_sig, pt_119, how = 'right', op = 'within')` : 기준을 바꾸면 된다."
      ],
      "metadata": {
        "id": "YyyLcJRkF38Y"
      }
    },
    {
      "cell_type": "markdown",
      "source": [
        "## Polygon과 Polygon 결합\n",
        "\n",
        "Polygon끼리도 결합방식은 동일하지만 주의해야할 경우!\n",
        "\n",
        "Polygon자체가 이빨이 딱 안맞는 경우가 많아서, Polygon끼리 `sjoin`을 할때 포함(within, contains) 여부나 교차하는지(intersects)를 정확하게 판단하기가 어렵다.\n",
        "\n",
        "서울시 시군구 법정동 경계를 결합한다고 했을때 포함(contains)되는 경우와 교차(intersects)되는 경우를 비교해보자. \n",
        "\n",
        "시군구 법정동 경계를 공간결합 하였으며, 종로구(11110)만 필터링하여 결과를 시각화해보자."
      ],
      "metadata": {
        "id": "94UhAmsNGHFW"
      }
    },
    {
      "cell_type": "code",
      "source": [
        "# 1. 포함(contains)\n",
        "\n",
        "res1 = gpd.sjoin(seoul_sig, seoul_bjd, how = 'left', op = 'contains')\n",
        "bjd_list = res1[res1['SIG_KOR_NM'] == '종로구']['EMD_CD'].tolist()\n",
        "\n",
        "ax = seoul_sig[seoul_sig['SIG_CD'] == '11110'].boundary.plot(figsize = (7, 7), color = 'red')\n",
        "seoul_bjd[seoul_bjd['EMD_CD'].str.startswith('11110')].plot(ax = ax, color = 'black', alpha = .2)\n",
        "seoul_bjd[seoul_bjd['EMD_CD'].isin(bjd_list)].plot(ax = ax)\n",
        "\n",
        "plt.show()"
      ],
      "metadata": {
        "colab": {
          "base_uri": "https://localhost:8080/",
          "height": 491
        },
        "id": "fOFIQwiRDC7P",
        "outputId": "2f8655b6-59d0-4796-ec5d-9aee88cf1f8f"
      },
      "execution_count": 42,
      "outputs": [
        {
          "output_type": "stream",
          "name": "stderr",
          "text": [
            "/usr/local/lib/python3.7/dist-packages/IPython/core/interactiveshell.py:2822: FutureWarning: The `op` parameter is deprecated and will be removed in a future release. Please use the `predicate` parameter instead.\n",
            "  if self.run_code(code, result):\n"
          ]
        },
        {
          "output_type": "display_data",
          "data": {
            "text/plain": [
              "<Figure size 504x504 with 1 Axes>"
            ],
            "image/png": "[encoded data removed]"
          },
          "metadata": {}
        }
      ]
    },
    {
      "cell_type": "code",
      "source": [
        "# 2. 교차(intersects)\n",
        "\n",
        "res2 = gpd.sjoin(seoul_sig, seoul_bjd, how = 'left', op = 'intersects')\n",
        "bjd_list = res2[res2['SIG_KOR_NM'] == '종로구']['EMD_CD'].tolist()\n",
        "\n",
        "ax = seoul_sig[seoul_sig['SIG_CD'] == '11110'].boundary.plot(figsize = (7, 7), color = 'red')\n",
        "seoul_bjd[seoul_bjd['EMD_CD'].str.startswith('11110')].plot(ax = ax, color = 'black', alpha = .2)\n",
        "seoul_bjd[seoul_bjd['EMD_CD'].isin(bjd_list)].plot(ax = ax)\n",
        "\n",
        "plt.show()"
      ],
      "metadata": {
        "colab": {
          "base_uri": "https://localhost:8080/",
          "height": 491
        },
        "id": "oC4ekJYxDC-Z",
        "outputId": "7d01f9f6-a812-4dc3-ce98-1e9f72e0bdee"
      },
      "execution_count": 44,
      "outputs": [
        {
          "output_type": "stream",
          "name": "stderr",
          "text": [
            "/usr/local/lib/python3.7/dist-packages/IPython/core/interactiveshell.py:2822: FutureWarning: The `op` parameter is deprecated and will be removed in a future release. Please use the `predicate` parameter instead.\n",
            "  if self.run_code(code, result):\n"
          ]
        },
        {
          "output_type": "display_data",
          "data": {
            "text/plain": [
              "<Figure size 504x504 with 1 Axes>"
            ],
            "image/png": "[encoded data removed]"
          },
          "metadata": {}
        }
      ]
    },
    {
      "cell_type": "markdown",
      "source": [
        "- 빨강 : 종로구의 시군구 경계\n",
        "- 파랑 : 결합된 종로구의 법정동 경계\n",
        "- 회색 : 원래 종로구의 법정동 경계\n",
        "\n",
        "위 그림과 같이 종로구(Polygon) 내의 법정동(Polygon)을 공간결합을 통해 매칭하려고 했을때, 경계가 정확히 일치하지 않기 때문에 발생하는 오차들이다.\n",
        "\n",
        "> 즉, 이 경우는 공간결합이 아닌 시군구코드(SIG_CD)를 key값으로 merge하는 것이 적절하다.\n",
        "\n",
        "하지만, 이 경우도 시군구경계에 buffer를 줘서 경계를 살짝 넓힌 다음 포함(contains) 결합을 통해 추출해낼 순 있다."
      ],
      "metadata": {
        "id": "MrQYW9sGHocS"
      }
    },
    {
      "cell_type": "code",
      "source": [
        "# 3. buffer를 통해 수정\n",
        "\n",
        "seoul_sig['geometry'] = seoul_sig['geometry'].buffer(5)\n",
        "res2 = gpd.sjoin(seoul_sig, seoul_bjd, how = 'left', op = 'contains')\n",
        "bjd_list = res2[res2['SIG_KOR_NM'] == '종로구']['EMD_CD'].tolist()\n",
        "\n",
        "ax = seoul_sig[seoul_sig['SIG_CD'] == '11110'].boundary.plot(figsize = (7, 7), color = 'red')\n",
        "seoul_bjd[seoul_bjd['EMD_CD'].str.startswith(\"11110\")].plot(ax = ax, color = 'black', alpha = .2)\n",
        "seoul_bjd[seoul_bjd['EMD_CD'].isin(bjd_list)].plot(ax = ax)\n",
        "\n",
        "plt.show()"
      ],
      "metadata": {
        "id": "fjC-MYBlX5Wa",
        "colab": {
          "base_uri": "https://localhost:8080/",
          "height": 491
        },
        "outputId": "97ae0f37-e04b-4324-e104-655cb7347aac"
      },
      "execution_count": 46,
      "outputs": [
        {
          "output_type": "stream",
          "name": "stderr",
          "text": [
            "/usr/local/lib/python3.7/dist-packages/IPython/core/interactiveshell.py:2822: FutureWarning: The `op` parameter is deprecated and will be removed in a future release. Please use the `predicate` parameter instead.\n",
            "  if self.run_code(code, result):\n"
          ]
        },
        {
          "output_type": "display_data",
          "data": {
            "text/plain": [
              "<Figure size 504x504 with 1 Axes>"
            ],
            "image/png": "[encoded data removed]"
          },
          "metadata": {}
        }
      ]
    },
    {
      "cell_type": "markdown",
      "source": [
        "이렇게 공간 정보 데이터는 단순히 값(value)만 확인하는 것이 아니라, 공간 객체(geometry)간의 관계와 오류를 세부적으로 파악할 수 있고 적절하게 변형하거나 조합해야 하는 경우가 많다."
      ],
      "metadata": {
        "id": "iFhMMaMzIigy"
      }
    },
    {
      "cell_type": "markdown",
      "source": [
        "# 공간정보 데이터를 자유롭게 변형, 가공, 처리하기"
      ],
      "metadata": {
        "id": "X98_j5XHUIQO"
      }
    },
    {
      "cell_type": "code",
      "source": [
        "import pandas as pd\n",
        "import geopandas as gpd\n",
        "from shapely.geometry import Point, Polygon, LineString\n",
        "import matplotlib.pyplot as plt\n",
        "\n",
        "import warnings\n",
        "warnings.filterwarnings(action='ignore') \n",
        "\n",
        "plt.rc('font', family='NanumBarunGothic') \n",
        "\n",
        "\n",
        "seoul_area = gpd.GeoDataFrame.from_file(\"/content/drive/MyDrive/geodata/LARD_ADM_SECT_SGG_11.shp\", encoding='cp949')\n",
        "pt_119 = pd.read_csv(\"/content/drive/MyDrive/geodata/서울시 안전센터관할 위치정보 (좌표계_ WGS1984).csv\", encoding = 'cp949', dtype = str)\n",
        "pt_119['경도'] = pt_119['경도'].astype(float)\n",
        "pt_119['위도'] = pt_119['위도'].astype(float)\n",
        "pt_119['geometry'] = pt_119.apply(lambda row : Point([row['경도'], row['위도']]), axis=1)\n",
        "pt_119 = gpd.GeoDataFrame(pt_119, geometry='geometry')\n",
        "pt_119.crs = {'init':'epsg:4326'}\n",
        "pt_119 = pt_119.to_crs({'init':'epsg:5179'})"
      ],
      "metadata": {
        "id": "zPvuKUo6H8Jw"
      },
      "execution_count": 59,
      "outputs": []
    },
    {
      "cell_type": "code",
      "source": [
        ""
      ],
      "metadata": {
        "id": "bXgrq-VWXKpf"
      },
      "execution_count": null,
      "outputs": []
    },
    {
      "cell_type": "markdown",
      "source": [
        "## 1. 객체 속성\n",
        "1. `area` : 면적 계산\n",
        "2. `length` : 길이 계산\n",
        "3. `boundary` : 테두리(LineString객체)\n",
        "4. `exterior` : 테두리(LinearRing객체)\n",
        "5. `centroid` : 무게중심점\n",
        "6. `xy` : 좌표 반환(array, tuple 객체)\n",
        "7. `coords` : 좌표 반환(shapely.coords 객체)\n",
        "8. `is_valid` : 도형 유효성 검사(boolean)\n",
        "9. `geom_type` : 공간 객체 타입"
      ],
      "metadata": {
        "id": "ykzE2sn-VRQL"
      }
    },
    {
      "cell_type": "code",
      "source": [
        "# Area\n",
        "\n",
        "seoul_area.geometry.area.head()"
      ],
      "metadata": {
        "colab": {
          "base_uri": "https://localhost:8080/"
        },
        "id": "ueKevCgIH8MH",
        "outputId": "4d2a9df6-0168-4381-afb4-48a2b462370f"
      },
      "execution_count": 50,
      "outputs": [
        {
          "output_type": "execute_result",
          "data": {
            "text/plain": [
              "0    2.453758e+07\n",
              "1    3.383061e+07\n",
              "2    3.946631e+07\n",
              "3    4.685083e+07\n",
              "4    2.954112e+07\n",
              "dtype: float64"
            ]
          },
          "metadata": {},
          "execution_count": 50
        }
      ]
    },
    {
      "cell_type": "code",
      "source": [
        "# length\n",
        "\n",
        "seoul_area.geometry.length.head()\n",
        "\n",
        "## Polygon의 length는 테두리의 길이(=둘레)가 될 것"
      ],
      "metadata": {
        "colab": {
          "base_uri": "https://localhost:8080/"
        },
        "id": "xXGRSr72H8Oh",
        "outputId": "8c65f8c4-30a1-4cc9-9e0d-41c130731cf1"
      },
      "execution_count": 51,
      "outputs": [
        {
          "output_type": "execute_result",
          "data": {
            "text/plain": [
              "0    24029.227412\n",
              "1    30532.219899\n",
              "2    35504.681042\n",
              "3    43978.564653\n",
              "4    27448.698426\n",
              "dtype: float64"
            ]
          },
          "metadata": {},
          "execution_count": 51
        }
      ]
    },
    {
      "cell_type": "code",
      "source": [
        "# boundary\n",
        "\n",
        "seoul_area.geometry[3].boundary\n",
        "\n",
        "## boundary는  polygon객체의 테두리로 Linestring 객체를 반환한다."
      ],
      "metadata": {
        "colab": {
          "base_uri": "https://localhost:8080/",
          "height": 322
        },
        "id": "8-f9_83BH8Qn",
        "outputId": "25addba4-b4ab-4b66-8b87-9eb8ae600516"
      },
      "execution_count": 54,
      "outputs": [
        {
          "output_type": "execute_result",
          "data": {
            "text/plain": [
              "<shapely.geometry.linestring.LineString at 0x7f33497b7550>"
            ],
            "image/svg+xml": "<svg xmlns=\"http://www.w3.org/2000/svg\" xmlns:xlink=\"http://www.w3.org/1999/xlink\" width=\"300\" height=\"300\" viewBox=\"953593.7111115848 1936232.9699240848 11091.365267267334 11678.842647230485\" preserveAspectRatio=\"xMinYMin meet\"><g transform=\"matrix(1,0,0,-1,0,3884144.7824954)\"><polyline fill=\"none\" stroke=\"#66cc99\" stroke-width=\"77.85895098153657\" points=\"958117.752991218,1940073.8549744 958118.398211073,1940045.03829689 958118.953748601,1940017.21972223 958119.064885895,1940009.31907795 958116.7358637,1940002.72786246 958110.250041283,1939983.60232102 958097.5976017,1939970.72709247 958080.871141648,1939953.78294478 958079.017692848,1939951.8674694 958070.405685468,1939947.10383047 958051.687311045,1939936.64780849 958029.295311648,1939924.11500538 958015.352369049,1939916.34370459 958001.121295215,1939915.51734173 957989.401358538,1939914.89361116 957978.100058303,1939914.23067922 957962.218517831,1939913.57798801 957950.581478746,1939913.12975324 957936.721361278,1939912.51034961 957927.407058628,1939912.17577755 957913.474255643,1939911.61073839 957899.05346101,1939905.91219397 957886.944978906,1939901.19104569 957879.766745935,1939898.75294998 957876.835902984,1939897.6318812 957860.155410335,1939895.60992856 957844.149404061,1939893.7273537 957819.136669233,1939892.01838921 957795.454131546,1939890.4403348 957790.029300863,1939884.23436021 957776.752768746,1939869.03129587 957763.368560109,1939853.50392177 957756.665070648,1939842.36055286 957747.023094822,1939826.95132566 957743.372200017,1939821.23577804 957742.9606132,1939820.34028997 957733.019536504,1939811.88105864 957722.559910562,1939802.90376473 957697.869733933,1939787.15431569 957680.801249258,1939777.3613064 957674.099343058,1939775.58544146 957667.049475558,1939774.17028408 957661.394462827,1939773.7703657 957659.604464593,1939773.26702773 957648.650989507,1939772.59625565 957623.79133652,1939771.10339683 957621.116840232,1939770.82165815 957585.618516279,1939770.53266331 957580.183579081,1939770.35149859 957567.294817481,1939760.80027398 957562.359785521,1939757.23572185 957558.81000386,1939754.57150244 957545.945544503,1939744.51233771 957531.187816003,1939735.96962985 957521.897372123,1939730.50983608 957520.388308837,1939729.44721897 957476.967206716,1939723.54324694 957464.515392439,1939725.53741384 957457.055306863,1939727.26425852 957444.674675601,1939730.05375297 957427.093256402,1939736.8632808 957409.149119504,1939743.70071843 957396.626386059,1939748.72813323 957381.471921687,1939754.94403633 957376.62362739,1939756.81500329 957371.554833839,1939758.19831871 957351.320960277,1939763.4134802 957335.509381939,1939767.67258955 957330.722528394,1939769.06440958 957305.433851987,1939760.54843187 957284.925058468,1939753.47961525 957277.650531618,1939750.98004935 957261.81997725,1939730.68238703 957249.623061396,1939715.10573615 957248.38209681,1939713.32496656 957235.700977509,1939695.21981791 957227.112292239,1939682.9628338 957218.999258153,1939669.16190563 957215.171893231,1939666.74606184 957212.551220776,1939665.30147002 957174.595671481,1939644.58506812 957155.75048631,1939634.72547946 957110.62106056,1939625.62073201 957093.695551998,1939626.79288299 957061.516739049,1939629.10434633 957030.332729022,1939642.21753206 957004.144807675,1939658.15422558 956977.561668053,1939674.39989717 956962.477983092,1939683.60331776 956906.548935265,1939697.2412889 956883.58024887,1939702.86877417 956873.242000836,1939705.68644909 956872.892680051,1939706.35704909 956834.522891146,1939702.1946884 956834.432852973,1939701.80331027 956783.936536922,1939691.21252182 956764.796039066,1939695.63319277 956764.747808987,1939688.4071301 956735.801546782,1939693.12959157 956734.45422797,1939699.96518612 956731.019171878,1939715.39464184 956727.316133184,1939731.94210122 956725.431008314,1939740.28798206 956724.15169968,1939746.75235454 956721.227456242,1939761.42638716 956720.14552876,1939764.76487498 956719.231772095,1939767.01387699 956715.09083884,1939775.99346313 956709.504270237,1939781.53997535 956699.379074452,1939791.56185055 956696.387470413,1939797.28356235 956689.115676563,1939810.98196999 956674.051780862,1939826.75985141 956666.565527991,1939840.92322228 956655.647379912,1939854.6769112 956650.226840488,1939860.42946897 956645.040344837,1939864.69533956 956629.615000042,1939877.34029822 956624.313354017,1939879.86942287 956602.408852264,1939889.76369849 956596.158955092,1939893.31246437 956582.441464308,1939910.0168781 956574.439904801,1939925.597453 956565.852074709,1939935.60719798 956557.967170343,1939944.89648956 956550.318790615,1939953.92362654 956548.573477555,1939957.52053089 956543.557804796,1939967.62133397 956538.776017522,1939977.3390412 956534.63842261,1939985.81579888 956540.677064918,1939993.72789932 956540.851041127,1940001.48110258 956540.543684801,1940007.43752019 956539.244276275,1940017.470677 956536.290695434,1940024.14383634 956539.098909037,1940024.94767313 956538.894001692,1940025.70647634 956516.841991809,1940034.73885683 956515.857704611,1940051.80673674 956507.294047684,1940066.00680144 956507.569833652,1940069.57501818 956507.161986804,1940102.25705589 956490.086742401,1940109.32682181 956477.521015843,1940151.75860274 956463.996221688,1940165.20720976 956449.524122216,1940186.27700572 956427.935489952,1940206.74769669 956424.221629161,1940218.22610032 956404.054289828,1940226.57276402 956397.100099339,1940241.72895761 956383.76483904,1940263.79236985 956382.511039326,1940266.57597505 956357.953641583,1940325.98594949 956349.333732265,1940343.72300574 956325.207866963,1940393.06243293 956324.167045517,1940395.10118711 956315.091883812,1940405.58034501 956326.894433688,1940412.55527877 956326.132522103,1940414.40762557 956316.93042001,1940434.71181372 956307.787515547,1940453.54623369 956307.205236079,1940455.34165071 956292.965607488,1940485.96068467 956288.045662901,1940490.53803387 956265.480691061,1940509.36451361 956254.171980206,1940513.53883425 956222.534770545,1940557.18614538 956207.597079634,1940593.97759203 956204.741828105,1940600.90813968 956203.420814224,1940629.33559924 956194.642153765,1940638.7965684 956178.916703859,1940655.74454055 956209.069905175,1940745.1587729 956205.275333259,1940749.88511075 956198.474379812,1940777.56186076 956200.363931362,1940784.0314597 956217.256261533,1940847.41853821 956218.486195325,1940851.83638943 956188.076200832,1940896.55182071 956181.929182052,1940905.93988668 956182.278480038,1940908.28716763 956185.062393438,1940957.19630593 956185.359450822,1940957.98344152 956172.743211468,1940978.02081302 956160.890253143,1940996.46473428 956150.712740124,1941012.46569051 956110.799114665,1941060.74012924 956027.286435204,1940995.08560683 955958.983881842,1940991.3376206 955937.358683501,1941004.8980935 955916.960952576,1941017.68835338 955877.742888033,1941005.3015789 955873.615513509,1941003.99791383 955827.576772938,1940989.30710287 955793.504746048,1940994.28665305 955741.754988432,1941000.34839747 955696.310528431,1941006.52971502 955677.577944604,1941009.07695195 955670.108156868,1941006.70637771 955616.084362516,1940989.56074838 955591.004166334,1940986.07182516 955573.269506531,1940999.44077584 955562.316886441,1941007.43580718 955557.962327295,1941010.6146866 955535.328834195,1941007.61862743 955518.906197037,1941003.89595355 955498.185431559,1940992.10501947 955485.863297677,1940975.92024341 955451.841269105,1940940.86333341 955454.607453321,1940932.59174646 955463.732652665,1940905.12359043 955477.368352313,1940864.08757178 955471.122462897,1940838.36215188 955471.611056372,1940837.94172057 955487.599458853,1940809.668528 955486.437830489,1940776.60290494 955485.091211425,1940737.67043061 955498.532282646,1940719.73390375 955514.542968447,1940698.69292154 955528.996419214,1940679.76540264 955535.533079237,1940671.46886504 955540.698506136,1940653.21027134 955546.06814701,1940633.68406555 955550.907186852,1940616.27388641 955540.953022404,1940599.49179102 955532.707329549,1940585.37366536 955516.471462378,1940557.81980822 955516.344781875,1940557.11573924 955513.390807386,1940535.19148532 955508.477648788,1940501.57292767 955504.243171015,1940470.58580369 955499.709182109,1940437.78093718 955496.574345327,1940415.30284474 955459.417047522,1940407.17355549 955419.78451513,1940398.4495889 955378.916635866,1940389.19635692 955345.229689694,1940381.56550997 955317.690188606,1940375.39258029 955297.958309429,1940371.01565454 955277.100242341,1940366.33580236 955248.163529911,1940369.47082883 955224.551303035,1940371.93591629 955194.413849206,1940375.03631241 955176.462053082,1940350.77630832 955161.821709403,1940327.58837723 955153.476343351,1940314.46940188 955131.894134091,1940247.56336704 955092.250420693,1940263.74225184 955076.536033718,1940270.31801015 955047.39067888,1940267.46235117 955040.6658256,1940258.89811315 955014.744601261,1940225.1228038 954981.260008976,1940204.35172846 954942.925213,1940180.18158152 954896.062651228,1940151.11638181 954889.315531869,1940133.99941648 954876.855948184,1940102.60595964 954867.347848181,1940078.68811905 954863.500689076,1940070.83338312 954851.67500733,1940047.02177064 954822.554059039,1940031.96647711 954791.231734824,1940015.93119705 954782.365961078,1940011.19987318 954775.986184145,1940005.50774438 954768.819418694,1940024.69959917 954759.522385547,1940049.54864327 954758.775751262,1940050.69917101 954744.891489921,1940071.7848866 954732.993719729,1940090.83483845 954716.497079859,1940115.63401385 954708.361280605,1940130.97342165 954705.440004901,1940137.89633146 954695.858530173,1940160.56368899 954688.724920997,1940184.13175669 954685.440851633,1940196.92442189 954680.069073296,1940228.32827299 954678.54675573,1940249.50851816 954678.32645459,1940275.50509419 954676.516307979,1940286.30769147 954682.772680218,1940297.58141312 954683.356603015,1940312.71973736 954687.603786633,1940334.58518747 954688.803929366,1940341.11842401 954696.081166287,1940370.76096426 954701.948344612,1940394.24923913 954704.127270944,1940403.45430825 954706.78870229,1940416.3774513 954711.029064205,1940436.76448193 954715.758367269,1940459.81893984 954721.08627709,1940485.48526489 954727.500079946,1940517.06266006 954734.675822681,1940551.70389064 954737.117287423,1940561.78424623 954745.265124409,1940593.67734378 954748.963128017,1940618.30268017 954751.524729811,1940641.45057772 954752.846448268,1940655.08954787 954742.068581409,1940680.61918732 954738.74012934,1940736.96801765 954736.872009145,1940758.72587993 954735.87426031,1940765.50366146 954732.629535912,1940788.94019258 954729.34008998,1940809.02619683 954727.200095999,1940823.42221504 954717.819163756,1940870.56848597 954710.028226784,1940895.1586616 954699.784755314,1940923.06559868 954691.765280579,1940940.36067649 954690.87118386,1940942.73553409 954683.706124631,1940958.4686648 954675.774492986,1940975.17349589 954668.039873652,1940992.0832086 954656.872656061,1941013.92927453 954645.262342829,1941014.00571708 954646.506509668,1941027.15627901 954662.901837916,1941056.50264829 954662.952114648,1941056.74729185 954657.020342148,1941063.74311724 954654.484067363,1941066.53651525 954643.96134659,1941078.32188112 954640.208974642,1941082.52319859 954630.171224619,1941093.77019568 954634.239891617,1941091.15761745 954641.798445579,1941086.50031601 954633.566336927,1941093.2724036 954625.732601596,1941101.46485818 954621.094587952,1941106.61651442 954620.999958621,1941106.49106171 954614.370119824,1941113.80346696 954611.437838764,1941116.94583322 954606.283711138,1941124.49533785 954603.97638355,1941127.86131281 954602.982559317,1941126.88093631 954600.92755183,1941125.22542738 954588.75624502,1941138.8628402 954580.23067032,1941148.54840795 954567.185680859,1941160.48507445 954550.041028239,1941176.35499718 954532.957012785,1941192.16062316 954518.591814226,1941205.66570267 954507.230884682,1941216.4088942 954513.715807733,1941215.33495438 954532.266416289,1941211.83102627 954538.35091053,1941210.64824679 954555.16613796,1941206.95157829 954531.829647822,1941217.88810532 954520.160953043,1941223.36586792 954515.280490849,1941225.58289113 954504.69265926,1941231.6767039 954503.291418246,1941232.85568838 954493.431973536,1941241.15083306 954493.319567902,1941240.87752898 954490.011174705,1941242.83932276 954487.32740053,1941247.22791459 954486.514909081,1941247.83399307 954472.318036213,1941261.79001663 954452.394567692,1941284.86699915 954430.617630436,1941314.903231 954422.667768259,1941329.48494889 954420.412307585,1941337.55091787 954397.364301334,1941374.47334391 954390.22872956,1941385.76696321 954379.19520166,1941402.84109143 954377.579639691,1941402.0559351 954367.635443418,1941414.54698498 954362.028146133,1941421.4661251 954359.819332394,1941420.59214274 954354.71227886,1941418.33801503 954343.37718301,1941440.7607699 954338.074825021,1941451.2779697 954332.440144834,1941462.27775141 954318.539023297,1941476.20722437 954303.869010465,1941497.65799746 954284.561751874,1941546.87909288 954271.919340199,1941578.97121056 954258.402325149,1941614.09884184 954248.280930817,1941640.89256425 954238.227526935,1941668.06678703 954233.37683253,1941680.6288443 954230.723107171,1941687.8612318 954224.402281365,1941705.01738145 954213.003078592,1941736.47915246 954211.350078261,1941743.54030423 954210.630773164,1941746.83190054 954199.636597478,1941807.59773256 954185.199931738,1941887.10389205 954184.788030882,1941888.98238126 954182.668242974,1941912.85781152 954179.679850478,1941946.18935826 954176.459409291,1941981.95023917 954175.047888512,1942001.95934337 954174.988416951,1942002.81034483 954173.512634744,1942022.19901794 954178.876410493,1942024.98458748 954179.085946804,1942025.10043519 954173.737179371,1942025.71653313 954172.551626678,1942049.13418525 954171.839904915,1942071.4197452 954171.775551909,1942076.25830368 954171.518135012,1942093.72323353 954171.606203217,1942116.02455229 954172.104109532,1942138.32370147 954172.982024584,1942160.65082788 954183.092314253,1942365.34188433 954196.314583936,1942632.92328668 954210.409981607,1942918.13356212 954211.571912335,1942937.08142744 954211.279572873,1942936.99700694 954211.563734072,1942941.01202271 954212.319583612,1942957.27302868 954213.418033212,1942979.33508286 954214.308480622,1942995.52940041 954214.777356842,1943005.16736625 954214.95504266,1943010.78435577 954216.585240397,1943044.16342403 954218.317250431,1943078.83547656 954219.248751419,1943094.85364137 954219.7213995,1943104.44860297 954220.999409759,1943137.20076731 954221.327336777,1943145.13910575 954221.723232708,1943156.09697173 954222.653696863,1943178.52677975 954223.732914561,1943197.52206512 954226.984697566,1943236.03165316 954229.53870576,1943283.78553119 954231.112046938,1943313.22135238 954232.023224917,1943328.79878675 954235.009600927,1943380.42694657 954241.81401749,1943420.81202382 954246.413681175,1943439.94660894 954250.290100304,1943459.73978235 954254.300533144,1943475.20284113 954254.702162142,1943478.93633802 954255.704445659,1943489.82001865 954256.423899261,1943495.61907089 954256.603112358,1943497.74833703 954259.127008429,1943520.74649368 954264.203707058,1943552.19101523 954264.037000327,1943580.36251821 954264.96364816,1943603.39112432 954265.981406556,1943636.82941216 954266.630787709,1943650.91578185 954266.800845024,1943656.41285551 954267.378198444,1943678.03982828 954268.020726918,1943699.5155115 954268.318270025,1943707.75589899 954268.389668404,1943714.44305677 954268.828039936,1943723.98221966 954269.026695756,1943727.32893415 954272.078721292,1943732.64280823 954277.817017997,1943738.57222508 954271.021203255,1943732.4714735 954266.643413549,1943728.62008368 954266.587907071,1943732.29602328 954266.343370513,1943751.43226767 954268.281753988,1943761.64423639 954270.222925501,1943772.00513542 954271.472771702,1943777.34854549 954273.192917946,1943788.44434455 954275.673911809,1943799.75303451 954276.303920865,1943814.71118532 954277.108031034,1943835.55224609 954296.44389717,1943832.71885741 954296.359418483,1943836.3979492 954280.319434537,1943838.87201024 954281.497365424,1943880.28051184 954282.265896298,1943900.63194134 954282.351309919,1943903.54741455 954282.301188577,1943906.16371601 954282.533876587,1943911.21762104 954282.671278424,1943911.49179211 954285.888325117,1944009.69156413 954285.97741019,1944012.73397109 954286.601450076,1944036.19102147 954288.486539043,1944098.4400966 954288.7840089,1944110.4410984 954288.963968102,1944116.67484794 954289.395520983,1944135.87348712 954290.005983737,1944163.9389111 954289.999326279,1944182.31217599 954292.197637991,1944265.19698698 954292.37243661,1944270.45612293 954293.308202549,1944283.87821925 954293.360740177,1944287.56958065 954293.501152946,1944297.47218768 954293.570349884,1944299.96790141 954294.144189565,1944318.28611099 954299.883686981,1944329.72648689 954303.094382411,1944335.93218951 954310.302569143,1944346.66104612 954311.801404915,1944348.99924347 954317.885506442,1944360.38881193 954322.689535097,1944366.95693907 954336.688581766,1944386.24766088 954347.421037077,1944400.85841388 954350.730280013,1944405.85304016 954353.844955331,1944409.97201998 954363.700063952,1944424.26753697 954367.205133962,1944429.24313256 954426.885476717,1944512.35329667 954429.128614713,1944515.55523152 954435.33917124,1944524.2081363 954446.564185049,1944540.0908075 954455.690871071,1944552.74578591 954459.344264935,1944557.98149874 954464.85782395,1944565.83139195 954469.613905104,1944572.59469905 954513.109482006,1944634.99323577 954499.32136013,1944649.67587724 954416.056785109,1944730.40329069 954370.735798271,1944765.94332559 954340.619775515,1944790.0780024 954324.745363145,1944801.7298203 954299.188579398,1944820.18743379 954259.349107243,1944849.6006904 954217.452984593,1944879.12580589 954143.236608546,1944919.9450199 954129.187887573,1944927.70260298 954086.48897789,1944951.55107052 954074.200899902,1944969.7434826 954074.131472988,1944969.84681243 954073.776389233,1944970.37250035 954067.734901718,1944983.44869754 954058.59383642,1945008.84478227 954057.23246153,1945016.22827705 954053.772610065,1945035.07666954 954052.41547968,1945063.45441107 954035.838634759,1945097.24480761 954026.26083926,1945116.24456373 954026.76464516,1945138.32276471 954045.588943561,1945137.42234698 954049.673695489,1945144.45311306 954051.230708915,1945147.20584884 954074.913765105,1945162.26080878 954075.339674837,1945202.28081408 954076.708697795,1945354.10364886 954076.806669563,1945354.10512915 954076.979464104,1945379.55384165 954327.014393151,1945377.86047418 954531.345749488,1945376.47718679 954531.351032882,1945377.2858606 954555.923094725,1945416.18230346 954590.184618831,1945470.74761783 954724.502102808,1945684.92580176 954758.453175905,1945738.43912963 954796.567582848,1945797.5883094 954868.594062583,1945909.869147 954954.95171232,1946044.49976114 954990.86658969,1946100.37478217 955447.4441923,1946460.79165505 955587.807505277,1946570.6340433 955625.912925056,1946600.72793201 955703.656517789,1946662.29706632 955779.868882298,1946722.58478108 955844.86074566,1946774.260151 955904.275553102,1946821.19683092 955969.214525221,1946877.03992393 956018.704044448,1946919.83373822 956051.168780118,1946948.08518177 956125.037499769,1947012.05091126 956142.97438206,1947027.61905997 956179.650544986,1947059.26391359 956219.627808307,1947093.98812415 956243.865809455,1947114.92387755 956266.859166453,1947134.89658479 956320.291720093,1947181.18017514 956321.104137403,1947181.88160835 956361.086886881,1947181.61175296 956361.324980296,1947216.73247007 956383.934131581,1947236.26237318 956392.256333068,1947243.48457746 956394.093504128,1947245.90893928 956450.030877891,1947317.0450218 956514.791642239,1947399.24621527 956532.090763286,1947421.22835182 956577.923432093,1947479.26284364 956651.152868004,1947418.07232337 956683.967704286,1947390.53457692 956775.191098335,1947314.18530556 956788.150269367,1947303.42959748 956816.142106274,1947280.64766171 956869.062425559,1947237.63208771 956884.845366607,1947224.76719553 956928.493333341,1947189.33596576 956942.776195146,1947177.67158157 956982.075957883,1947143.78383337 956986.911500207,1947158.37278092 956991.737847872,1947167.45382283 956999.267476566,1947179.22953322 957003.683851149,1947184.51415837 957007.982255546,1947186.40067105 957017.005390064,1947195.1695806 957037.158018246,1947219.71363033 957065.340091715,1947257.92003736 957073.060090492,1947266.00610761 957101.972662025,1947310.01648272 957156.042891461,1947383.64248011 957164.464851711,1947394.03397042 957194.88562987,1947352.92797453 957247.320590282,1947282.08633009 957315.258707328,1947190.29029864 957392.554695895,1947055.36071342 957463.374554334,1946750.91852753 957539.824034948,1946422.25555956 957625.421542981,1946054.21881264 957696.155171162,1945865.52415728 957971.560761657,1945129.22883482 958248.640195056,1944389.90621088 958598.484573119,1943456.44101452 958809.247102602,1942894.06456007 958834.330224873,1942898.3101214 958855.521361444,1942901.90653894 958898.363766114,1942909.15691493 958902.666009838,1942909.88385643 958911.770825811,1942911.43505305 958941.136196943,1942916.40766074 958955.48372554,1942918.84075952 958962.277298279,1942919.9943461 958972.482624794,1942921.71964857 959015.665258168,1942929.03819522 959019.67735315,1942929.71669142 959027.9516544,1942931.11234464 959029.132292117,1942931.31601522 959035.535650413,1942932.40169379 959048.122243497,1942934.53423129 959052.074309506,1942935.20304901 959073.265388287,1942938.7894689 959087.162672167,1942941.14498073 959103.691334376,1942943.94638857 959107.89351147,1942944.65386703 959115.967098389,1942945.90063871 959146.375909077,1942951.59744688 959149.437802832,1942952.17101493 959150.388321055,1942952.3359188 959170.959117385,1942955.82565944 959177.002301753,1942956.85326708 959201.085022058,1942960.95417782 959203.836457965,1942961.41943066 959217.623625341,1942963.74553606 959223.546751757,1942964.75378673 959276.754451707,1942973.73860756 959282.677577755,1942974.7468581 959301.397314982,1942977.90652551 959320.127100743,1942981.07613586 959338.846837233,1942984.23580301 959357.576622254,1942987.40541311 959376.306353986,1942990.56502709 959382.229479407,1942991.57327742 959391.854505228,1942993.20168819 959398.497923405,1942994.31608366 959414.746269307,1942997.0390037 959422.000024366,1942998.26012646 959469.164371935,1943006.18734858 959487.293707516,1943009.23018558 959483.985175975,1943003.60981237 959474.62433137,1942987.68535081 959478.564135575,1942976.5986308 959481.282591547,1942968.94709473 959487.271128157,1942952.10167801 959493.919604692,1942933.40345927 959498.332230506,1942920.99473 959502.882736149,1942908.19541669 959507.521829742,1942895.13573172 959507.355679478,1942895.09562674 959591.77205915,1942657.56840361 959601.660511031,1942656.08658631 959599.395168751,1942653.02972815 959609.709498226,1942624.36582826 959607.947311424,1942612.49960212 959614.60459101,1942599.23930647 959620.826651766,1942586.85098966 959623.823998529,1942580.89734339 959627.365302897,1942573.84122889 959632.073908191,1942564.46979879 959634.266026074,1942559.36010141 959640.368394121,1942545.13310723 959640.733800036,1942544.29148699 959643.864064226,1942540.78622064 959671.453177197,1942472.70558863 959673.773655637,1942467.29532439 959683.676235883,1942398.61858753 959703.08889839,1942343.84628245 959713.263080982,1942315.14314611 959740.052720646,1942239.54957258 959756.274160725,1942193.76081058 959757.968280647,1942188.99362381 959759.987346637,1942183.29506494 959779.094642917,1942129.37406726 959781.470865713,1942123.16380886 959784.147708695,1942117.09190669 959787.115122956,1942111.14841771 959790.383263217,1942105.36327693 959793.922194457,1942099.74663907 959797.731969587,1942094.30850013 959801.812694422,1942089.06885205 959805.86491297,1942084.1092501 959818.877591543,1942076.09334136 959823.96907921,1942072.957553 959826.778843325,1942071.22332296 959838.111230213,1942057.36849943 959851.638546859,1942040.82306044 959856.068178483,1942035.40163331 959859.171721956,1942026.84840157 959864.334580793,1942012.64638024 959906.793813242,1941960.74097685 959923.3405409,1941940.52092771 959991.652781504,1941857.02046562 959997.98941794,1941849.2798108 960077.117539806,1941752.54704777 960080.921552786,1941747.90864273 960097.239856157,1941727.96970542 960120.16288885,1941699.94882435 960136.620236717,1941679.83921644 960140.414253853,1941675.20086491 960192.328706697,1941611.72976156 960196.12272395,1941607.09141058 960289.026645409,1941493.54205189 960313.894133184,1941491.05131253 960263.861882081,1941449.3118838 960228.64675608,1941421.29884892 960210.24292398,1941406.05201184 960192.007912246,1941390.5943593 960173.971655906,1941374.9157366 960156.114268853,1941359.03624149 960131.626101638,1941336.87420947 960125.620362649,1941331.58799017 960090.827545592,1941300.26395142 960107.542949697,1941281.69240719 960140.881261934,1941278.06724718 960166.15726657,1941275.3244447 960165.378899941,1941273.68917895 960199.400720112,1941271.34192138 960231.64466309,1941263.22624012 960234.157409274,1941264.30053297 960236.488899325,1941264.7470209 960245.907098865,1941267.34018157 960297.870662059,1941220.50960827 960301.853120701,1941147.97472274 960302.73925098,1941138.61853956 960298.671387133,1941115.50274564 960292.034452353,1941071.60434684 960285.843521031,1941021.5049113 960272.889794789,1941004.7737683 960271.371095246,1940990.93499806 960279.93312,1940993.43472945 960281.665413083,1940994.55713701 960283.053591615,1940996.20017126 960319.404943703,1941010.36239927 960325.755095672,1941015.18496995 960378.048619164,1941046.75226245 960379.346383933,1941048.1218777 960414.547460666,1941065.36203777 960471.380659053,1941080.38049758 960482.233231015,1941087.11251224 960491.454653956,1941092.37871295 960500.511534072,1941090.54244967 960523.836897496,1941084.14235357 960578.307803349,1941088.7402286 960638.330783751,1941142.47526302 960639.333055995,1941145.24191787 960652.181644597,1941169.87264359 960684.662091894,1941165.46032739 960708.249077843,1941148.05397765 960740.180384508,1941123.74504062 960781.725913649,1941126.79092983 960799.877484709,1941140.27376113 960804.089470628,1941145.29157587 960844.941700513,1941186.95063209 960899.97640937,1941173.42332298 960902.116535637,1941173.78785482 960975.007630562,1941172.7443137 961009.744443935,1941204.63741 961010.847025257,1941204.63657249 961044.093910534,1941199.23057218 961094.693622585,1941190.11308964 961121.456827607,1941194.50673573 961162.087449003,1941171.63320855 961170.416663691,1941176.04245065 961180.707981842,1941181.55488925 961219.382217994,1941178.67920343 961234.458126826,1941168.4002466 961245.357937217,1941175.9377017 961280.594919799,1941182.96948961 961301.302078676,1941208.83412496 961322.017117806,1941209.7461022 961351.118301125,1941191.26097326 961377.139085313,1941177.20348962 961428.149288765,1941173.31087251 961457.913138048,1941196.17268147 961541.103333601,1941208.54256085 961587.340825706,1941231.18622472 961612.415501316,1941258.59314497 961642.63245637,1941270.55365133 961662.472078832,1941297.57843124 961726.357198411,1941309.88653857 961785.846621808,1941328.36159608 961849.02689128,1941391.64223165 961938.860993527,1941395.03029347 961969.361425789,1941380.66221091 962014.823949701,1941394.95010796 962042.354251734,1941429.45033537 962093.838994249,1941448.36359809 962131.762636357,1941471.58104174 962148.909218012,1941488.20898227 962215.690162886,1941496.73016449 962258.460653283,1941530.6519021 962317.902151581,1941605.23302629 962352.180134486,1941606.7269567 962448.575976389,1941663.04327944 962533.979004897,1941759.7815441 962550.743834228,1941776.42948599 962570.445333577,1941817.20776848 962587.320984632,1941844.40513968 962675.46348576,1941793.94044572 962731.314596011,1941818.52741118 962763.684756254,1941799.90403325 962784.323709232,1941798.53426052 963043.390834764,1941851.40942968 963106.545633913,1941848.51409519 963145.35211048,1941874.97959397 963212.902200314,1941862.44562822 963263.281818202,1941884.28858693 963295.12749491,1941872.52739924 963262.413774575,1941833.6083512 963257.208357977,1941796.71087046 963261.868669847,1941726.47375669 963227.79349531,1941588.4124038 963306.539434985,1941401.57910659 963326.534850987,1941398.1755204 963381.477041452,1941388.72718194 963442.522468458,1941353.69720886 963458.680106702,1941335.14167842 963479.011720797,1941295.91587071 963496.164189889,1941257.190708 963530.727703462,1941235.9607386 963531.086162556,1941196.2218817 963551.246985647,1941171.7543981 963578.906470681,1941084.29805733 963608.640030841,1941054.4209423 963649.853561693,1941051.42387114 963659.302169425,1941061.65797031 963695.732293954,1940998.18012744 963713.513504378,1940977.39285755 963714.034090757,1940976.7853314 963756.45993363,1940939.93666654 963783.04419608,1940936.41025458 963847.494367164,1940829.04670358 963884.299476782,1940784.66866106 963913.360038246,1940729.99952252 963921.028157624,1940698.64880557 963921.437965978,1940661.80859546 963921.855085854,1940625.78303798 963922.27140384,1940590.361256 963922.051524263,1940579.0347119 963927.197459435,1940419.01810365 964036.962604709,1940304.68336327 964107.719498588,1940290.83904556 964154.40199206,1940267.63971928 964245.034179302,1940275.48896557 964252.526651177,1940233.04440112 964241.19231193,1940193.63134893 964210.408426537,1940170.47908621 964192.013698985,1940140.12097202 964200.597397239,1940103.27450692 964176.082645196,1939995.20725402 964212.866055628,1939933.87680432 964222.72293858,1939883.55271397 964200.006647803,1939757.37080775 964184.554907138,1939755.36835493 964120.226375789,1939747.07099892 964072.517900119,1939730.90665246 964051.806058951,1939709.99420909 964044.362187856,1939672.45583895 964033.994116571,1939646.19467143 964016.148317626,1939601.12321216 964021.126594219,1939586.98422146 964022.685330797,1939580.05559731 963986.648995202,1939474.0655039 963978.647539827,1939460.18111598 963903.976381395,1939441.95823962 963837.105314201,1939385.57953079 963822.001622391,1939366.41872859 963763.236168597,1939198.50335332 963748.786504345,1939179.58299403 963702.611372898,1939156.60407709 963695.474120823,1939076.68711309 963631.434251635,1939030.75042806 963643.544461589,1938998.77844196 963596.67195714,1938947.14705086 963587.175362909,1938906.48570164 963590.008731917,1938878.22540506 963594.71381607,1938845.13203291 963614.590064805,1938791.99096365 963605.978480046,1938776.14753468 963590.264525617,1938752.54562844 963581.759161203,1938676.47143683 963591.374313719,1938659.0471501 963578.115994196,1938634.79549247 963570.973089235,1938546.8095979 963544.890574688,1938494.95824762 963543.635849715,1938492.46383146 963510.130167943,1938482.37995144 963494.762325019,1938464.68097223 963416.505972957,1938422.92488176 963353.050179938,1938440.34907729 963313.814201243,1938429.61176334 963189.939849345,1938386.11071521 963184.672421415,1938330.09376948 963154.980677226,1938290.9806735 963142.842649191,1938279.33630462 963131.435827109,1938236.22296341 963110.682734203,1938208.83213249 963104.406286633,1938192.61347507 963062.29229324,1938126.86317053 963032.593892729,1938101.6098597 962974.75284495,1938088.5878362 962957.541781787,1938076.19658753 962908.950323442,1938080.011258 962862.104465158,1938069.13424242 962843.536411938,1938087.07571397 962809.519390248,1938106.56634664 962765.945345472,1938097.02251555 962717.188838713,1938125.95357703 962686.071886985,1938125.44342031 962658.056148608,1938150.14133672 962648.137989914,1938160.17602897 962635.110717696,1938143.13139601 962613.535659111,1938134.5887824 962588.738264255,1938136.90312071 962576.207956653,1938144.07771498 962557.327078513,1938168.83427662 962552.893667852,1938169.76338487 962532.494456529,1938175.63910763 962494.557480208,1938191.45887757 962426.551995699,1938169.88786182 962383.612986075,1938200.84239159 962360.776347386,1938202.49560645 962303.730371592,1938200.51320906 962227.593160632,1938179.17313073 962206.874117329,1938182.9803281 962193.542081995,1938190.15017004 962161.907734768,1938199.73694634 962152.086563211,1938206.75326924 962132.157342916,1938169.38481049 962113.245542657,1938144.83013636 962106.379878891,1938124.93896308 962126.961484307,1938070.01176457 962145.627749469,1937969.14702105 962157.117683433,1937887.17313016 962138.810251963,1937828.89896482 962181.350132073,1937799.39900748 962223.271675102,1937756.56135377 962275.231206265,1937723.31997489 962288.214846005,1937713.40401933 962293.295800684,1937709.78850009 962296.340883885,1937695.08993248 962300.476807187,1937667.39749423 962275.178278307,1937618.24288272 962243.491407212,1937585.76777784 962227.504624874,1937556.69632236 962205.779001002,1937544.82374344 962145.048253005,1937529.77072764 962133.599159459,1937517.97474821 962109.147057359,1937509.9761318 962087.027942284,1937497.03803372 962072.095077086,1937468.02597349 962072.16999687,1937440.04212452 962087.162232911,1937405.43085241 962088.165948352,1937383.71172872 962089.115592404,1937374.26126673 962090.418018462,1937361.01436936 962095.784262033,1937348.96752002 962091.897425073,1937339.64859596 962093.344012668,1937331.73492572 962093.252322782,1937303.24514953 962079.97934503,1937279.24341637 962057.445880532,1937224.05742739 962047.259455587,1937217.39182952 962038.782276945,1937190.10196173 962028.324097303,1937178.35971421 962022.859122603,1937173.06062269 962008.467459991,1937115.01363362 962013.402909938,1937073.67510209 962036.893596792,1937045.42247906 962042.508887784,1937034.91373367 962063.886668479,1936937.34241633 962065.001987925,1936919.90208951 962060.417922735,1936893.28737041 962054.712455008,1936893.17059642 962041.12265765,1936872.77017505 962041.09597725,1936870.3712203 962036.893965829,1936867.99034618 962035.530203757,1936870.39565397 962034.148247769,1936869.36035468 962035.082848137,1936867.65005521 962034.979869244,1936867.45767247 962019.354498153,1936877.23864448 962006.777433972,1936884.83731363 961986.593150525,1936900.17031085 961977.89611014,1936914.28799873 961967.075253119,1936931.69168383 961960.049667456,1936948.09366949 961958.4965507,1936949.66229456 961946.032584631,1936955.01921153 961941.264948744,1936954.74853469 961948.472746903,1936945.39392945 961949.311398843,1936942.93042111 961936.291946071,1936929.25244824 961931.063560334,1936923.51426857 961922.994178723,1936915.11711958 961906.094286797,1936909.9644618 961898.120096586,1936907.84844267 961878.96857568,1936900.90437061 961869.646505653,1936897.58093647 961865.287095877,1936895.49178478 961860.433963684,1936895.68838388 961846.414580817,1936898.20959699 961813.031727009,1936921.38046612 961804.030622389,1936923.1774056 961764.931205639,1936893.09457181 961666.596501715,1936862.90113068 961664.857263767,1936862.73239474 961654.685666978,1936854.33436379 961653.887466123,1936845.54389547 961613.084390966,1936810.11207915 961610.948675716,1936809.06876963 961610.748708917,1936807.35947084 961599.166847255,1936796.9206671 961575.684480838,1936755.48248283 961574.135569438,1936736.2958976 961548.600047604,1936739.29584753 961520.348079858,1936736.72526346 961484.64787427,1936757.39933293 961459.543638887,1936751.03252648 961429.153341245,1936774.14659112 961395.201237488,1936797.80029592 961378.068483814,1936804.5683808 961365.258880792,1936822.25848855 961345.80463236,1936819.88329367 961330.774339456,1936818.38136783 961326.700074184,1936817.0964037 961173.286058966,1936849.10192146 961139.894598705,1936834.54403347 961122.751507695,1936826.88159974 961117.690441311,1936824.80815185 961090.17501806,1936819.37075043 961082.414316876,1936813.77190828 961068.339634699,1936803.38026775 961052.399873218,1936805.50678862 961000.087197717,1936812.62784278 960988.406241287,1936814.26401943 960954.493489095,1936830.4283426 960935.736006761,1936839.2132684 960901.222893516,1936853.18759196 960840.029341676,1936836.45158974 960789.470333236,1936822.65322611 960785.026474345,1936821.23026819 960752.79211707,1936806.20942594 960727.422657963,1936809.61534962 960715.293798481,1936802.92102368 960677.663262769,1936782.19086817 960659.209311658,1936786.3729178 960639.979140067,1936774.76799946 960608.757081159,1936772.73092519 960565.074057808,1936754.88270138 960550.60403763,1936748.93747684 960530.882384829,1936740.79885554 960512.690324557,1936740.06436442 960492.597979534,1936721.74952158 960485.676477351,1936715.49248272 960463.042965168,1936702.44810379 960444.003525548,1936691.75183143 960407.695296805,1936681.95057112 960404.339834661,1936676.89921557 960398.355360185,1936667.87825584 960392.020259561,1936665.51965176 960378.312519938,1936670.26838142 960352.917291337,1936700.751284 960333.041214332,1936724.65945849 960312.183973489,1936749.79036571 960307.069820029,1936765.84539831 960268.219523257,1936794.03834061 960250.439506364,1936811.30092295 960236.138706968,1936825.07041071 960219.145632193,1936835.38343674 960204.319037581,1936844.4284779 960191.770070179,1936865.8518305 960184.425286749,1936878.60490365 960175.498737836,1936889.77793686 960150.216631789,1936885.50927953 960120.346029402,1936891.78594282 960058.223058888,1936905.16056246 960023.345402729,1936912.58528435 959991.687582978,1936919.45118308 959971.242277088,1936923.80570833 959954.875157579,1936934.3443433 959949.194633192,1936978.6437987 959938.775464208,1937048.7606517 959942.798585783,1937082.90457829 959882.235052258,1937150.91350112 959874.032755316,1937188.64876084 959862.775338132,1937239.37631816 959862.357615826,1937239.96630711 959855.443973038,1937240.67861624 959826.873791448,1937243.34776423 959815.852984998,1937248.65308202 959795.799711705,1937258.33454676 959770.026943526,1937270.92018311 959742.629223225,1937284.34510267 959733.537226154,1937292.20825958 959713.994601101,1937309.04234696 959699.590037434,1937333.81228152 959691.028027162,1937348.51507512 959681.699806506,1937391.47634497 959675.555180735,1937418.70866009 959649.394806874,1937446.27374667 959613.440559673,1937484.13279828 959597.341619517,1937500.96167444 959586.12082288,1937513.43737145 959563.00648179,1937539.52290132 959545.018716722,1937559.84246653 959540.077283691,1937565.45950867 959529.177288171,1937573.76207135 959512.586370093,1937586.40212075 959500.798407159,1937595.40412029 959492.122039932,1937601.90359349 959480.737740082,1937610.87047087 959471.837784045,1937617.99889204 959459.898023911,1937627.40654376 959434.017452678,1937647.77185539 959427.215475,1937656.55655768 959416.894235909,1937669.76822418 959407.418299875,1937681.77386966 959404.432457304,1937709.75420221 959403.175880694,1937721.08561249 959384.618441508,1937733.29923047 959349.396286611,1937756.1070592 959339.509002314,1937760.64667478 959311.653160263,1937773.45027139 959268.767216638,1937769.10780327 959238.10898597,1937765.76426492 959221.331993675,1937764.39154455 959195.984365323,1937775.90135562 959168.80481003,1937787.86269127 959153.154271416,1937785.14351437 959112.38211215,1937777.88695108 959103.697079272,1937779.15742862 959076.613937778,1937783.07726026 959047.603992701,1937778.96028963 959039.643792831,1937781.38450114 959034.584716611,1937784.98192456 959028.922061811,1937788.99438648 959025.759627101,1937792.09096199 959018.383452954,1937799.28630109 958981.970632651,1937835.11657658 958958.397182427,1937840.17141648 958943.775932875,1937847.21914572 958915.838561714,1937860.48600881 958916.000920829,1937876.6301201 958916.538916412,1937904.82774198 958912.979611966,1937923.60756067 958909.040461519,1937944.65754146 958900.338259236,1937957.61274778 958893.940333598,1937967.38095222 958891.773240664,1937979.11703571 958884.271767526,1938019.69857209 958880.906720879,1938038.35141142 958881.341958982,1938075.65817616 958887.540973419,1938081.95702295 958921.146614121,1938118.2786392 958958.296743033,1938140.76866415 958961.328480241,1938142.82285478 958962.695765228,1938144.10714023 958980.505613365,1938161.58837136 958993.207197838,1938173.93455006 959013.122449826,1938201.27895461 959025.17786012,1938223.94069754 959029.383169511,1938232.23334707 959027.971270101,1938257.476387 959041.893534074,1938291.76990439 959057.037496428,1938305.49364181 959087.046544104,1938332.56673088 959090.32781986,1938358.55165772 959094.878883268,1938395.92460958 959126.615645243,1938431.56934871 959127.514953386,1938433.58083812 959136.5883566,1938470.95885522 959138.57776404,1938479.30220964 959149.974245267,1938526.49626393 959154.204196768,1938544.54913268 959152.386307371,1938619.84061262 959112.143131017,1938646.25570369 959077.054871132,1938669.23979956 959069.098167147,1938684.60716386 959068.5359527,1938685.6607454 959081.258702032,1938737.34310494 959093.58007228,1938786.84640145 959076.938696732,1938823.39281265 959062.185773426,1938856.18963224 959060.995037641,1938858.98988747 959071.75251487,1938893.47407192 959080.369509479,1938920.34642779 959119.230248037,1938959.88699158 959116.063545687,1938990.89716182 959113.524977593,1939014.98559468 959085.944369492,1939060.91739644 959074.160872997,1939080.77633848 959071.111135439,1939088.73550487 959045.557244221,1939156.48543268 959042.781291665,1939164.04529974 959040.790776123,1939169.47580552 959031.602959021,1939177.55341398 959026.614147587,1939188.38477052 959015.442176569,1939204.22897886 959008.229988646,1939214.26540001 959001.544284161,1939232.74388105 958996.607821533,1939246.1010176 958967.248152437,1939264.68646313 958948.376493269,1939301.2077014 958940.981597228,1939323.94534689 958905.159050846,1939327.54959712 958885.412583778,1939351.19727696 958850.84217366,1939371.16479091 958853.652092677,1939394.39824288 958857.206568869,1939425.34687289 958871.518117921,1939439.11898212 958872.660167284,1939439.9646217 958914.47414573,1939461.80415266 958925.173265467,1939520.20671081 958925.305042241,1939529.62049726 958925.363515689,1939533.87060034 958938.622234232,1939544.76635376 958985.531045777,1939552.95301215 958992.336386065,1939572.57966011 958999.674539106,1939595.98707521 959035.195497496,1939627.20340149 959036.879715355,1939628.87486245 959042.401445114,1939635.07032122 959051.281112174,1939644.89165158 959062.137673263,1939657.47748507 959056.948314321,1939687.08289049 959048.548138879,1939705.72738675 959037.871676934,1939725.85737691 959035.266027049,1939744.25429535 959031.377761163,1939768.30089211 959031.158733572,1939773.7590122 959029.461384535,1939780.56345426 959028.56904695,1939794.79486047 959013.035722498,1939816.49697302 958994.699461312,1939842.73622787 958970.265084279,1939874.56867323 958942.700685105,1939910.33222001 958937.713640855,1939914.31712945 958916.209485004,1939929.58425509 958892.252705457,1939946.26083759 958876.840006897,1939956.37664431 958872.68971901,1939966.98665092 958869.837799102,1940004.58370675 958869.059593076,1940017.52499327 958876.907506514,1940064.53489517 958880.933714321,1940050.12296483 958880.783649488,1940054.2562156 958879.851435305,1940063.21780348 958879.848851746,1940079.73164999 958875.657211109,1940099.9063041 958872.364229133,1940163.34004635 958871.819850642,1940173.80901846 958869.969874453,1940209.57545468 958845.073409265,1940204.70906415 958833.722246691,1940198.02164988 958832.769665705,1940197.46689961 958817.223423989,1940206.52581273 958816.978444726,1940209.34605651 958816.21637537,1940218.34672988 958813.730019059,1940218.85970018 958789.445535299,1940223.85638757 958779.671720031,1940282.89608426 958770.296399754,1940307.67646291 958765.135311406,1940327.88623934 958766.242593051,1940329.339835 958769.518804369,1940345.85632539 958771.017043398,1940351.2963631 958771.209877993,1940353.73443205 958771.242352105,1940354.2040848 958773.204268129,1940360.37139637 958775.391647073,1940363.80853364 958775.180464825,1940367.34833004 958777.824172669,1940375.79118273 958778.180062528,1940376.92887397 958778.525010457,1940385.44386884 958778.835421338,1940393.09936744 958779.121815376,1940394.32739285 958780.481750643,1940400.07804661 958782.077042113,1940406.85707048 958782.202604309,1940411.69459969 958782.520477219,1940424.53812179 958782.570458803,1940426.42715193 958782.713312005,1940426.9761907 958785.549802292,1940437.84711605 958787.350194415,1940441.82609945 958791.719772249,1940451.49935589 958792.539552491,1940455.29359945 958794.332808612,1940463.59100822 958796.41155619,1940469.16792134 958798.510507366,1940474.78471258 958798.936369252,1940475.92203347 958804.951427432,1940488.63544348 958807.337247169,1940493.68092928 958811.568519663,1940501.77550689 958812.729748846,1940503.97853685 958814.983771167,1940510.56414524 958817.989240127,1940519.36494835 958818.811769512,1940521.78968854 958823.84615966,1940530.52977322 958824.58374869,1940532.01531376 958829.231945379,1940541.44718451 958829.694513445,1940543.85383704 958829.971863854,1940545.261843 958830.608965924,1940548.53724715 958830.814545859,1940549.60575983 958835.10182724,1940556.95032052 958837.068924738,1940560.31864897 958836.966219879,1940565.46727014 958836.144597392,1940570.76963986 958837.267482626,1940573.28275688 958837.388756963,1940573.53202177 958837.550544236,1940573.88103495 958838.947447284,1940577.17241069 958838.807350623,1940582.81104683 958839.765439264,1940590.0732629 958841.818856671,1940598.41927553 958843.030383382,1940600.68201672 958843.706779895,1940601.93796686 958845.512521504,1940612.59442787 958846.04918783,1940615.78039703 958848.690895759,1940631.40057877 958849.46890245,1940642.4123479 958851.734352054,1940651.15708891 958840.225218343,1940654.28685063 958808.634899818,1940670.88789434 958744.679598852,1940705.0437303 958719.807923388,1940736.97348589 958718.374745534,1940740.04992502 958714.895727242,1940747.54554566 958681.122476194,1940767.21700572 958642.625502378,1940780.18597712 958635.421040974,1940782.61321339 958629.178207212,1940787.3045137 958607.393157038,1940803.70372945 958593.092917584,1940806.4284219 958585.713128054,1940807.83696685 958543.231869406,1940815.93885106 958486.528719409,1940803.7935835 958472.508041191,1940800.78893337 958468.674177919,1940797.90030831 958465.193451857,1940793.74028787 958460.449582994,1940790.78650485 958452.063258292,1940787.11227457 958439.508765856,1940785.3793874 958431.025395397,1940786.03405622 958395.553058922,1940788.76083837 958392.4628655,1940743.17419913 958392.300229376,1940740.77595453 958391.872662745,1940729.87228442 958393.592612216,1940688.42863424 958399.913229831,1940668.21271129 958403.457886205,1940661.78634213 958407.556975291,1940654.34741542 958409.514677367,1940625.71772849 958404.426262193,1940585.99148242 958403.883933325,1940579.65771564 958402.49730113,1940566.59592773 958401.37474019,1940555.83288451 958395.811967717,1940542.82818363 958391.110576389,1940531.2783799 958385.586940692,1940516.979954 958379.818191944,1940502.8317695 958375.927996426,1940493.45386105 958375.418003992,1940492.28599642 958365.276107694,1940476.66851054 958357.932712738,1940465.30962139 958345.922970164,1940446.75611784 958340.491298684,1940438.50195016 958331.117337194,1940427.45969185 958323.303455413,1940417.86463491 958311.721360394,1940403.61925992 958306.10280199,1940396.50665541 958297.840009954,1940386.51912072 958296.187421831,1940384.40265827 958292.609602341,1940378.7067221 958286.737276318,1940369.54222565 958280.946367071,1940359.89547786 958275.225811297,1940351.0760491 958271.463536964,1940345.65898517 958262.019008994,1940331.29333756 958264.079445801,1940314.70861272 958267.142470725,1940291.12718884 958271.736080118,1940262.09669409 958277.525085475,1940250.4154038 958288.233107135,1940227.93809903 958291.496265997,1940221.3972636 958298.421354732,1940207.54476931 958298.327698703,1940206.84752504 958291.260676742,1940186.13265796 958289.986999904,1940182.70367867 958289.46223575,1940181.20001713 958271.407821941,1940175.12785338 958262.857026356,1940175.13111646 958258.220550756,1940174.71481519 958246.33774101,1940174.66973457 958216.044001056,1940174.09731019 958203.354316457,1940170.9966397 958196.909490347,1940169.44233517 958179.062368231,1940164.76255433 958159.296881826,1940159.69007463 958131.03952666,1940154.04476036 958124.549877945,1940145.34235651 958115.823726491,1940133.36501187 958116.409371864,1940117.09297515 958117.189645485,1940094.90811146 958117.752991218,1940073.8549744\" opacity=\"0.8\" /></g></svg>"
          },
          "metadata": {},
          "execution_count": 54
        }
      ]
    },
    {
      "cell_type": "code",
      "source": [
        "# centroid\n",
        "\n",
        "seoul_area.geometry.centroid.head()"
      ],
      "metadata": {
        "colab": {
          "base_uri": "https://localhost:8080/"
        },
        "id": "jfXAfkgbH8TH",
        "outputId": "467467f2-606c-42e9-d20d-e39595891ee5"
      },
      "execution_count": 55,
      "outputs": [
        {
          "output_type": "execute_result",
          "data": {
            "text/plain": [
              "0    POINT (968820.295 1950182.074)\n",
              "1    POINT (965998.688 1945219.460)\n",
              "2    POINT (961369.995 1944245.952)\n",
              "3    POINT (958548.929 1941666.568)\n",
              "4    POINT (950951.582 1941050.947)\n",
              "dtype: geometry"
            ]
          },
          "metadata": {},
          "execution_count": 55
        }
      ]
    },
    {
      "cell_type": "code",
      "source": [
        "# xy와 coords\n",
        "\n",
        "print(pt_119['geometry'][0].xy)\n",
        "print(pt_119['geometry'][0].coords)\n",
        "print(list(pt_119['geometry'][0].coords))\n",
        "\n",
        "## xy와 coords는 사실 shapely의 공간 객체인 Point와 LineString의 속성이기 때문에 GeoDataFrame과 GeoSeries에 바로 적용할 수 없다.\n",
        "## 또한 Polygon의 좌표를 뽑기 위해선 boundary로 Line객체를 만들고 속성을 뽑아야 한다."
      ],
      "metadata": {
        "colab": {
          "base_uri": "https://localhost:8080/"
        },
        "id": "DqioNjBGH8Vs",
        "outputId": "aa04d7f0-e9c3-49a6-b2a1-48ec1809e57b"
      },
      "execution_count": 56,
      "outputs": [
        {
          "output_type": "stream",
          "name": "stdout",
          "text": [
            "(array('d', [188390.6362569387]), array('d', [447221.5961014573]))\n",
            "<shapely.coords.CoordinateSequence object at 0x7f33497c7090>\n",
            "[(188390.6362569387, 447221.5961014573)]\n"
          ]
        }
      ]
    },
    {
      "cell_type": "code",
      "source": [
        "# is_valid\n",
        "\n",
        "seoul_area.geometry.is_valid.head()\n",
        "\n",
        "## is_valid는 도형이 유효한지를 검사할 때 사용한다. \n",
        "## 공간데이터는 좌표나 제작 출처에 따라서 조금씩 모양이 다르기도하고, \n",
        "## 삐져나오거나 마감처리가 잘 안되어 있거나 한 경우가 있는데 처리하지 않으면 에러가 난다.\n",
        "\n",
        "## index1의 객체가 유효하지 않다고 나와있다."
      ],
      "metadata": {
        "colab": {
          "base_uri": "https://localhost:8080/"
        },
        "id": "QQ2oLfjUH8YH",
        "outputId": "cf1a18e7-487c-4662-af65-ec7b8393b17e"
      },
      "execution_count": 57,
      "outputs": [
        {
          "output_type": "execute_result",
          "data": {
            "text/plain": [
              "0     True\n",
              "1    False\n",
              "2     True\n",
              "3     True\n",
              "4     True\n",
              "dtype: bool"
            ]
          },
          "metadata": {},
          "execution_count": 57
        }
      ]
    },
    {
      "cell_type": "markdown",
      "source": [
        "## 공간 관계\n",
        "\n",
        "1. `within` : 포함되는지 여부\n",
        "2. `contain` : 포함하고 있는지 여부\n",
        "3. `intersects` : 교차하는지 여부(경계에 닿아 있기만 해도됨)\n",
        "4. `crosses` : 교차하는지 여부(내부를 지나야 함)\n",
        "5. `distance` : 두 공간 사이의 직선(최단)거리를 계산"
      ],
      "metadata": {
        "id": "47oyeRAmWg7a"
      }
    },
    {
      "cell_type": "markdown",
      "source": [
        "### within과 contain"
      ],
      "metadata": {
        "id": "k5lAGZBxWtih"
      }
    },
    {
      "cell_type": "code",
      "source": [
        "ax = seoul_area.plot(column = 'SGG_NM', figsize = (7, 7), alpha = .8)\n",
        "pt_119.plot(ax = ax, marker = 'v', color = 'black', label = 'Firestation')\n",
        "ax.set_title(\"Seoul\", fontsize = 20)\n",
        "ax.set_axis_off()\n",
        "plt.legend()\n",
        "plt.show()"
      ],
      "metadata": {
        "colab": {
          "base_uri": "https://localhost:8080/",
          "height": 372
        },
        "id": "o5aJ2zLSH8aY",
        "outputId": "91782e47-b716-45b8-96e4-a57503b1030d"
      },
      "execution_count": 61,
      "outputs": [
        {
          "output_type": "display_data",
          "data": {
            "text/plain": [
              "<Figure size 504x504 with 1 Axes>"
            ],
            "image/png": "[encoded data removed]"
          },
          "metadata": {}
        }
      ]
    },
    {
      "cell_type": "markdown",
      "source": [
        "`within`과 `contains`는 어법이 반대인 것만 빼면 같은 함수라 할 수 있고, 같은 결과를 반환한다."
      ],
      "metadata": {
        "id": "bQ73gDTjXRpW"
      }
    },
    {
      "cell_type": "code",
      "source": [
        "# 고덕119안전센터는 강동구 안에 있다.\n",
        "print(pt_119.geometry[17].within(seoul_area.geometry[0]))\n",
        "\n",
        "# 강동구 안에는 고덕119안전센터가 있다.\n",
        "print(seoul_area.geometry[0].contains(pt_119.geometry[17]))"
      ],
      "metadata": {
        "colab": {
          "base_uri": "https://localhost:8080/"
        },
        "id": "zRhg-4LVWUxA",
        "outputId": "d2c0341f-26e4-4ff5-f4b7-c5f62971f815"
      },
      "execution_count": 63,
      "outputs": [
        {
          "output_type": "stream",
          "name": "stdout",
          "text": [
            "True\n",
            "True\n"
          ]
        }
      ]
    },
    {
      "cell_type": "markdown",
      "source": [
        "두 함수 모두 1:1 또는 N:1 관계만 입력 가능하고 1:N은 입력이 불가능하다. 따라서 경우에 따라 두 함수 모두 필요할 때가 있다.\n",
        "\n",
        "- 서울시 119안전센터(N) 중, 강동구(1)에 포함되는 곳은? : `within`\n",
        "\n",
        "- 서울시 시군구(N) 중, 고덕안전센터(1)를 포함하는 곳은? : `contains`"
      ],
      "metadata": {
        "id": "uq6qVojhXk0s"
      }
    },
    {
      "cell_type": "markdown",
      "source": [
        "### intersects, crosses"
      ],
      "metadata": {
        "id": "YeHCU_pZX1cN"
      }
    },
    {
      "cell_type": "code",
      "source": [
        "# 강동구와 송파구는 맞닿아 있다.\n",
        "print(seoul_area.geometry[1].intersects(seoul_area.geometry[1]))\n",
        "\n",
        "# 하지만 cross 되지는 않는다.\n",
        "print(seoul_area.geometry[1].crosses(seoul_area.geometry[1]))"
      ],
      "metadata": {
        "colab": {
          "base_uri": "https://localhost:8080/"
        },
        "id": "sznZ03dYWUzu",
        "outputId": "7b7d2d11-49a0-42a9-bff2-ddaca6ad03c2"
      },
      "execution_count": 64,
      "outputs": [
        {
          "output_type": "stream",
          "name": "stdout",
          "text": [
            "True\n",
            "False\n"
          ]
        }
      ]
    },
    {
      "cell_type": "markdown",
      "source": [
        "이러한 공간 데이터 간의 관계를 이용해서 다양한 활용이 가능하다.\n",
        "\n",
        "예를들어, 서울시 양천구 내의 소방안전센터 정보를 인덱싱해보자."
      ],
      "metadata": {
        "id": "w4Ft1-PVYCma"
      }
    },
    {
      "cell_type": "code",
      "source": [
        "yangcheon = seoul_area.loc[seoul_area['SGG_NM'] == '양천구', 'geometry'].iloc[0]\n",
        "select_pt = pt_119[pt_119.within(yangcheon)] # 양천구 안에 있는 소방안전센터\n",
        "select_pt # 총 6개의 안전세터가 존재"
      ],
      "metadata": {
        "colab": {
          "base_uri": "https://localhost:8080/",
          "height": 237
        },
        "id": "JykF6S3bWU1y",
        "outputId": "28c28058-6272-49bd-c8cb-b6249a7df40d"
      },
      "execution_count": 65,
      "outputs": [
        {
          "output_type": "execute_result",
          "data": {
            "text/plain": [
              "    고유번호     센터ID         센터명         위도          경도  \\\n",
              "0     21  1121101   양천119안전센터  37.527161  126.869452   \n",
              "24    31  1121105  신트리119안전센터  37.513474  126.851577   \n",
              "47     1  1121102   신정119안전센터  37.520698  126.851035   \n",
              "66    65  1121104   신월119안전센터  37.528035  126.831056   \n",
              "74    74  1121103   목동119안전센터  37.540990  126.876401   \n",
              "101   96  1117104   발산119안전센터  37.546084  126.829698   \n",
              "\n",
              "                           geometry  \n",
              "0    POINT (944285.708 1947726.391)  \n",
              "24   POINT (942695.842 1946218.671)  \n",
              "47   POINT (942653.462 1947020.444)  \n",
              "66   POINT (940893.780 1947846.771)  \n",
              "74   POINT (944909.865 1949256.533)  \n",
              "101  POINT (940788.072 1949850.110)  "
            ],
            "text/html": [
              "\n",
              "  <div id=\"df-ebe485a8-ca5e-472b-bd01-609f446238d2\">\n",
              "    <div class=\"colab-df-container\">\n",
              "      <div>\n",
              "<style scoped>\n",
              "    .dataframe tbody tr th:only-of-type {\n",
              "        vertical-align: middle;\n",
              "    }\n",
              "\n",
              "    .dataframe tbody tr th {\n",
              "        vertical-align: top;\n",
              "    }\n",
              "\n",
              "    .dataframe thead th {\n",
              "        text-align: right;\n",
              "    }\n",
              "</style>\n",
              "<table border=\"1\" class=\"dataframe\">\n",
              "  <thead>\n",
              "    <tr style=\"text-align: right;\">\n",
              "      <th></th>\n",
              "      <th>고유번호</th>\n",
              "      <th>센터ID</th>\n",
              "      <th>센터명</th>\n",
              "      <th>위도</th>\n",
              "      <th>경도</th>\n",
              "      <th>geometry</th>\n",
              "    </tr>\n",
              "  </thead>\n",
              "  <tbody>\n",
              "    <tr>\n",
              "      <th>0</th>\n",
              "      <td>21</td>\n",
              "      <td>1121101</td>\n",
              "      <td>양천119안전센터</td>\n",
              "      <td>37.527161</td>\n",
              "      <td>126.869452</td>\n",
              "      <td>POINT (944285.708 1947726.391)</td>\n",
              "    </tr>\n",
              "    <tr>\n",
              "      <th>24</th>\n",
              "      <td>31</td>\n",
              "      <td>1121105</td>\n",
              "      <td>신트리119안전센터</td>\n",
              "      <td>37.513474</td>\n",
              "      <td>126.851577</td>\n",
              "      <td>POINT (942695.842 1946218.671)</td>\n",
              "    </tr>\n",
              "    <tr>\n",
              "      <th>47</th>\n",
              "      <td>1</td>\n",
              "      <td>1121102</td>\n",
              "      <td>신정119안전센터</td>\n",
              "      <td>37.520698</td>\n",
              "      <td>126.851035</td>\n",
              "      <td>POINT (942653.462 1947020.444)</td>\n",
              "    </tr>\n",
              "    <tr>\n",
              "      <th>66</th>\n",
              "      <td>65</td>\n",
              "      <td>1121104</td>\n",
              "      <td>신월119안전센터</td>\n",
              "      <td>37.528035</td>\n",
              "      <td>126.831056</td>\n",
              "      <td>POINT (940893.780 1947846.771)</td>\n",
              "    </tr>\n",
              "    <tr>\n",
              "      <th>74</th>\n",
              "      <td>74</td>\n",
              "      <td>1121103</td>\n",
              "      <td>목동119안전센터</td>\n",
              "      <td>37.540990</td>\n",
              "      <td>126.876401</td>\n",
              "      <td>POINT (944909.865 1949256.533)</td>\n",
              "    </tr>\n",
              "    <tr>\n",
              "      <th>101</th>\n",
              "      <td>96</td>\n",
              "      <td>1117104</td>\n",
              "      <td>발산119안전센터</td>\n",
              "      <td>37.546084</td>\n",
              "      <td>126.829698</td>\n",
              "      <td>POINT (940788.072 1949850.110)</td>\n",
              "    </tr>\n",
              "  </tbody>\n",
              "</table>\n",
              "</div>\n",
              "      <button class=\"colab-df-convert\" onclick=\"convertToInteractive('df-ebe485a8-ca5e-472b-bd01-609f446238d2')\"\n",
              "              title=\"Convert this dataframe to an interactive table.\"\n",
              "              style=\"display:none;\">\n",
              "        \n",
              "  <svg xmlns=\"http://www.w3.org/2000/svg\" height=\"24px\"viewBox=\"0 0 24 24\"\n",
              "       width=\"24px\">\n",
              "    <path d=\"M0 0h24v24H0V0z\" fill=\"none\"/>\n",
              "    <path d=\"M18.56 5.44l.94 2.06.94-2.06 2.06-.94-2.06-.94-.94-2.06-.94 2.06-2.06.94zm-11 1L8.5 8.5l.94-2.06 2.06-.94-2.06-.94L8.5 2.5l-.94 2.06-2.06.94zm10 10l.94 2.06.94-2.06 2.06-.94-2.06-.94-.94-2.06-.94 2.06-2.06.94z\"/><path d=\"M17.41 7.96l-1.37-1.37c-.4-.4-.92-.59-1.43-.59-.52 0-1.04.2-1.43.59L10.3 9.45l-7.72 7.72c-.78.78-.78 2.05 0 2.83L4 21.41c.39.39.9.59 1.41.59.51 0 1.02-.2 1.41-.59l7.78-7.78 2.81-2.81c.8-.78.8-2.07 0-2.86zM5.41 20L4 18.59l7.72-7.72 1.47 1.35L5.41 20z\"/>\n",
              "  </svg>\n",
              "      </button>\n",
              "      \n",
              "  <style>\n",
              "    .colab-df-container {\n",
              "      display:flex;\n",
              "      flex-wrap:wrap;\n",
              "      gap: 12px;\n",
              "    }\n",
              "\n",
              "    .colab-df-convert {\n",
              "      background-color: #E8F0FE;\n",
              "      border: none;\n",
              "      border-radius: 50%;\n",
              "      cursor: pointer;\n",
              "      display: none;\n",
              "      fill: #1967D2;\n",
              "      height: 32px;\n",
              "      padding: 0 0 0 0;\n",
              "      width: 32px;\n",
              "    }\n",
              "\n",
              "    .colab-df-convert:hover {\n",
              "      background-color: #E2EBFA;\n",
              "      box-shadow: 0px 1px 2px rgba(60, 64, 67, 0.3), 0px 1px 3px 1px rgba(60, 64, 67, 0.15);\n",
              "      fill: #174EA6;\n",
              "    }\n",
              "\n",
              "    [theme=dark] .colab-df-convert {\n",
              "      background-color: #3B4455;\n",
              "      fill: #D2E3FC;\n",
              "    }\n",
              "\n",
              "    [theme=dark] .colab-df-convert:hover {\n",
              "      background-color: #434B5C;\n",
              "      box-shadow: 0px 1px 3px 1px rgba(0, 0, 0, 0.15);\n",
              "      filter: drop-shadow(0px 1px 2px rgba(0, 0, 0, 0.3));\n",
              "      fill: #FFFFFF;\n",
              "    }\n",
              "  </style>\n",
              "\n",
              "      <script>\n",
              "        const buttonEl =\n",
              "          document.querySelector('#df-ebe485a8-ca5e-472b-bd01-609f446238d2 button.colab-df-convert');\n",
              "        buttonEl.style.display =\n",
              "          google.colab.kernel.accessAllowed ? 'block' : 'none';\n",
              "\n",
              "        async function convertToInteractive(key) {\n",
              "          const element = document.querySelector('#df-ebe485a8-ca5e-472b-bd01-609f446238d2');\n",
              "          const dataTable =\n",
              "            await google.colab.kernel.invokeFunction('convertToInteractive',\n",
              "                                                     [key], {});\n",
              "          if (!dataTable) return;\n",
              "\n",
              "          const docLinkHtml = 'Like what you see? Visit the ' +\n",
              "            '<a target=\"_blank\" href=https://colab.research.google.com/notebooks/data_table.ipynb>data table notebook</a>'\n",
              "            + ' to learn more about interactive tables.';\n",
              "          element.innerHTML = '';\n",
              "          dataTable['output_type'] = 'display_data';\n",
              "          await google.colab.output.renderOutput(dataTable, element);\n",
              "          const docLink = document.createElement('div');\n",
              "          docLink.innerHTML = docLinkHtml;\n",
              "          element.appendChild(docLink);\n",
              "        }\n",
              "      </script>\n",
              "    </div>\n",
              "  </div>\n",
              "  "
            ]
          },
          "metadata": {},
          "execution_count": 65
        }
      ]
    },
    {
      "cell_type": "markdown",
      "source": [
        "### distance\n",
        "\n",
        "distance는 점과 다각형, 라인 등 두 공간 사이의 직선거리를 계산해준다.\n",
        "\n",
        "위에서 찾은 안전센터중, 양천안전센터와 발산안전센터 사이의 거리를 구해보자."
      ],
      "metadata": {
        "id": "Mux0Tsj4YeWz"
      }
    },
    {
      "cell_type": "code",
      "source": [
        "# distance\n",
        "\n",
        "dist = select_pt['geometry'].loc[0].distance(select_pt['geometry'].loc[101])\n",
        "\n",
        "print(\"약 %s m\" % round(dist))"
      ],
      "metadata": {
        "colab": {
          "base_uri": "https://localhost:8080/"
        },
        "id": "7Y0_Hv5zWULn",
        "outputId": "1ce82311-709e-49b2-9a1e-c905fc1727b8"
      },
      "execution_count": 67,
      "outputs": [
        {
          "output_type": "stream",
          "name": "stdout",
          "text": [
            "약 4092 m\n"
          ]
        }
      ]
    },
    {
      "cell_type": "markdown",
      "source": [
        "## 3. 공간 연산 및 변형\n",
        "\n",
        "1. `buffer` : 주어진 거리 내의 모든 점을 이어 Polygon을 만들고 주어진 거리만큼 확장한다.\n",
        "2. `envelope` : Polygon을 감싸는 가장 작은 사각형 Polygon 객체를 만든다.\n",
        "3. `convexhull` : Polygon에 대하여 convex-hull(블록껍질)을 만든다.\n",
        "4. `unary_union` : 여러 공간 데이터의 합집합을 구한다.\n",
        "5. `dissolve` : 합집합을 구한다(groupby 기능이 포함)\n",
        "6. `overlay` : 합집합, 차집합, 교집합 등 공간 연산 기능을 제공한다.\n",
        "\n",
        "`buffer` 는 객체 타입에 상관없이 해당 객체를 감싸는 원형의 반경을 생성해내고, `envelope`은 Polygon 타입에 대하여 사각형 형태의 반경을 만들어낸다."
      ],
      "metadata": {
        "id": "NRTx-C3xYwaI"
      }
    },
    {
      "cell_type": "markdown",
      "source": [
        "### buffer, envelope"
      ],
      "metadata": {
        "id": "oO5Zohn-ZPae"
      }
    },
    {
      "cell_type": "code",
      "source": [
        "yangcheon = pt_119.geometry.iloc[0]\n",
        "\n",
        "ax = gpd.GeoSeries(yangcheon.buffer(500).envelope).plot(color = 'skyblue') # envelope\n",
        "gpd.GeoSeries(yangcheon.buffer(500)).plot(color = 'pink', ax = ax) # buffer\n",
        "gpd.GeoSeries(yangcheon).plot(figsize = (6, 6), color = 'black', ax = ax)\n",
        "\n",
        "plt.title(\"buffer & envelope\")\n",
        "plt.text(yangcheon.x+100, yangcheon.y, \"500m\", fontsize = 15)\n",
        "plt.show()"
      ],
      "metadata": {
        "colab": {
          "base_uri": "https://localhost:8080/",
          "height": 313
        },
        "id": "f_m2mTQwYbXv",
        "outputId": "495c1840-db6f-43f2-9c5a-901eee680959"
      },
      "execution_count": 68,
      "outputs": [
        {
          "output_type": "stream",
          "name": "stderr",
          "text": [
            "findfont: Font family ['NanumBarunGothic'] not found. Falling back to DejaVu Sans.\n",
            "findfont: Font family ['NanumBarunGothic'] not found. Falling back to DejaVu Sans.\n"
          ]
        },
        {
          "output_type": "display_data",
          "data": {
            "text/plain": [
              "<Figure size 432x288 with 1 Axes>"
            ],
            "image/png": "[encoded data removed]"
          },
          "metadata": {}
        }
      ]
    },
    {
      "cell_type": "markdown",
      "source": [
        "따라서 위와 같은 관계이며, Point에 대하여 500m에 해당하는 사각형 반경을 만들었다고 볼 수 있다.\n",
        "\n",
        "초기점에 대하여 grid를 만드는데 유용하게 사용된다.\n",
        "\n",
        "\n",
        "추가적으로, 위에서 `is_valid`를 통해 송파구가 유효하지 않은 객체임을 확인했다. shapefile의 경우 면이나 선의 경계 등이 깔끔하게 정리되어 있지 않은 경우가 많다. 이를 Topology Error라고 부르며, 다양한 처리방식이 존재한다."
      ],
      "metadata": {
        "id": "GwRIZh9eZtnN"
      }
    },
    {
      "cell_type": "code",
      "source": [
        "invalid_area = seoul_area.iloc[[1]]\n",
        "\n",
        "print(invalid_area.is_valid)\n",
        "print(invalid_area.buffer(0).is_valid)  ## buffer로 보정 한 후, valid한 데이터를 확인"
      ],
      "metadata": {
        "colab": {
          "base_uri": "https://localhost:8080/"
        },
        "id": "R04lFhLyYbaX",
        "outputId": "19dcb17a-4a90-4756-cf3e-f4c55faed6f3"
      },
      "execution_count": 69,
      "outputs": [
        {
          "output_type": "stream",
          "name": "stdout",
          "text": [
            "1    False\n",
            "dtype: bool\n",
            "1    True\n",
            "dtype: bool\n"
          ]
        }
      ]
    },
    {
      "cell_type": "markdown",
      "source": [
        "### convexhull\n",
        "\n",
        "`convexhull`이란 2차원 평면상에 여러개의 점이 있을 때, 일부를 이용하여 내부에 모든 점을 포함시키는 다각형을 만드는 것을 의미한다."
      ],
      "metadata": {
        "id": "lZSvQlFcaIE2"
      }
    },
    {
      "cell_type": "code",
      "source": [
        "# 강동구 Polygon으로 확인\n",
        "\n",
        "gangdong = seoul_area.iloc[[0]]\n",
        "\n",
        "ax = gangdong.convex_hull.plot(color = 'black')\n",
        "gangdong.plot(ax = ax, figsize = (5, 5), color = 'pink')\n",
        "plt.title('Convex_hull')\n",
        "plt.show()"
      ],
      "metadata": {
        "colab": {
          "base_uri": "https://localhost:8080/",
          "height": 278
        },
        "id": "aIutwC1QYbcf",
        "outputId": "9a9eee17-e812-4877-87ac-0921d3977f10"
      },
      "execution_count": 70,
      "outputs": [
        {
          "output_type": "display_data",
          "data": {
            "text/plain": [
              "<Figure size 432x288 with 1 Axes>"
            ],
            "image/png": "[encoded data removed]"
          },
          "metadata": {}
        }
      ]
    },
    {
      "cell_type": "code",
      "source": [
        ""
      ],
      "metadata": {
        "id": "rYR_Y7p9Ybev"
      },
      "execution_count": null,
      "outputs": []
    },
    {
      "cell_type": "code",
      "source": [
        ""
      ],
      "metadata": {
        "id": "C0CC98bGYbhH"
      },
      "execution_count": null,
      "outputs": []
    },
    {
      "cell_type": "code",
      "source": [
        ""
      ],
      "metadata": {
        "id": "CTWItqxZYbjf"
      },
      "execution_count": null,
      "outputs": []
    }
  ]
}