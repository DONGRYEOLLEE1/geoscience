{
 "cells": [
  {
   "cell_type": "code",
   "execution_count": 3,
   "id": "b454a376",
   "metadata": {},
   "outputs": [
    {
     "name": "stdout",
     "output_type": "stream",
     "text": [
      "Python 3.9.12\n"
     ]
    }
   ],
   "source": [
    "!python --version"
   ]
  },
  {
   "cell_type": "code",
   "execution_count": 18,
   "id": "178edc8e",
   "metadata": {},
   "outputs": [],
   "source": [
    "import pandas as pd\n",
    "import numpy as np\n",
    "import matplotlib.pyplot as plt\n",
    "plt.style.use('ggplot')"
   ]
  },
  {
   "cell_type": "markdown",
   "id": "451117b8",
   "metadata": {},
   "source": [
    "## 이항분포"
   ]
  },
  {
   "cell_type": "code",
   "execution_count": 2,
   "id": "1608d4da",
   "metadata": {},
   "outputs": [
    {
     "data": {
      "text/plain": [
       "0.50046"
      ]
     },
     "execution_count": 2,
     "metadata": {},
     "output_type": "execute_result"
    }
   ],
   "source": [
    "test = np.random.binomial(1, 0.5, 100000)\n",
    "(test == 1).mean()\n",
    "\n",
    "## array의 평균값을 구하면 이항 분포의 기댓값(평균)이 된다.\n",
    "## n = 1, p = 0.5이므로 평균은 np = 1*0.5 = 0.5"
   ]
  },
  {
   "cell_type": "code",
   "execution_count": 3,
   "id": "fce86526",
   "metadata": {},
   "outputs": [
    {
     "data": {
      "text/plain": [
       "array([0, 1, 1, ..., 1, 0, 0])"
      ]
     },
     "execution_count": 3,
     "metadata": {},
     "output_type": "execute_result"
    }
   ],
   "source": [
    "test"
   ]
  },
  {
   "cell_type": "code",
   "execution_count": 4,
   "id": "d321e462",
   "metadata": {},
   "outputs": [
    {
     "data": {
      "text/plain": [
       "0.17863"
      ]
     },
     "execution_count": 4,
     "metadata": {},
     "output_type": "execute_result"
    }
   ],
   "source": [
    "# n = 10, p = 0.15 / 100000번 반복 시행\n",
    "test = np.random.binomial(10, 0.15, 100000)\n",
    "\n",
    "# 앞면이 3번 이상 나올 확률\n",
    "(test >= 3).mean()\n",
    "\n",
    "\n",
    "## 앞면이 3버 이상 나올 확률은 전체확률에서 앞면이 2번 이하 나올 확률을 빼면 된다.\n",
    "## 1 - P(X<=2) = 1- {P(X=0) + P(X=1) + P(X=2)}"
   ]
  },
  {
   "cell_type": "markdown",
   "id": "285e47f9",
   "metadata": {},
   "source": [
    "## 베이즈 추정\n",
    "\n",
    "- 추론 대상의 사전 확률과 추가적인 정보를 기반으로 해당 대상의 사후 확률을 추론하는 통계적 방법을 베이즈추정이라고 한다.\n",
    "\n",
    "\n",
    "![ㅇㅇ](https://wikimedia.org/api/rest_v1/media/math/render/svg/a9deb72fb98d404146f831e7ba2aa03100cbfc8e)"
   ]
  },
  {
   "cell_type": "code",
   "execution_count": 5,
   "id": "9352cac4",
   "metadata": {},
   "outputs": [
    {
     "data": {
      "text/html": [
       "<div>\n",
       "<style scoped>\n",
       "    .dataframe tbody tr th:only-of-type {\n",
       "        vertical-align: middle;\n",
       "    }\n",
       "\n",
       "    .dataframe tbody tr th {\n",
       "        vertical-align: top;\n",
       "    }\n",
       "\n",
       "    .dataframe thead th {\n",
       "        text-align: right;\n",
       "    }\n",
       "</style>\n",
       "<table border=\"1\" class=\"dataframe\">\n",
       "  <thead>\n",
       "    <tr style=\"text-align: right;\">\n",
       "      <th></th>\n",
       "      <th>patient_id</th>\n",
       "      <th>test_result</th>\n",
       "      <th>has_cancer</th>\n",
       "    </tr>\n",
       "  </thead>\n",
       "  <tbody>\n",
       "    <tr>\n",
       "      <th>0</th>\n",
       "      <td>79452</td>\n",
       "      <td>Negative</td>\n",
       "      <td>False</td>\n",
       "    </tr>\n",
       "    <tr>\n",
       "      <th>1</th>\n",
       "      <td>81667</td>\n",
       "      <td>Positive</td>\n",
       "      <td>True</td>\n",
       "    </tr>\n",
       "    <tr>\n",
       "      <th>2</th>\n",
       "      <td>76297</td>\n",
       "      <td>Negative</td>\n",
       "      <td>False</td>\n",
       "    </tr>\n",
       "    <tr>\n",
       "      <th>3</th>\n",
       "      <td>36593</td>\n",
       "      <td>Negative</td>\n",
       "      <td>False</td>\n",
       "    </tr>\n",
       "    <tr>\n",
       "      <th>4</th>\n",
       "      <td>53717</td>\n",
       "      <td>Negative</td>\n",
       "      <td>False</td>\n",
       "    </tr>\n",
       "  </tbody>\n",
       "</table>\n",
       "</div>"
      ],
      "text/plain": [
       "   patient_id test_result  has_cancer\n",
       "0       79452    Negative       False\n",
       "1       81667    Positive        True\n",
       "2       76297    Negative       False\n",
       "3       36593    Negative       False\n",
       "4       53717    Negative       False"
      ]
     },
     "execution_count": 5,
     "metadata": {},
     "output_type": "execute_result"
    }
   ],
   "source": [
    "import pandas as pd\n",
    "df = pd.read_csv('cancer_test_data.csv')\n",
    "df.head()"
   ]
  },
  {
   "cell_type": "code",
   "execution_count": 6,
   "id": "802811d9",
   "metadata": {},
   "outputs": [
    {
     "data": {
      "text/plain": [
       "0.34282178217821785"
      ]
     },
     "execution_count": 6,
     "metadata": {},
     "output_type": "execute_result"
    }
   ],
   "source": [
    "## 양성 판정 받은 사람 중 암 환자일 확률 : P(C|P)\n",
    "\n",
    "df.query('test_result == \"Positive\"').has_cancer.mean()"
   ]
  },
  {
   "cell_type": "code",
   "execution_count": 7,
   "id": "df165fee",
   "metadata": {},
   "outputs": [
    {
     "data": {
      "text/plain": [
       "0.6571782178217822"
      ]
     },
     "execution_count": 7,
     "metadata": {},
     "output_type": "execute_result"
    }
   ],
   "source": [
    "# 양성 판정 받은 사람 중 암 환자가 아닐 확률: P(~C|P)\n",
    "\n",
    "(df.query('test_result == \"Positive\"')['has_cancer'] == False).mean()"
   ]
  },
  {
   "cell_type": "code",
   "execution_count": 8,
   "id": "2ad99304",
   "metadata": {},
   "outputs": [
    {
     "data": {
      "text/plain": [
       "0.013770180436847104"
      ]
     },
     "execution_count": 8,
     "metadata": {},
     "output_type": "execute_result"
    }
   ],
   "source": [
    "## 음성 판정 받은 사람 중 암 환자일 확률 : P(C|N)\n",
    "df.query('test_result == \"Negative\"').has_cancer.mean()"
   ]
  },
  {
   "cell_type": "code",
   "execution_count": 9,
   "id": "45deabd9",
   "metadata": {},
   "outputs": [
    {
     "data": {
      "text/plain": [
       "0.9862298195631529"
      ]
     },
     "execution_count": 9,
     "metadata": {},
     "output_type": "execute_result"
    }
   ],
   "source": [
    "# 음성 판정 받은 사람 중 암 환자가 아닐 확률: P(~C|N)\n",
    "(df.query('test_result == \"Negative\"')['has_cancer'] == False).mean()"
   ]
  },
  {
   "cell_type": "markdown",
   "id": "92cedee9",
   "metadata": {},
   "source": [
    "## 확률 변수, 확률 분포, 확률 표본, 표본 분포\n",
    "\n",
    "- 관심 대상인 모집단의 특성에 대해 알고자 할때, 모집단 전체를 관찰할 수 없다. 따라서 모집단으로부터 그 일부를 무작위로 뽑아 관측한 결과로부터 모집단 전체의 특성, 즉 모수(Parameter)를 추론하게 되는데, 이렇게 뽑은 모집단의 일부를 표본(Sample)이라고 한다. 추론에는 통계량(Statistic)이라 불리는 표본의 함수가 사용되는데, 통계량의 분포, 즉  표본 분포를 알아야 한다.\n",
    "\n",
    "- **확률 변수Random Variable**란 무작위 실험을 했을 때, 특정 확률로 발생하는 각각의 결과를 수치 값으로 표현한 변수를 말한다. 그리고 **확률 분포Probability Distribution**란 확률 변수 X의 모든 값과 그에 대응하는 확률 값들의 분포를 말한다. 확률변수 X의 확률분포함수를 F라 하고, F 자체나 F의 모수를 모를 때, X의 관측값들을 통해 모수를 추론하게 된다.\n",
    "\n",
    "- 만약 독립적으로 관측하여 얻는 n개의 값을 X1, X2, ..., Xn으로 나타낸다면 이들은 서로 독립(independent)이고 X와 같은 분포 F를 따르게(identically distributed) 될 것이다. \n",
    "> 이를 동일분포, 독립분포라고 하며 줄여서 iid(independent, identically distributed)라고 표기한다.\n",
    "- 이때 X1, X2, ..., Xn을 확률변수 X에 대한 크기 n인 **확률분포Random Sample**이라고 한다.\n",
    "\n",
    "- 통계량을 이용하여 모수에 대한 통계적 추론을 하게 되는데 이를 위해서는 통계량이 어떤 분포를 따르는지 알아야 한다. 이때 통계량의 분포를 **표본분포Sampling Distribution**이라고 한다.\n"
   ]
  },
  {
   "cell_type": "markdown",
   "id": "6c359515",
   "metadata": {},
   "source": [
    "- 정규분포를 따르는 모집단으로부터 크기 n인 표본을 추출하여 구한 표본평균의 평균과 분산은 아래와 같다.\n",
    "\n",
    "![ㅇㅇ](https://img1.daumcdn.net/thumb/R1280x0/?scode=mtistory2&fname=https%3A%2F%2Fblog.kakaocdn.net%2Fdn%2FNVzpy%2FbtqCqNQfLKg%2F8BEri93or5DQh8mFkEgkC0%2Fimg.png)"
   ]
  },
  {
   "cell_type": "markdown",
   "id": "d3df95ba",
   "metadata": {},
   "source": [
    "## 대수의 법칙 Law of Large Numbers\n",
    "\n",
    "- 대수의 법칙(=라플라스의 정리)이란 표본의 수가 많을수록(=n이 클수록) 표본평균이 모평균에 가까워진다는 이론"
   ]
  },
  {
   "cell_type": "code",
   "execution_count": 10,
   "id": "c2deea4c",
   "metadata": {},
   "outputs": [
    {
     "data": {
      "text/plain": [
       "99.91468552591819"
      ]
     },
     "execution_count": 10,
     "metadata": {},
     "output_type": "execute_result"
    }
   ],
   "source": [
    "## gamma분포로부터 무작위 표본 추출\n",
    "pop_data = np.random.gamma(1, 100, 3000)\n",
    "\n",
    "## 모평균\n",
    "pop_data.mean()"
   ]
  },
  {
   "cell_type": "code",
   "execution_count": 11,
   "id": "e1efe863",
   "metadata": {},
   "outputs": [
    {
     "data": {
      "text/plain": [
       "64.25912076789241"
      ]
     },
     "execution_count": 11,
     "metadata": {},
     "output_type": "execute_result"
    }
   ],
   "source": [
    "## 표본 개수가 5, 20, 100, 10000일 때 표본 평균\n",
    "np.random.choice(pop_data, 5).mean()"
   ]
  },
  {
   "cell_type": "code",
   "execution_count": 12,
   "id": "256041bb",
   "metadata": {},
   "outputs": [
    {
     "data": {
      "text/plain": [
       "102.99500009482026"
      ]
     },
     "execution_count": 12,
     "metadata": {},
     "output_type": "execute_result"
    }
   ],
   "source": [
    "np.random.choice(pop_data, 20).mean()"
   ]
  },
  {
   "cell_type": "code",
   "execution_count": 13,
   "id": "8d17c1d6",
   "metadata": {},
   "outputs": [
    {
     "data": {
      "text/plain": [
       "107.5358819774353"
      ]
     },
     "execution_count": 13,
     "metadata": {},
     "output_type": "execute_result"
    }
   ],
   "source": [
    "np.random.choice(pop_data, 100).mean()"
   ]
  },
  {
   "cell_type": "code",
   "execution_count": 14,
   "id": "14aa1038",
   "metadata": {},
   "outputs": [
    {
     "data": {
      "text/plain": [
       "101.67065662515488"
      ]
     },
     "execution_count": 14,
     "metadata": {},
     "output_type": "execute_result"
    }
   ],
   "source": [
    "np.random.choice(pop_data, 10000).mean()"
   ]
  },
  {
   "cell_type": "markdown",
   "id": "05d0124b",
   "metadata": {},
   "source": [
    "## 중심극한정리 Central Limit Theorem\n",
    "\n",
    "- n이 클수록 확률 변수의 평균, Proportion, 평균의 차이, Proportion의 차이의 분포는 정규분포에 가까워진다는 이론.\n",
    "<br></br>\n",
    "- 분산과 correlation에는 적용 x"
   ]
  },
  {
   "cell_type": "code",
   "execution_count": 20,
   "id": "b0308b7b",
   "metadata": {},
   "outputs": [
    {
     "data": {
      "image/png": "[encoded data removed]",
      "text/plain": [
       "<Figure size 432x288 with 1 Axes>"
      ]
     },
     "metadata": {},
     "output_type": "display_data"
    }
   ],
   "source": [
    "means_size_3 = []\n",
    "\n",
    "for i in range(10000):\n",
    "    means_size_3.append(np.random.choice(pop_data, 3).mean())\n",
    "    \n",
    "plt.hist(means_size_3)\n",
    "plt.show()\n",
    "\n",
    "## n = 3인 경우, n이 충분히 크지 않기 때문에 그래프의 형태는 'right-skewed'"
   ]
  },
  {
   "cell_type": "code",
   "execution_count": 24,
   "id": "b47e4b79",
   "metadata": {},
   "outputs": [
    {
     "data": {
      "image/png": "[encoded data removed]",
      "text/plain": [
       "<Figure size 432x288 with 1 Axes>"
      ]
     },
     "metadata": {},
     "output_type": "display_data"
    }
   ],
   "source": [
    "# n = 100인 경우에는 그래프의 형태가 \"정규분포\"에 가까움\n",
    "\n",
    "means_size_100 = []\n",
    "\n",
    "for i in range(10000):\n",
    "    means_size_100.append(np.random.choice(pop_data, 100).mean())\n",
    "    \n",
    "plt.hist(means_size_100)\n",
    "plt.show()"
   ]
  },
  {
   "cell_type": "code",
   "execution_count": 25,
   "id": "8fbebc1d",
   "metadata": {},
   "outputs": [
    {
     "data": {
      "text/plain": [
       "99.91468552591819"
      ]
     },
     "execution_count": 25,
     "metadata": {},
     "output_type": "execute_result"
    }
   ],
   "source": [
    "#  모평균\n",
    "pop_data.mean()"
   ]
  },
  {
   "cell_type": "code",
   "execution_count": 26,
   "id": "bb59a91b",
   "metadata": {},
   "outputs": [
    {
     "data": {
      "text/plain": [
       "99.85875704688951"
      ]
     },
     "execution_count": 26,
     "metadata": {},
     "output_type": "execute_result"
    }
   ],
   "source": [
    "# 표본평균\n",
    "np.mean(means_size_100)"
   ]
  },
  {
   "cell_type": "code",
   "execution_count": 27,
   "id": "12e812d9",
   "metadata": {},
   "outputs": [
    {
     "data": {
      "text/plain": [
       "10353.344543659623"
      ]
     },
     "execution_count": 27,
     "metadata": {},
     "output_type": "execute_result"
    }
   ],
   "source": [
    "#  모분산\n",
    "pop_data.var()"
   ]
  },
  {
   "cell_type": "code",
   "execution_count": 29,
   "id": "9194f7a3",
   "metadata": {},
   "outputs": [
    {
     "data": {
      "text/plain": [
       "104.35920106287705"
      ]
     },
     "execution_count": 29,
     "metadata": {},
     "output_type": "execute_result"
    }
   ],
   "source": [
    "# 표본분산\n",
    "np.var(means_size_100)"
   ]
  },
  {
   "cell_type": "markdown",
   "id": "f8aee760",
   "metadata": {},
   "source": [
    "- n = 100인 경우, 모평균과 표본평균은 거의 일치하고, 표본분산은 모분산의 1/100.\n",
    "- n = 100이기 때문에, 위 공식에 의해 분산 값이 작아짐"
   ]
  },
  {
   "cell_type": "markdown",
   "id": "c178d9e9",
   "metadata": {},
   "source": [
    "## 부트스트랩 Bootstrap\n",
    "\n",
    "- 현재 있는 표본에서 추가적으로 표본을 복원추출하고 각 표본에 대한 통계량을 다시 계산하는 것 (모수의 분포 추정)\n",
    "> 데이터가 정규분포를 따라야 한다는 가정이 꼭 필요하지 않다\n",
    "\n",
    "- 1억개의 모집단에서 뽑은 200개의 표본있다고 가정하자. 200개로만 통계량을 구하는 것이 아니라 200개를 기준으로 복원 추출하여 새로운 통계량을 구하는 것.\n",
    "    - 다음은 부트스트랩으로 신뢰구간을 구하는 절차이다.\n",
    "        1. 200개의 표본 중 하나를 뽑아 기록하고 다시 제자리로 둔다.\n",
    "        2. 이를 n번 만큼 반복한다.\n",
    "        3. n번 재표본추출한 값의 평균을 구한다.\n",
    "        4. 1~3 단계를 R번 반복. (R : 부트스트랩 반복 횟수)\n",
    "        5. 평균에 대한 결과 R개를 사용하여 신뢰구간을 구한다.\n",
    "        \n",
    "- 표본이 200개밖에 없을지라도 부트스트랩을 통해 200개 보다 더 많은 통계량을 구할 수 있다. 따라서 부트스트랩을 활용하면 **모수를 더 정확히 추정**할 수 있다. (특히 R이 클수록 신뢰구간에 대한 추정은 더 정확해진다)"
   ]
  },
  {
   "cell_type": "code",
   "execution_count": 36,
   "id": "17f54d0f",
   "metadata": {},
   "outputs": [
    {
     "data": {
      "text/plain": [
       "['.ipynb_checkpoints',\n",
       " 'cancer_test_data.csv',\n",
       " 'coffee_dataset.csv',\n",
       " 'content',\n",
       " '데이터분석.ipynb']"
      ]
     },
     "execution_count": 36,
     "metadata": {},
     "output_type": "execute_result"
    }
   ],
   "source": [
    "import os\n",
    "os.listdir()"
   ]
  },
  {
   "cell_type": "code",
   "execution_count": 37,
   "id": "0e0574cb",
   "metadata": {
    "collapsed": true
   },
   "outputs": [
    {
     "data": {
      "text/html": [
       "<div>\n",
       "<style scoped>\n",
       "    .dataframe tbody tr th:only-of-type {\n",
       "        vertical-align: middle;\n",
       "    }\n",
       "\n",
       "    .dataframe tbody tr th {\n",
       "        vertical-align: top;\n",
       "    }\n",
       "\n",
       "    .dataframe thead th {\n",
       "        text-align: right;\n",
       "    }\n",
       "</style>\n",
       "<table border=\"1\" class=\"dataframe\">\n",
       "  <thead>\n",
       "    <tr style=\"text-align: right;\">\n",
       "      <th></th>\n",
       "      <th>user_id</th>\n",
       "      <th>age</th>\n",
       "      <th>drinks_coffee</th>\n",
       "      <th>height</th>\n",
       "    </tr>\n",
       "  </thead>\n",
       "  <tbody>\n",
       "    <tr>\n",
       "      <th>0</th>\n",
       "      <td>4509</td>\n",
       "      <td>&lt;21</td>\n",
       "      <td>False</td>\n",
       "      <td>64.538179</td>\n",
       "    </tr>\n",
       "    <tr>\n",
       "      <th>1</th>\n",
       "      <td>1864</td>\n",
       "      <td>&gt;=21</td>\n",
       "      <td>True</td>\n",
       "      <td>65.824249</td>\n",
       "    </tr>\n",
       "    <tr>\n",
       "      <th>2</th>\n",
       "      <td>2060</td>\n",
       "      <td>&lt;21</td>\n",
       "      <td>False</td>\n",
       "      <td>71.319854</td>\n",
       "    </tr>\n",
       "  </tbody>\n",
       "</table>\n",
       "</div>"
      ],
      "text/plain": [
       "   user_id   age  drinks_coffee     height\n",
       "0     4509   <21          False  64.538179\n",
       "1     1864  >=21           True  65.824249\n",
       "2     2060   <21          False  71.319854"
      ]
     },
     "execution_count": 37,
     "metadata": {},
     "output_type": "execute_result"
    }
   ],
   "source": [
    "coffe_data = pd.read_csv('coffee_dataset.csv')"
   ]
  },
  {
   "cell_type": "code",
   "execution_count": 39,
   "id": "37988675",
   "metadata": {},
   "outputs": [
    {
     "data": {
      "text/html": [
       "<div>\n",
       "<style scoped>\n",
       "    .dataframe tbody tr th:only-of-type {\n",
       "        vertical-align: middle;\n",
       "    }\n",
       "\n",
       "    .dataframe tbody tr th {\n",
       "        vertical-align: top;\n",
       "    }\n",
       "\n",
       "    .dataframe thead th {\n",
       "        text-align: right;\n",
       "    }\n",
       "</style>\n",
       "<table border=\"1\" class=\"dataframe\">\n",
       "  <thead>\n",
       "    <tr style=\"text-align: right;\">\n",
       "      <th></th>\n",
       "      <th>user_id</th>\n",
       "      <th>age</th>\n",
       "      <th>drinks_coffee</th>\n",
       "      <th>height</th>\n",
       "    </tr>\n",
       "  </thead>\n",
       "  <tbody>\n",
       "    <tr>\n",
       "      <th>952</th>\n",
       "      <td>3028</td>\n",
       "      <td>&gt;=21</td>\n",
       "      <td>True</td>\n",
       "      <td>68.885329</td>\n",
       "    </tr>\n",
       "    <tr>\n",
       "      <th>834</th>\n",
       "      <td>4260</td>\n",
       "      <td>&gt;=21</td>\n",
       "      <td>True</td>\n",
       "      <td>70.893510</td>\n",
       "    </tr>\n",
       "    <tr>\n",
       "      <th>1186</th>\n",
       "      <td>6749</td>\n",
       "      <td>&lt;21</td>\n",
       "      <td>False</td>\n",
       "      <td>66.439987</td>\n",
       "    </tr>\n",
       "  </tbody>\n",
       "</table>\n",
       "</div>"
      ],
      "text/plain": [
       "      user_id   age  drinks_coffee     height\n",
       "952      3028  >=21           True  68.885329\n",
       "834      4260  >=21           True  70.893510\n",
       "1186     6749   <21          False  66.439987"
      ]
     },
     "execution_count": 39,
     "metadata": {},
     "output_type": "execute_result"
    }
   ],
   "source": [
    "coffee_sample = coffe_data.sample(200)\n",
    "coffee_sample.head(3)"
   ]
  },
  {
   "cell_type": "code",
   "execution_count": 45,
   "id": "47ae7309",
   "metadata": {},
   "outputs": [
    {
     "name": "stdout",
     "output_type": "stream",
     "text": [
      "<class 'pandas.core.frame.DataFrame'>\n",
      "Int64Index: 200 entries, 952 to 270\n",
      "Data columns (total 4 columns):\n",
      " #   Column         Non-Null Count  Dtype  \n",
      "---  ------         --------------  -----  \n",
      " 0   user_id        200 non-null    int64  \n",
      " 1   age            200 non-null    object \n",
      " 2   drinks_coffee  200 non-null    bool   \n",
      " 3   height         200 non-null    float64\n",
      "dtypes: bool(1), float64(1), int64(1), object(1)\n",
      "memory usage: 6.4+ KB\n"
     ]
    }
   ],
   "source": [
    "coffee_sample.info()"
   ]
  },
  {
   "cell_type": "markdown",
   "id": "411b553e",
   "metadata": {},
   "source": [
    "1. 커피를 마시지 않는 사람과 커피를 마시는 사람의 평균 키 차이"
   ]
  },
  {
   "cell_type": "code",
   "execution_count": 80,
   "id": "b84e0c22",
   "metadata": {},
   "outputs": [
    {
     "data": {
      "text/plain": [
       "(0.11274059535126378, 2.72447173112344)"
      ]
     },
     "execution_count": 80,
     "metadata": {},
     "output_type": "execute_result"
    }
   ],
   "source": [
    "diffHeightList = []\n",
    "\n",
    "for _ in range(10000):\n",
    "    bootstrap_sample = coffee_sample.sample(200, replace = True)\n",
    "    YesCoffeeHeight = bootstrap_sample[bootstrap_sample.drinks_coffee == True].height.mean()\n",
    "    NoCoffeeHeight = bootstrap_sample[bootstrap_sample.drinks_coffee == False]['height'].mean()\n",
    "    Diff = YesCoffeeHeight - NoCoffeeHeight\n",
    "    diffHeightList.append(Diff)\n",
    "    \n",
    "# 신뢰수준 99%인 평균 키 차이에 대한 \"신뢰구간\"\n",
    "np.percentile(diffHeightList, 0.5), np.percentile(diffHeightList, 99.5)\n",
    "\n",
    "\n",
    "## 신뢰수준 99% 평균 키 차이의 결과 \"커피를 마시는 사람이 커피를 마시지 않는 사람보다 키가 크다\""
   ]
  },
  {
   "cell_type": "markdown",
   "id": "41b235ce",
   "metadata": {},
   "source": [
    "2. 21살 이상과 21살 미만의 사람들의 평균 키 차이"
   ]
  },
  {
   "cell_type": "code",
   "execution_count": 57,
   "id": "90cf53ec",
   "metadata": {},
   "outputs": [],
   "source": [
    "diffHeightListByAge = []\n",
    "\n",
    "for _ in range(10000):\n",
    "    bootstrap_sample = coffee_sample.sample(200, replace = True)\n",
    "    Over21ByAge = bootstrap_sample[bootstrap_sample.age == \">=21\"]['height'].mean()\n",
    "    Under21ByAge = bootstrap_sample[bootstrap_sample.age == \"<21\"]['height'].mean()\n",
    "    Diff = Over21ByAge - Under21ByAge\n",
    "    diffHeightListByAge.append(Diff)"
   ]
  },
  {
   "cell_type": "code",
   "execution_count": 58,
   "id": "05e5c6e4",
   "metadata": {},
   "outputs": [
    {
     "data": {
      "text/plain": [
       "(3.1771346745952846, 4.896584612298327)"
      ]
     },
     "execution_count": 58,
     "metadata": {},
     "output_type": "execute_result"
    }
   ],
   "source": [
    "# 신뢰수준 99%인 평균 키차이에 대한 신뢰구간\n",
    "np.percentile(diffHeightListByAge, 0.5), np.percentile(diffHeightListByAge, 99.5)\n",
    "\n",
    "\n",
    "### 신뢰수준 99%로 21살 이상이 21살 미만에 비해 키가 크다!"
   ]
  },
  {
   "cell_type": "markdown",
   "id": "afd93502",
   "metadata": {},
   "source": [
    "3. 21살 미만의 사람들 중 커피를 마시지 않는 사람과 커피를 마시는 사람의 평균 키 차이"
   ]
  },
  {
   "cell_type": "code",
   "execution_count": 81,
   "id": "36cd3f76",
   "metadata": {},
   "outputs": [],
   "source": [
    "diffHeightList = []\n",
    "\n",
    "for _ in range(10000):\n",
    "    bootstrap_sample = coffee_sample.sample(200, replace = True)\n",
    "    Under21YesCoffeeHeightMean = bootstrap_sample.query(\"age == '<21' and drinks_coffee == True\").height.mean()\n",
    "    Under21NoCoffeeHeightMean = bootstrap_sample.query(\"age == '<21' and drinks_coffee == False\").height.mean()\n",
    "    diff = Under21NoCoffeeHeightMean - Under21YesCoffeeHeightMean\n",
    "    diffHeightList.append(diff)"
   ]
  },
  {
   "cell_type": "code",
   "execution_count": 82,
   "id": "8447cc73",
   "metadata": {},
   "outputs": [
    {
     "data": {
      "text/plain": [
       "(0.14571885416064675, 2.4747586600482228)"
      ]
     },
     "execution_count": 82,
     "metadata": {},
     "output_type": "execute_result"
    }
   ],
   "source": [
    "# 신뢰수준 99%인 평균 키차이에 대한 신뢰구간\n",
    "np.percentile(diffHeightList, 0.5), np.percentile(diffHeightList, 99.5)"
   ]
  },
  {
   "cell_type": "markdown",
   "id": "1622486d",
   "metadata": {},
   "source": [
    "4. 21살 이상인 사람들 중 커피를 마시지 않는 사람과 커피를 마시는 사람의 평균 키 차이"
   ]
  },
  {
   "cell_type": "code",
   "execution_count": 89,
   "id": "933bbcc9",
   "metadata": {},
   "outputs": [
    {
     "data": {
      "text/plain": [
       "(nan, nan)"
      ]
     },
     "execution_count": 89,
     "metadata": {},
     "output_type": "execute_result"
    }
   ],
   "source": [
    "diffHeightListOver21 = []\n",
    "for _ in range(iterationNum):\n",
    "    bootSample = coffee_sample.sample(200, replace=True) # 복원 추출\n",
    "    nonCoffeeHeightMeanOver21 = bootSample.query(\"age != '<21' and drinks_coffee == False\").height.mean() # 21살 이상이며 커피를 마시지 않는 사람 평균 키\n",
    "    coffeeHeightMeanOver21 = bootSample.query(\"age != '<21' and drinks_coffee == True\").height.mean() # 21살 이상이며 커피를 마시는 사람 평균 키\n",
    "\n",
    "    diff = nonCoffeeHeightMeanOver21 - coffeeHeightMeanOver21\n",
    "    diffHeightListOver21.append(diff)\n",
    "\n",
    "np.percentile(diffHeightListOver21, 0.5), np.percentile(diffHeightListOver21, 99.5)\n",
    "\n",
    "### 신뢰수준 99%인 평균 키차이에 대한 신뢰구간이 다음과 같이 나왔다.\n",
    "### 전체 데이터에서는 커피를 마시는 사람이 커피를 마시지 않는 사람에 비해 평균 키가 컸지만 21살 미만, 이상으로 나누어 계산해보니 모두 커피를 마시지 않는 사람의 평균 키가 컸다.\n",
    "### 이는 \"심슨의 역설\"이다."
   ]
  },
  {
   "cell_type": "markdown",
   "id": "1c2e4f15",
   "metadata": {},
   "source": [
    "### 모수와 부트스트랩 신뢰구간의 비교\n",
    "\n",
    "- 신뢰구간을 통해서도 가설검정을 할 수 있다. 부트스트랩을 통해 신뢰구간을 정하고 관측된 값이 신뢰구간 안에 있으면 해당 가설은 참인 것으로 판정 하는 것.\n",
    "\n",
    "- 데이터를 통해 실제 평균의 차이를 구해 모수가 신뢰구간 안에 있는지 알아보자."
   ]
  },
  {
   "cell_type": "code",
   "execution_count": 79,
   "id": "ad41994a",
   "metadata": {},
   "outputs": [
    {
     "data": {
      "text/plain": [
       "1.9568024933369799"
      ]
     },
     "execution_count": 79,
     "metadata": {},
     "output_type": "execute_result"
    }
   ],
   "source": [
    "## 1. 커피를 마시지 않는 사람과 커피를 마시는 사람의 평균 키 차이 (모집단 평균)\n",
    "df = pd.read_csv('coffee_dataset.csv')\n",
    "\n",
    "df[df['drinks_coffee'] == True].height.mean() - df[df['drinks_coffee'] == False].height.mean()"
   ]
  },
  {
   "cell_type": "code",
   "execution_count": 69,
   "id": "1ddb1b5d",
   "metadata": {},
   "outputs": [
    {
     "data": {
      "text/plain": [
       "3.88229124992111"
      ]
     },
     "execution_count": 69,
     "metadata": {},
     "output_type": "execute_result"
    }
   ],
   "source": [
    "## 2. 21살 이상과 21살 미만의 사람들의 평균 키 차이\n",
    "\n",
    "df[df['age'] == '>=21']['height'].mean() - df[df['age'] == '<21']['height'].mean()"
   ]
  },
  {
   "cell_type": "code",
   "execution_count": 70,
   "id": "a11fca5f",
   "metadata": {},
   "outputs": [
    {
     "data": {
      "text/plain": [
       "1.6993900935511732"
      ]
     },
     "execution_count": 70,
     "metadata": {},
     "output_type": "execute_result"
    }
   ],
   "source": [
    "## 3. 21살 미만인 사람들 중 커피를 마시지 않는 사람과 커피를 마시는 사람의 평균 키 차이\n",
    "\n",
    "df.query(\"age == '<21' and drinks_coffee == False\").height.mean() - df.query(\"age == '<21' and drinks_coffee == True\").height.mean()"
   ]
  },
  {
   "cell_type": "code",
   "execution_count": 92,
   "id": "4aa2110a",
   "metadata": {},
   "outputs": [
    {
     "data": {
      "text/plain": [
       "1.9509354889786579"
      ]
     },
     "execution_count": 92,
     "metadata": {},
     "output_type": "execute_result"
    }
   ],
   "source": [
    "## 4. 21살 이상인 사람들 중 커피를 마시지 않는 사람과 커피를 마시는 사람의 평균 키 차이\n",
    "\n",
    "df.query(\"age != '<21' and drinks_coffee == False\").height.mean() - df.query(\"age != '<21' and drinks_coffee == True\").height.mean()"
   ]
  },
  {
   "cell_type": "markdown",
   "id": "43267b1f",
   "metadata": {},
   "source": [
    "- 각각의 모수 \n",
    "1.9568024933369799 \\\n",
    "3.88229124992111 \\\n",
    "1.6993900935511732 \\\n",
    "1.9509354889786579\n",
    "\n",
    "- 신뢰구간\n",
    "(0.137345845298402, 2.699711565504928) \\\n",
    "(3.1771346745952846, 4.896584612298327) \\\n",
    "(0.14571885416064675, 2.4747586600482228) \\\n",
    "(0.38466991879827656, 3.290024158015461) \n",
    "\n",
    "모수가 부트스트랩 신뢰구간 안에 있음"
   ]
  },
  {
   "cell_type": "code",
   "execution_count": 94,
   "id": "b6d386ad",
   "metadata": {},
   "outputs": [
    {
     "data": {
      "text/plain": [
       "67.59748697307937"
      ]
     },
     "execution_count": 94,
     "metadata": {},
     "output_type": "execute_result"
    }
   ],
   "source": [
    "df = pd.read_csv(\"coffee_dataset.csv\")\n",
    "df.height.mean()"
   ]
  },
  {
   "cell_type": "code",
   "execution_count": null,
   "id": "38271e1b",
   "metadata": {},
   "outputs": [],
   "source": []
  },
  {
   "cell_type": "markdown",
   "id": "9f2683f3",
   "metadata": {},
   "source": [
    "## 최소자승법을 활용한 회귀선Regression line Fitting"
   ]
  },
  {
   "cell_type": "code",
   "execution_count": null,
   "id": "8a727be1",
   "metadata": {},
   "outputs": [],
   "source": [
    "import numpy as np\n",
    "import pandas as pd\n",
    "import statsmodels.api as sm\n",
    "\n",
    "df = pd.read_csv(\"/house_price\")"
   ]
  },
  {
   "cell_type": "code",
   "execution_count": null,
   "id": "eae117aa",
   "metadata": {},
   "outputs": [],
   "source": []
  },
  {
   "cell_type": "code",
   "execution_count": null,
   "id": "49e0fc61",
   "metadata": {},
   "outputs": [],
   "source": []
  }
 ],
 "metadata": {
  "kernelspec": {
   "display_name": "Python 3 (ipykernel)",
   "language": "python",
   "name": "python3"
  },
  "language_info": {
   "codemirror_mode": {
    "name": "ipython",
    "version": 3
   },
   "file_extension": ".py",
   "mimetype": "text/x-python",
   "name": "python",
   "nbconvert_exporter": "python",
   "pygments_lexer": "ipython3",
   "version": "3.9.12"
  }
 },
 "nbformat": 4,
 "nbformat_minor": 5
}
